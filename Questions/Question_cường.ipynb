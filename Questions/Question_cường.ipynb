{
 "cells": [
  {
   "cell_type": "markdown",
   "metadata": {
    "tags": []
   },
   "source": [
    "# Đặt câu hỏi có ý nghĩa cho bộ dữ liệu `Mobilecity`"
   ]
  },
  {
   "cell_type": "markdown",
   "metadata": {},
   "source": [
    "## What is the question?"
   ]
  },
  {
   "cell_type": "markdown",
   "metadata": {},
   "source": [
    "- **Câu hỏi 1**: Màu sắc có ảnh hưởng đến độ hài lòng không?\n",
    "- **Câu hỏi 2**: Hãng điện thoại có ảnh hưởng đến giá cả không?"
   ]
  },
  {
   "cell_type": "markdown",
   "metadata": {},
   "source": [
    "## What are benefits of finding the answer?"
   ]
  },
  {
   "cell_type": "markdown",
   "metadata": {},
   "source": [
    "- **Câu hỏi 1:** Màu sắc có ảnh hưởng đến độ hài lòng không?\n",
    "    - Giúp các nhà sản xuất hiểu rõ hơn về sở thích màu sắc của khách hàng, từ đó cải thiện sản phẩm.\n",
    "    - Định hướng cho các chiến lược marketing tập trung vào màu sắc yêu thích của khách hàng.\n",
    "- **Câu hỏi 2:** Hãng điện thoại có ảnh hưởng đến giá cả không?\n",
    "    - Giúp các nhà bán lẻ hiểu rõ hơn về sự ảnh hưởng của thương hiệu tới giá cả sản phẩm, từ đó tối ưu hóa giá bán.\n",
    "    - Hỗ trợ việc phân khúc thị trường dựa trên mức giá của các hãng khác nhau."
   ]
  },
  {
   "cell_type": "markdown",
   "metadata": {},
   "source": [
    "## How to find the answers of questions by using data?"
   ]
  },
  {
   "cell_type": "markdown",
   "metadata": {},
   "source": [
    "- **Câu hỏi 1:** Màu sắc có ảnh hưởng đến độ hài lòng không?\n",
    "    - Phân tích mối quan hệ giữa màu sắc của sản phẩm và các đánh giá hoặc phản hồi từ khách hàng.\n",
    "    - Sử dụng các thống kê hoặc biểu đồ để thể hiện mức độ hài lòng của khách hàng dựa trên màu sắc.\n",
    "    - Đưa ra câu trả lời\n",
    "\n",
    "- **Câu hỏi 2:** Hãng điện thoại có ảnh hưởng đến giá cả không?\n",
    "    - Phân tích dữ liệu về giá bán của các sản phẩm từ các hãng điện thoại khác nhau.\n",
    "    - Sử dụng các phương pháp phân tích dữ liệu để xác định liệu có mối quan hệ giữa hãng điện thoại và giá cả hay không.\n",
    "    - Đưa ra câu trả lời"
   ]
  }
 ],
 "metadata": {
  "kernelspec": {
   "display_name": "Python 3 (ipykernel)",
   "language": "python",
   "name": "python3"
  },
  "language_info": {
   "codemirror_mode": {
    "name": "ipython",
    "version": 3
   },
   "file_extension": ".py",
   "mimetype": "text/x-python",
   "name": "python",
   "nbconvert_exporter": "python",
   "pygments_lexer": "ipython3",
   "version": "3.10.15"
  }
 },
 "nbformat": 4,
 "nbformat_minor": 4
}
