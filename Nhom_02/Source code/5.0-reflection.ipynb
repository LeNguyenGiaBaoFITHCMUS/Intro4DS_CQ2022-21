{
 "cells": [
  {
   "cell_type": "markdown",
   "metadata": {},
   "source": [
    "<div style=\"text-align: center; background-color: skyblue; font-family: 'Times New Roman', serif; color: white; padding: 20px; font-size: 36px; font-weight: bold; border-radius: 15px; box-shadow: 0px 6px 15px rgba(0, 0, 0, 0.2); transition: all 0.3s ease;\">\n",
    "    INTRODUCTION TO DATA SCIENCE<br>\n",
    "    @ FIT-HCMUS, VNU-HCM<br>\n",
    "    FINAL PROJECT 🏫\n",
    "</div>\n",
    "<style>\n",
    "    div:hover {\n",
    "        transform: scale(1.05);\n",
    "        box-shadow: 0px 10px 20px rgba(0, 0, 0, 0.3);\n",
    "    }\n",
    "</style>"
   ]
  },
  {
   "cell_type": "markdown",
   "metadata": {},
   "source": [
    "<div style=\"text-align: center; background-color: #ADD8E6; font-family: 'Times New Roman', serif; color: white; padding: 20px; font-size: 30px; font-weight: bold; border-radius: 10px; box-shadow: 0px 6px 15px rgba(0, 0, 0, 0.2); transition: all 0.3s ease;\">\n",
    "    THE ANALYSIS OF THE MOBILE PHONE MARKET AT MOBILE CITY STORE\n",
    "</div>\n",
    "<style>\n",
    "    div:hover {\n",
    "        transform: scale(1.05);\n",
    "        box-shadow: 0px 10px 20px rgba(0, 0, 0, 0.3);\n",
    "    }\n",
    "</style>\n"
   ]
  },
  {
   "cell_type": "markdown",
   "metadata": {},
   "source": [
    "---"
   ]
  },
  {
   "cell_type": "markdown",
   "metadata": {},
   "source": [
    "\n",
    "\n",
    "<div style=\"text-align: center; background-color: #ADD8E6; font-family: 'Times New Roman', serif; color: white; padding: 25px; font-size: 20px; font-weight: bold; border-radius: 10px; box-shadow: 0px 6px 15px rgba(0, 0, 0, 0.2); transition: all 0.3s ease;\">\n",
    "    REFLECTION\n",
    "</div>\n",
    "<style>\n",
    "    div:hover {\n",
    "        opacity: 0.8;\n",
    "    }\n",
    "</style>"
   ]
  },
  {
   "cell_type": "markdown",
   "metadata": {},
   "source": [
    "---"
   ]
  },
  {
   "cell_type": "markdown",
   "metadata": {},
   "source": [
    "## Một số đánh giá chung về kết quả mà nhóm đã thực hiện:\n",
    "\n",
    "#### **Những giai đoạn trong quá trình nghiên cứu khoa học dữ liệu:**\n",
    "Nhóm đã hoàn thành tất cả các giai đoạn trong đề tài, bao gồm:\n",
    "- **Thu thập dữ liệu:** Thu thập dữ liệu thực tế từ các nguồn khác nhau bằng cách sử dụng các công cụ như Selenium và API.\n",
    "- **Tiền xử lý dữ liệu:** Xử lý dữ liệu để đảm bảo tính toàn vẹn, sửa các giá trị bị thiếu và định dạng lại dữ liệu để phù hợp với mô hình.\n",
    "- **Khám phá dữ liệu:** Sử dụng các kỹ thuật thống kê mô tả và trực quan hóa dữ liệu để hiểu rõ hơn về đặc điểm và phân phối của dữ liệu.\n",
    "- **Đặt câu hỏi ý nghĩa:** Đặt ra và trả lời 7 câu hỏi cụ thể nhằm khai thác các thông tin hữu ích từ dữ liệu.\n",
    "- **Xây dựng mô hình và đánh giá:** Áp dụng 3 thuật toán học máy (machine learning), tối ưu hóa tham số, và so sánh các mô hình để chọn ra kết quả tốt nhất.\n",
    "- **Trình bày kết quả:** Sử dụng các biểu đồ trực quan và thuyết minh chi tiết để trình bày kết quả trong báo cáo và slide thuyết trình.\n",
    "\n",
    "#### **Hoàn thành các tiêu chí của đề tài**\n",
    "Nhóm đã đáp ứng đầy đủ các tiêu chí được yêu cầu:\n",
    "- **Quy trình khoa học dữ liệu:** Từ thu thập, tiền xử lý đến phân tích và mô hình hóa dữ liệu.\n",
    "- **Đặt câu hỏi và trích xuất insight:** Đặt 7 câu hỏi ý nghĩa và trả lời chúng thông qua phân tích dữ liệu.\n",
    "- **So sánh các phương pháp:** Đánh giá và so sánh nhiều thuật toán khác nhau để chọn ra phương pháp hiệu quả nhất.\n",
    "- **Trình bày rõ ràng:** Cung cấp các biểu đồ trực quan hóa và giải thích kết quả một cách mạch lạc, dễ hiểu.\n",
    "\n",
    "#### **Đánh giá tiến độ công việc**\n",
    "Nhóm đã hoàn thành tất cả các tiến độ công việc theo đúng kế hoạch đã đặt ra. Các thành viên làm việc hiệu quả và đảm bảo tiến độ ở từng giai đoạn. Điều này được thể hiện qua lịch sử commit trên GitHub và sự phối hợp nhịp nhàng giữa các thành viên.\n",
    "\n",
    "#### **Nhận xét về kết quả đạt được**\n",
    "Kết quả của đề tài đã là tốt nhất trong khả năng hiện tại của nhóm. Điều này có được nhờ sự hợp tác chặt chẽ giữa các thành viên, sự nỗ lực của cả nhóm, và sự hướng dẫn tận tình từ các thầy. Chúng tôi tự hào về những gì đã đạt được và tin rằng đây là một cột mốc quan trọng trong quá trình học tập và nghiên cứu của mình.\n"
   ]
  },
  {
   "cell_type": "markdown",
   "metadata": {},
   "source": [
    "---"
   ]
  },
  {
   "cell_type": "markdown",
   "metadata": {},
   "source": [
    "## Những khó khăn, bài học và kinh nghiệm, điều sẽ làm nếu có thời gian\n",
    "\n",
    "#### **Khó khăn đã gặp phải**\n",
    "- Vấn đề trong việc thu thập dữ liệu từ các nguồn khác nhau hoặc sử dụng các công cụ như Selenium, API, v.v.\n",
    "- Khó khăn trong việc xử lý dữ liệu bị thiếu, dữ liệu không hợp lệ hoặc dữ liệu có định dạng không phù hợp.\n",
    "- Việc học cách áp dụng các thuật toán máy học hoặc chọn mô hình phù hợp với dữ liệu.\n",
    "- Gặp trở ngại khi làm việc nhóm, như phân chia công việc, hiểu nhầm ý tưởng hoặc khác biệt trong cách thực hiện.\n",
    "\n",
    "#### **Những điều đã học được**\n",
    "- Kỹ năng thu thập và xử lý dữ liệu thực tế từ các nguồn chưa được tổ chức sẵn.\n",
    "- Cách đặt câu hỏi ý nghĩa và sử dụng dữ liệu để tìm câu trả lời thông qua các công cụ trực quan hóa.\n",
    "- Hiểu biết sâu hơn về các thuật toán máy học và cách đánh giá hiệu quả của mô hình.\n",
    "- Kỹ năng làm việc nhóm, quản lý thời gian, sử dụng các công cụ như GitHub để quản lý phiên bản.\n",
    "\n",
    "#### **Những điều sẽ làm nếu có thêm thời gian**\n",
    "- Cải thiện chất lượng dữ liệu thu thập được, bổ sung thêm nhiều nguồn dữ liệu để làm phong phú hơn.\n",
    "- Thử nghiệm thêm nhiều thuật toán hoặc kỹ thuật tối ưu hóa để cải thiện độ chính xác của mô hình.\n",
    "- Phát triển một giao diện ứng dụng nhỏ gọn để trình bày kết quả hoặc mở rộng phạm vi nghiên cứu.\n",
    "- Đào sâu vào việc giải thích dữ liệu và tạo ra các báo cáo chi tiết hơn."
   ]
  },
  {
   "cell_type": "markdown",
   "metadata": {},
   "source": [
    "---"
   ]
  },
  {
   "cell_type": "markdown",
   "metadata": {},
   "source": [
    "\n",
    "### **Phân Công Chi Tiết Công Việc**\n",
    "\n",
    "Trong dự án này, nhóm đã phân công công việc một cách rõ ràng và hiệu quả giữa các thành viên, đảm bảo tiến độ và chất lượng của từng nhiệm vụ. Cụ thể:\n",
    "\n",
    "- **Trương Tiến Anh - 22120017**  \n",
    "    - Đặt ra 2 vấn đề cần phân tích:  \n",
    "        - **Vấn đề 1:** Mức giá giảm có ảnh hưởng đến lượt đánh giá và mức độ hài lòng của khách hàng không?  \n",
    "        - **Vấn đề 2:** Thời gian bảo hành có ảnh hưởng đến sự hài lòng của khách hàng không? \n",
    "    - Xây dựng một mô hình dự đoán sử dụng các thuật toán học máy phù hợp.  \n",
    "    - Tham gia viết và hoàn thiện báo cáo cuối cùng.\n",
    "\n",
    "- **Lê Nguyễn Gia Bảo - 22120023**  \n",
    "    - Đặt ra 2 vấn đề cần phân tích:  \n",
    "        - **Vấn đề 3:** Dòng điện thoại nào được quan tâm nhiều nhất từ trước đến nay dựa trên số lượt đánh giá và hỏi đáp? (Top 10) \n",
    "        - **Vấn đề 4:** Ứng với mỗi dòng điện thoại thì những mẫu điện thoại nào được quan tâm nhiều nhất? (Top 3)  \n",
    "    - Thực hiện xây dựng, kiểm tra tính hiệu quả và đánh giá hiệu quả của các mô hình dự đoán bằng các phương pháp so sánh.  \n",
    "\n",
    "- **Nguyễn Hữu Bền - 22120029**  \n",
    "    - Quản lý nhóm, lập kế hoạch và theo dõi tiến độ thực hiện của các thành viên.  \n",
    "    - Xây dựng đề cương nội dung chính, bao gồm các phần: giới thiệu, phương pháp thực hiện, kết quả dự kiến và ý nghĩa của đề tài.\n",
    "    - Khám phá và xử lý dữ liệu thu thập được để rút ra các thông tin có ý nghĩa hỗ trợ cho phần phân tích và mô hình hóa dữ liệu.  \n",
    "    - Đặt ra 2 vấn đề cần phân tích:  \n",
    "        - **Vấn đề 5:** Trong các thông số kỹ thuật của một chiếc điện thoại, những thông số nào thường có ảnh hưởng lớn nhất đến giá bán?\n",
    "        - **Vấn đề 6:** Kiểu thiết kế điện thoại nào phổ biến nhất hiện nay, dựa trên các kiểu thiết kế của các mẫu điện thoại hiện có trong cửa hàng?\n",
    "    - Đóng góp vào phần viết báo cáo.\n",
    "    - Tổng hợp và sắp xếp lại mã nguồn, đảm bảo cấu trúc rõ ràng, dễ hiểu và thực hiện việc đánh giá đề tài.\n",
    "\n",
    "- **Đoàn Minh Cường - 22120043**  \n",
    "    - Đặt ra 2 vấn đề cần phân tích:  \n",
    "        - **Vấn đề 7:** Hãng điện thoại có ảnh hưởng đến giá cả không? \n",
    "    - Xây dựng một mô hình dự đoán sử dụng các thuật toán học máy phù hợp.\n",
    "    - Chuẩn bị slide thuyết trình.\n",
    "\n",
    "- **Bùi Đình Bảo - 21120201**  \n",
    "    - Tạo template tiêu chuẩn cho báo cáo và các file phân tích dữ liệu.  \n",
    "    - Thu thập và tiền xử lý dữ liệu, bao gồm làm sạch và định dạng dữ liệu phù hợp.  \n",
    "    - Hỗ trợ các thành viên khác trong việc tổ chức công việc và hoàn thiện báo cáo.\n",
    "    - Đánh giá cách nhóm trình bày kết quả qua các biểu đồ và hình thức trực quan hóa dữ liệu, tính dễ hiểu và rõ ràng của biểu đồ, Sự liên kết giữa kết quả và các vấn đề đã đặt ra.\n",
    "    - Chuẩn bị slide thuyết trình.\n",
    "\n",
    "***Tất cả các công việc chung, bao gồm nghiên cứu nội dung đề tài, tìm kiếm thông tin và chủ đề, thảo luận cùng nhau để đưa ra nhận xét, chuẩn bị phần thuyết trình và trình bày nội dung đồ án, đều nhận được sự đóng góp tích cực từ tất cả các thành viên trong nhóm.***\n",
    "\n",
    "### **Đánh giá tổng thể**\n",
    "Nhờ sự phân công rõ ràng và sự hợp tác nhịp nhàng giữa các thành viên, nhóm đã hoàn thành xuất sắc tất cả các nhiệm vụ được giao. Từng thành viên đều nỗ lực để đảm bảo chất lượng công việc và đóng góp vào sự thành công chung của dự án. Kết quả đạt được là minh chứng cho sự phối hợp hiệu quả và sự hướng dẫn tận tâm từ các giảng viên.\n",
    "\n",
    "\n",
    "### **Những Vấn đề gặp phải**\n",
    "Trong quá trình thực hiện đề tài, nhóm đã gặp một số khó khăn nhất định, bao gồm:\n",
    "\n",
    "- Về mặt kỹ thuật, nhóm đã gặp phải một số vấn đề phức tạp trong quá trình xử lý dữ liệu và xây dựng mô hình và kĩ năng trình bày hợp lí, rõ ràng. Mặc dù đã nỗ lực khắc phục, vẫn còn tồn tại một số hạn chế trong việc tối ưu hóa và hoàn thiện đề tài.  \n",
    "- Việc sắp xếp công việc và phối hợp giữa các thành viên đôi khi chưa thực sự hiệu quả, dẫn đến ảnh hưởng đến tiến độ thực hiện. Điều này cũng đã gây mất thời gian của Thầy và các bạn trong quá trình theo dõi và đánh giá.  \n",
    "\n",
    "Nhóm chân thành xin lỗi vì những thiếu sót này và mong Thầy thông cảm. Chúng tôi sẽ rút kinh nghiệm và cố gắng cải thiện tốt hơn trong những dự án tương lai.  \n",
    "\n",
    "--- \n"
   ]
  },
  {
   "cell_type": "markdown",
   "metadata": {},
   "source": [
    "### **Không gian làm việc**\n",
    "\n",
    "Trong quá trình thực hiện đề tài, nhóm đã sử dụng các công cụ hỗ trợ như **Google Meet**, **Google Docs**, **Zalo**, **GitHub**, và **Canva** để đảm bảo sự phối hợp hiệu quả giữa các thành viên.  \n",
    "\n",
    "- **Google Meet** được sử dụng để tổ chức các buổi họp trực tuyến, thảo luận ý tưởng và phân công công việc.  \n",
    "- **Google Docs** hỗ trợ nhóm trong việc soạn thảo và chỉnh sửa báo cáo theo thời gian thực, giúp đảm bảo tính đồng bộ và rõ ràng trong nội dung.  \n",
    "- **Zalo** đóng vai trò là kênh giao tiếp chính, cho phép các thành viên trao đổi nhanh chóng và cập nhật tiến độ công việc thường xuyên.  \n",
    "- **GitHub** được sử dụng để quản lý mã nguồn, chia sẻ các phần công việc lập trình, và theo dõi lịch sử chỉnh sửa một cách khoa học.  \n",
    "- **Canva** hỗ trợ trong việc thiết kế slide thuyết trình, giúp nhóm trình bày nội dung đồ án một cách trực quan và chuyên nghiệp.  \n",
    "\n",
    "\n",
    "[GitHub Repository](https://github.com/Yogurt01/G2_IntroToDataScience_CQ2022-21_Lab.git)\n",
    "\n",
    "[Canva Design](https://www.canva.com/design/DAGXREa0J0k/vI7L0UG9vKS5q3ySA83zmg/edit)\n",
    "\n",
    "[Data](https://drive.google.com/drive/folders/1WNkT7OnVjSUtU20y1c-iZfQ2ZLs6-EsM?hl=vi)\n",
    "\n",
    "---"
   ]
  },
  {
   "cell_type": "markdown",
   "metadata": {},
   "source": [
    "### **Lời Kết**\n",
    "\n",
    "Qua quá trình thực hiện đề tài, nhóm đã học hỏi được nhiều kiến thức và kỹ năng quan trọng, từ việc thu thập và xử lý dữ liệu thực tế đến áp dụng các thuật toán học máy để giải quyết vấn đề. Mặc dù còn gặp một số khó khăn trong kỹ thuật và sắp xếp công việc, nhưng với sự nỗ lực của tất cả các thành viên và sự hướng dẫn tận tình từ Thầy, nhóm đã hoàn thành tốt các mục tiêu đề ra.\n",
    "\n",
    "Kết quả đạt được không chỉ là minh chứng cho tinh thần làm việc nhóm hiệu quả mà còn khẳng định khả năng ứng dụng những kiến thức đã học vào thực tế. Chúng em hy vọng những kinh nghiệm này sẽ là hành trang quý giá cho các dự án tương lai.\n",
    "\n",
    "Nhóm xin chân thành cảm ơn sự hỗ trợ và đồng hành của Thầy cũng như sự góp ý từ các bạn trong suốt quá trình thực hiện đề tài. Chúng em mong nhận được thêm nhiều phản hồi để cải thiện và phát triển hơn trong những dự án tiếp theo.  "
   ]
  }
 ],
 "metadata": {
  "language_info": {
   "name": "python"
  }
 },
 "nbformat": 4,
 "nbformat_minor": 2
}
