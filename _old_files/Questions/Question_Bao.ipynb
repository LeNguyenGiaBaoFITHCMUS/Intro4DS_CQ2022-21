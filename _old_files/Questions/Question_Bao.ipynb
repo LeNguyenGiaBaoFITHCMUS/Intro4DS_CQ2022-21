{
 "cells": [
  {
   "cell_type": "markdown",
   "metadata": {},
   "source": [
    "# Đặt câu hỏi có ý nghĩa cho bộ dữ liệu `Mobilecity`"
   ]
  },
  {
   "cell_type": "markdown",
   "metadata": {},
   "source": [
    "## What is the question?"
   ]
  },
  {
   "cell_type": "markdown",
   "metadata": {},
   "source": [
    "- Hãng điện thoại nào được quan tâm nhiều nhất từ trước đến nay dựa trên số lượt đánh giá và hỏi đáp?\n",
    "- Ứng với mỗi hãng điện thoại thì những dòng điện thoại nào được quan tâm nhiều nhất (top 5)?"
   ]
  },
  {
   "cell_type": "markdown",
   "metadata": {},
   "source": [
    "## What are benefits of finding the answer?"
   ]
  },
  {
   "cell_type": "markdown",
   "metadata": {},
   "source": [
    "- **Câu hỏi 1:** Hãng điện thoại nào được quan tâm nhiều nhất từ trước đến nay dựa trên số lượt đánh giá và hỏi đáp?\n",
    "    - Hiểu rõ thị trường: Giúp hiểu rõ hơn về mức độ quan tâm của người tiêu dùng đối với các hãng điện thoại khác nhau, từ đó xác định được hãng nào đang chiếm ưu thế trên thị trường.\n",
    "    - Định hướng chiến lược kinh doanh: Cung cấp thông tin quan trọng để các nhà sản xuất và nhà bán lẻ điện thoại có thể điều chỉnh chiến lược kinh doanh, marketing và phân phối sản phẩm.\n",
    "- **Câu hỏi 2:** Ứng với mỗi hãng điện thoại thì những dòng điện thoại nào được quan tâm nhiều nhất (top 5)?\n",
    "    - Tối ưu hóa danh mục sản phẩm: Giúp các nhà sản xuất và nhà bán lẻ xác định những dòng sản phẩm nào nên được tập trung phát triển và quảng bá, từ đó tối ưu hóa danh mục sản phẩm.\n",
    "    - Nâng cao chất lượng dịch vụ: Cung cấp thông tin để cải thiện dịch vụ khách hàng, hỗ trợ kỹ thuật và các chương trình khuyến mãi cho các dòng sản phẩm phổ biến.\n",
    "    - Phân tích cạnh tranh: Giúp hiểu rõ hơn về sự cạnh tranh giữa các dòng sản phẩm trong cùng một hãng, từ đó đưa ra các chiến lược cạnh tranh hiệu quả hơn."
   ]
  },
  {
   "cell_type": "markdown",
   "metadata": {},
   "source": [
    "## How to find the answers of questions by using data?"
   ]
  },
  {
   "cell_type": "markdown",
   "metadata": {},
   "source": [
    "- **Câu hỏi 1:** Hãng điện thoại nào được quan tâm nhiều nhất từ trước đến nay dựa trên số lượt đánh giá và hỏi đáp?\n",
    "    - Tạo một `set` để lưu các hãng điện thoại (vd: Xiaomi, OPPO, Samsung,...).\n",
    "    - Tạo một `dictionary` với keys là các hãng điện thoại đã được rút trích, values là tổng số lượt đánh giá và hỏi đáp của các dòng điện thoại (đã được lưu trong `list` **product_data[]**) ứng với từng hãng.\n",
    "    - Dùng thư viện `matplotlib` để trực quan hóa dữ liệu dưới dạng biểu đồ thích hợp.\n",
    "    - Đưa ra kết luận.\n",
    "\n",
    "- **Câu hỏi 2:** Ứng với mỗi hãng điện thoại thì những dòng điện thoại nào được quan tâm nhiều nhất (top 5)?\n",
    "    - Tạo một `dictionary` với keys là các hãng điện thoại đã được rút trích, values là danh sách top 5 dòng điện thoại có số lượt đánh giá và hỏi đáp cao nhất.\n",
    "    - Dùng thư viện `matplotlib` để trực quan hóa dữ liệu dưới dạng biểu đồ thích hợp.\n",
    "    - Đưa ra kết luận."
   ]
  }
 ],
 "metadata": {
  "language_info": {
   "name": "python"
  }
 },
 "nbformat": 4,
 "nbformat_minor": 2
}
