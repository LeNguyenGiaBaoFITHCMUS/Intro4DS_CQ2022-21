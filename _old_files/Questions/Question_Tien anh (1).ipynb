{
 "cells": [
  {
   "cell_type": "markdown",
   "metadata": {
    "tags": []
   },
   "source": [
    "# Đặt câu hỏi có ý nghĩa cho bộ dữ liệu `Mobilecity`"
   ]
  },
  {
   "cell_type": "markdown",
   "metadata": {},
   "source": [
    "## What is the question?"
   ]
  },
  {
   "cell_type": "markdown",
   "metadata": {},
   "source": [
    "- **Câu hỏi 1**: Mức giá giảm có ảnh hưởng đến lượt đánh giá và mức độ hài lòng của khách hàng không?\n",
    "- **Câu hỏi 2**: Thời gian bảo hành có ảnh hưởng đến sự hài lòng của khách hàng không?"
   ]
  },
  {
   "cell_type": "markdown",
   "metadata": {},
   "source": [
    "## What are benefits of finding the answer?"
   ]
  },
  {
   "cell_type": "markdown",
   "metadata": {},
   "source": [
    "- **Câu hỏi 1:** Mức giá giảm có ảnh hưởng đến lượt đánh giá và mức độ hài lòng của khách hàng không?\n",
    "    - Hiểu rõ mức độ tác động của chương trình giảm giá đến sự hài lòng của khách hàng sẽ giúp cửa hàng thiết kế các chiến lược khuyến mãi hiệu quả hơn, đảm bảo mang lại sự hài lòng tối đa.\n",
    "- **Câu hỏi 2:** Thời gian bảo hành có ảnh hưởng đến sự hài lòng của khách hàng không?\n",
    "    - Hiểu kỳ vọng của khách hàng: Nếu thấy rằng thời gian bảo hành dài hơn thực sự làm tăng sự hài lòng, nhà bán hàng có thể điều chỉnh chính sách bảo hành cho phù hợp với mong đợi của khách hàng, làm tăng uy tín và sự tin tưởng.\n",
    "    - Tối ưu hóa chính sách dịch vụ: Biết được vai trò của thời gian bảo hành đối với sự hài lòng có thể giúp doanh nghiệp tập trung vào việc cung cấp dịch vụ bảo hành hiệu quả hơn, giảm thiểu các trường hợp bất mãn sau mua hàng."
   ]
  },
  {
   "cell_type": "markdown",
   "metadata": {},
   "source": [
    "## How to find the answers of questions by using data?"
   ]
  },
  {
   "cell_type": "markdown",
   "metadata": {},
   "source": [
    "- **Câu hỏi 1:** Mức giá giảm có ảnh hưởng đến lượt đánh giá và mức độ hài lòng của khách hàng không?\n",
    "    - Tạo một dictionary để lưu trữ giá cả và số lượt đánh giá tương ứng.\n",
    "    - Tính toán mối quan hệ giữa mức giá giảm và số lượt đánh giá.\n",
    "    - Dùng thư viện `matplotlib` để trực quan hóa dữ liệu dưới dạng biểu đồ thích hợp.\n",
    "    - Đưa ra kết luận về ảnh hưởng của mức giá giảm đến lượt đánh giá.\n",
    "\n",
    "- **Câu hỏi 2:** Thời gian bảo hành có ảnh hưởng đến sự hài lòng của khách hàng không?\n",
    "    - Tạo một dictionary để lưu trữ thời gian bảo hành và số lượt đánh giá tương ứng.\n",
    "    - Tính toán mối quan hệ giữa thời gian bảo hành và mức độ hài lòng (số lượt đánh giá).\n",
    "    - Dùng thư viện `matplotlib` để trực quan hóa dữ liệu dưới dạng biểu đồ thích hợp.\n",
    "    - Đưa ra kết luận về ảnh hưởng của thời gian bảo hành đến sự hài lòng của khách hàng."
   ]
  }
 ],
 "metadata": {
  "kernelspec": {
   "display_name": "Python 3 (ipykernel)",
   "language": "python",
   "name": "python3"
  },
  "language_info": {
   "codemirror_mode": {
    "name": "ipython",
    "version": 3
   },
   "file_extension": ".py",
   "mimetype": "text/x-python",
   "name": "python",
   "nbconvert_exporter": "python",
   "pygments_lexer": "ipython3",
   "version": "3.10.15"
  }
 },
 "nbformat": 4,
 "nbformat_minor": 4
}
