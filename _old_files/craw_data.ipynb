{
 "cells": [
  {
   "cell_type": "markdown",
   "metadata": {},
   "source": [
    "# ĐỒ ÁN MÔN HỌC\n",
    "## Nhập môn khoa học dữ liệu - CQ2022/21 - Nhóm 2\n",
    "### Giáo viên hướng dẫn: Thầy Lê Nhựt Nam\n",
    "### Thành viên nhóm:\n",
    "    21120201\tBùi Đình Bảo\n",
    "    22120017\tTrương Tiến Anh\n",
    "    22120023\tLê Nguyễn Gia Bảo\n",
    "    22120029\tNguyễn Hữu Bền\n",
    "    22120043\tĐoàn Minh Cường"
   ]
  },
  {
   "cell_type": "markdown",
   "metadata": {},
   "source": [
    "## Giai đoạn: Thu thập dữ liệu"
   ]
  },
  {
   "cell_type": "markdown",
   "metadata": {},
   "source": [
    "### Trang web thực hiện cào dữ liệu: `https://mobilecity.vn/dien-thoai`"
   ]
  },
  {
   "cell_type": "markdown",
   "metadata": {},
   "source": [
    "### 1. Nhập thư viện:"
   ]
  },
  {
   "cell_type": "code",
   "execution_count": null,
   "metadata": {},
   "outputs": [],
   "source": [
    "# Thư viện điều khiển trình duyệt web\n",
    "from selenium import webdriver\n",
    "# Dịch vụ điều khiển Chrome\n",
    "from selenium.webdriver.chrome.service import Service\n",
    "# Quản lý driver của Chrome\n",
    "from webdriver_manager.chrome import ChromeDriverManager\n",
    "# Định vị các phần tử trên trang web\n",
    "from selenium.webdriver.common.by import By\n",
    "# Xử lý các ngoại lệ\n",
    "from selenium.common.exceptions import NoSuchElementException, ElementClickInterceptedException\n",
    "# Chờ đợi các điều kiện cụ thể trên trang web\n",
    "from selenium.webdriver.support.ui import WebDriverWait\n",
    "# Các điều kiện cụ thể\n",
    "from selenium.webdriver.support import expected_conditions as EC\n",
    "# Thư viện thời gian\n",
    "import time\n",
    "# Thư viện phân tích cú pháp HTML\n",
    "from bs4 import BeautifulSoup\n",
    "# Thư viện xử lý dữ liệu JSON\n",
    "import json\n",
    "# Thư viện phân tích cú pháp URL\n",
    "from urllib.parse import urlparse\n",
    "# Thư viện xử lý csv\n",
    "import csv"
   ]
  },
  {
   "cell_type": "markdown",
   "metadata": {},
   "source": [
    "### 2. Thu thập dữ liệu:"
   ]
  },
  {
   "cell_type": "markdown",
   "metadata": {},
   "source": [
    "#### 2.1. Lấy mã nguồn trang web:\n",
    "- Tạo một **instance** của trình duyệt.\n",
    "    - **Instance** của trình duyệt là một đối tượng của trình duyệt web được tạo ra bởi `Selenium WebDriver`.\n",
    "    - **Instance** cho phép điều khiển và tương tác với trình duyệt thông qua mã `Python`.\n",
    "- Liên tục nhấn nút `Xem thêm` để tải thêm sản phẩm.\n",
    "- Lấy mã nguồn của trang sau khi đã nhấn hết các nút `Xem thêm`."
   ]
  },
  {
   "cell_type": "code",
   "execution_count": 2,
   "metadata": {},
   "outputs": [],
   "source": [
    "# Tạo instance của trình duyệt\n",
    "driver = webdriver.Chrome(service=Service(ChromeDriverManager().install()))\n",
    "\n",
    "# Truy cập vào trang web\n",
    "url = \"https://mobilecity.vn/dien-thoai\"\n",
    "driver.get(url)\n",
    "\n",
    "# Hàm nhấn nút \"Xem thêm\" nếu có thể\n",
    "def click_see_more_button():\n",
    "    try:\n",
    "        # Tìm nút \"Xem thêm điện thoại\"\n",
    "        see_more_button = driver.find_element(By.ID, \"product_view_more\")\n",
    "        if see_more_button.is_displayed():\n",
    "            # Nhấn nút\n",
    "            see_more_button.click()\n",
    "            # Đợi một chút để trang tải thêm sản phẩm\n",
    "            time.sleep(2)\n",
    "            return True\n",
    "    except (NoSuchElementException, ElementClickInterceptedException):\n",
    "        # Không tìm thấy nút hoặc không thể nhấn\n",
    "        return False\n",
    "    return False\n",
    "\n",
    "# Liên tục nhấn nút \"Xem thêm\" cho đến khi không còn nút nào\n",
    "while click_see_more_button():\n",
    "    pass\n",
    "\n",
    "# Lấy source page sau khi đã nhấn hết các nút \"Xem thêm\"\n",
    "page_source = driver.page_source\n",
    "# Đóng trình duyệt\n",
    "driver.quit()"
   ]
  },
  {
   "cell_type": "markdown",
   "metadata": {},
   "source": [
    "#### 2.2. Truy xuất danh sách các liên kết đến chi tiết sản phẩm của từng điện thoại:\n",
    "- Phân tích cú pháp HTML của trang.\n",
    "- Tìm tất cả các sản phẩm.\n",
    "- Lưu các liên kết đến chi tiết sản phẩm.\n",
    "- Sử dụng cấu trúc dữ liệu phù hợp để lưu trữ: `list` trong Python."
   ]
  },
  {
   "cell_type": "code",
   "execution_count": 3,
   "metadata": {},
   "outputs": [],
   "source": [
    "# Phân tích cú pháp HTML\n",
    "soup = BeautifulSoup(page_source, \"html.parser\")\n",
    "\n",
    "# Tìm tất cả các sản phẩm\n",
    "product_items = soup.find_all(\"div\", class_=\"product-item-info\")\n",
    "\n",
    "# Lưu các liên kết vào danh sách\n",
    "links = []\n",
    "\n",
    "for item in product_items:\n",
    "    # Tìm thẻ <a> chứa liên kết đến chi tiết sản phẩm\n",
    "    link_tag = item.find(\"a\", href=True)\n",
    "    if link_tag:\n",
    "        # Lấy giá trị href\n",
    "        link = link_tag['href']\n",
    "        links.append(link)"
   ]
  },
  {
   "cell_type": "code",
   "execution_count": 4,
   "metadata": {},
   "outputs": [],
   "source": [
    "def is_valid_url(url):\n",
    "    \"\"\"Check if the URL is valid.\"\"\"\n",
    "    parsed = urlparse(url)\n",
    "    return bool(parsed.scheme and parsed.netloc)\n"
   ]
  },
  {
   "cell_type": "markdown",
   "metadata": {},
   "source": [
    "#### 2.3. Thu thập dữ liệu chi tiết sản phẩm và lưu vào danh sách:\n",
    "- Với mỗi liên kết, thử thu thập các thông tin về chi tiết sản phẩm cần thiết *(Tên sản phẩm, Giá mới,Giá cũ, Màu sắc, Các phiên bản bộ nhớ, Thời gian bảo hành, Thông số kỹ thuật, Đánh giá, Số lượt đánh giá và hỏi đáp, Đường dẫn)*.\n",
    "- Xử lý khi gặp lỗi hoặc không có thông tin mong đợi.\n",
    "- Sử dụng cấu trúc dữ liệu phù hợp để lưu trữ: `dictionary` trong Python."
   ]
  },
  {
   "cell_type": "code",
   "execution_count": null,
   "metadata": {},
   "outputs": [
    {
     "name": "stdout",
     "output_type": "stream",
     "text": [
      "Đã thu thập sản phẩm thứ 1420Hoàn thành!!!\n"
     ]
    }
   ],
   "source": [
    "driver = webdriver.Chrome(service=Service(ChromeDriverManager().install()))\n",
    "\n",
    "product_data = []\n",
    "counter = 0  \n",
    "\n",
    "for link in links:\n",
    "    link = link.strip()  # Xóa khoảng trắng đầu và cuối\n",
    "    if not is_valid_url(link):\n",
    "        print(f\"Invalid URL: {link}\")\n",
    "        continue  # Skip invalid URLs\n",
    "\n",
    "    try:\n",
    "        driver.get(link)\n",
    "        WebDriverWait(driver, 10).until(EC.presence_of_element_located((By.CSS_SELECTOR, \"h1.title\")))\n",
    "    except Exception as e:\n",
    "        print(f\"Error loading {link}: {e}\")\n",
    "        continue  # Skip this link and move to the next\n",
    "\n",
    "    # Lấy HTML trang hiện tại\n",
    "    soup = BeautifulSoup(driver.page_source, 'html.parser')\n",
    "\n",
    "    # Thu thập tên sản phẩm\n",
    "    try:\n",
    "        product_title = soup.find(\"h1\", class_=\"title\").text.strip()\n",
    "    except AttributeError:\n",
    "        product_title = \"Không có thông tin\"\n",
    "\n",
    "    # Thu thập giá sản phẩm (giá mới và giá cũ)\n",
    "    try:\n",
    "        price_new = soup.find(\"p\", class_=\"price\").text.strip()\n",
    "    except AttributeError:\n",
    "        price_new = \"Không có thông tin\"\n",
    "\n",
    "    try:\n",
    "        price_old = soup.find(\"p\", class_=\"price-old\").text.strip()\n",
    "    except AttributeError:\n",
    "        price_old = \"Không có thông tin\"\n",
    "\n",
    "    # Thu thập màu sắc\n",
    "    try:\n",
    "        color_items = soup.find_all(\"div\", class_=\"color-item\")\n",
    "        colors = [color['data-title'] for color in color_items]\n",
    "    except AttributeError:\n",
    "        colors = [\"Không có thông tin\"]\n",
    "\n",
    "    # Lấy thông tin về các phiên bản bộ nhớ\n",
    "    try:\n",
    "        storage_items = soup.find_all('div', class_='storage-item attribute-item')\n",
    "        storage_options = [item.text.strip() for item in storage_items]\n",
    "    except AttributeError:\n",
    "        storage_options = [\"Không có thông tin\"]\n",
    "\n",
    "    # Lấy thông tin về thời gian bảo hành\n",
    "    try:\n",
    "        warranty_text = soup.find('span', class_='warranty-content-default').get_text(strip=True)\n",
    "    except AttributeError:\n",
    "        warranty_text = \"Không có thông tin\"\n",
    "\n",
    "    # Lấy thông số kỹ thuật\n",
    "    try:\n",
    "        specs_table = soup.find('div', class_='product-info-content').find('table')\n",
    "        specs = {}\n",
    "        if specs_table:\n",
    "            rows = specs_table.find_all('tr')\n",
    "            for row in rows:\n",
    "                cols = row.find_all('td')\n",
    "                if len(cols) == 2:\n",
    "                    specs[cols[0].text.strip()] = cols[1].text.strip()\n",
    "    except AttributeError:\n",
    "        specs = {\"Không có thông số kỹ thuật\": \"N/A\"}\n",
    "\n",
    "    # Thu thập thông tin đánh giá\n",
    "    try:\n",
    "        rating = soup.find('div', class_='comment-vote__star-number').get_text(strip=True)\n",
    "    except AttributeError:\n",
    "        rating = \"Không có thông tin\"\n",
    "\n",
    "    # Thu thập thông tin số lượt đánh giá và hỏi đáp\n",
    "    try:\n",
    "        total_reviews = soup.find('div', class_='comment-vote__star-total').get_text(strip=True)\n",
    "        total_reviews = total_reviews.replace(\"đánh giá và hỏi đáp\", \"\").strip()\n",
    "    except AttributeError:\n",
    "        total_reviews = \"Không có thông tin\"\n",
    "\n",
    "    product_data.append({\n",
    "        \"Tên sản phẩm\": product_title,\n",
    "        \"Giá mới\": price_new,\n",
    "        \"Giá cũ\": price_old,\n",
    "        \"Màu sắc\": \", \".join(colors),\n",
    "        \"Các phiên bản bộ nhớ\": \", \".join(storage_options),\n",
    "        \"Thời gian bảo hành\": warranty_text,\n",
    "        \"Thông số kỹ thuật\": json.dumps(specs, ensure_ascii=False),\n",
    "        \"Đánh giá\": rating,\n",
    "        \"Số lượt đánh giá và hỏi đáp\": total_reviews,\n",
    "        \"Đường dẫn\":link,\n",
    "    })\n",
    "    \n",
    "    counter += 1\n",
    "    print(f\"\\rĐã thu thập sản phẩm thứ {counter}\", end='', flush=True)\n",
    "\n",
    "# In thông báo khi hoàn thành\n",
    "print(\"Hoàn thành!!!\")  "
   ]
  },
  {
   "cell_type": "markdown",
   "metadata": {},
   "source": [
    "#### 2.4. Lưu dữ liệu sản phẩm vào file CSV và đóng trình duyệt:"
   ]
  },
  {
   "cell_type": "code",
   "execution_count": 6,
   "metadata": {},
   "outputs": [],
   "source": [
    "# Lưu dữ liệu vào file CSV\n",
    "with open('data.csv', 'w', newline='', encoding='utf-8-sig') as csvfile:\n",
    "    fieldnames = product_data[0].keys()  # Lấy các tên trường từ phần tử đầu tiên\n",
    "    writer = csv.DictWriter(csvfile, fieldnames=fieldnames)\n",
    "\n",
    "    writer.writeheader()\n",
    "    for data in product_data:\n",
    "        writer.writerow(data)\n",
    "\n",
    "# Đóng trình duyệt\n",
    "driver.quit()"
   ]
  }
 ],
 "metadata": {
  "kernelspec": {
   "display_name": "min_ds-env2",
   "language": "python",
   "name": "python3"
  },
  "language_info": {
   "codemirror_mode": {
    "name": "ipython",
    "version": 3
   },
   "file_extension": ".py",
   "mimetype": "text/x-python",
   "name": "python",
   "nbconvert_exporter": "python",
   "pygments_lexer": "ipython3",
   "version": "3.10.15"
  }
 },
 "nbformat": 4,
 "nbformat_minor": 2
}
