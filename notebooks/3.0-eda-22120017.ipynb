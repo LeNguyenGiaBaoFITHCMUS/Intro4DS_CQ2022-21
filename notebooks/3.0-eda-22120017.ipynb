{
 "cells": [
  {
   "cell_type": "markdown",
   "metadata": {},
   "source": [
    "<div style=\"text-align: center; background-color: skyblue; font-family: 'Times New Roman', serif; color: white; padding: 20px; font-size: 36px; font-weight: bold; border-radius: 15px; box-shadow: 0px 6px 15px rgba(0, 0, 0, 0.2); transition: all 0.3s ease;\">\n",
    "    INTRODUCTION TO DATA SCIENCE<br>\n",
    "    @ FIT-HCMUS, VNU-HCM<br>\n",
    "    FINAL PROJECT 🏫\n",
    "</div>\n",
    "<style>\n",
    "    div:hover {\n",
    "        transform: scale(1.05);\n",
    "        box-shadow: 0px 10px 20px rgba(0, 0, 0, 0.3);\n",
    "    }\n",
    "</style>"
   ]
  },
  {
   "cell_type": "markdown",
   "metadata": {},
   "source": [
    "<div style=\"text-align: center; background-color: #ADD8E6; font-family: 'Times New Roman', serif; color: white; padding: 20px; font-size: 30px; font-weight: bold; border-radius: 10px; box-shadow: 0px 6px 15px rgba(0, 0, 0, 0.2); transition: all 0.3s ease;\">\n",
    "    THE ANALYSIS OF THE MOBILE PHONE MARKET AT MOBILE CITY STORE\n",
    "</div>\n",
    "<style>\n",
    "    div:hover {\n",
    "        transform: scale(1.05);\n",
    "        box-shadow: 0px 10px 20px rgba(0, 0, 0, 0.3);\n",
    "    }\n",
    "</style>\n"
   ]
  },
  {
   "cell_type": "markdown",
   "metadata": {},
   "source": [
    "---"
   ]
  },
  {
   "cell_type": "markdown",
   "metadata": {},
   "source": [
    "<div style=\"text-align: center; background-color: #ADD8E6; font-family: 'Times New Roman', serif; color: white; padding: 25px; font-size: 20px; font-weight: bold; border-radius: 10px; box-shadow: 0px 6px 15px rgba(0, 0, 0, 0.2); transition: all 0.3s ease;\">\n",
    "    DATA EXPLORATION\n",
    "</div>\n",
    "<style>\n",
    "    div:hover {\n",
    "        opacity: 0.8;\n",
    "    }\n",
    "</style>"
   ]
  },
  {
   "cell_type": "markdown",
   "metadata": {},
   "source": [
    "**Người thực hiện**: Trương Tiến Anh\n",
    "\n",
    "**MSSV**: 22120017\n"
   ]
  },
  {
   "cell_type": "markdown",
   "metadata": {},
   "source": [
    "---"
   ]
  },
  {
   "cell_type": "markdown",
   "metadata": {},
   "source": [
    "# Thư viện"
   ]
  },
  {
   "cell_type": "code",
   "execution_count": 1,
   "metadata": {},
   "outputs": [],
   "source": [
    "# Import các thư viện cần thiết\n",
    "import numpy as np\n",
    "import pandas as pd\n",
    "import seaborn as sns\n",
    "import matplotlib.pyplot as plt\n",
    "\n",
    "import ast\n",
    "\n",
    "pd.set_option('display.max_columns', None)\n",
    "pd.set_option('display.max_rows', None)"
   ]
  },
  {
   "cell_type": "markdown",
   "metadata": {},
   "source": [
    "# Sử dụng data đã được xử lý"
   ]
  },
  {
   "cell_type": "code",
   "execution_count": 2,
   "metadata": {},
   "outputs": [
    {
     "name": "stdout",
     "output_type": "stream",
     "text": [
      "<class 'pandas.core.frame.DataFrame'>\n",
      "Index: 8662 entries, 0 to 8661\n",
      "Data columns (total 25 columns):\n",
      " #   Column                  Non-Null Count  Dtype  \n",
      "---  ------                  --------------  -----  \n",
      " 0   ten                     8662 non-null   object \n",
      " 1   loai_dien_thoai         8662 non-null   object \n",
      " 2   thoi_gian_bao_hanh      8662 non-null   float64\n",
      " 3   danh_gia                8662 non-null   float64\n",
      " 4   so_luong_binh_luan      8662 non-null   int64  \n",
      " 5   duong_dan               8662 non-null   object \n",
      " 6   mau_sac                 8376 non-null   object \n",
      " 7   gia_moi                 7148 non-null   float64\n",
      " 8   gia_cu                  5083 non-null   float64\n",
      " 9   he_dieu_hanh            8662 non-null   object \n",
      " 10  cpu                     8647 non-null   object \n",
      " 11  ram                     8646 non-null   float64\n",
      " 12  bo_nho_trong            8362 non-null   float64\n",
      " 13  dung_luong_pin          8462 non-null   float64\n",
      " 14  thiet_ke                8546 non-null   object \n",
      " 15  hang_dien_thoai         8662 non-null   object \n",
      " 16  kich_thuoc_man_hinh     8325 non-null   float64\n",
      " 17  tan_so_quet             6561 non-null   float64\n",
      " 18  do_sang_man_hinh        5183 non-null   float64\n",
      " 19  loai_man_hinh           8332 non-null   object \n",
      " 20  so_the_sim              8662 non-null   int64  \n",
      " 21  loai_pin                6571 non-null   object \n",
      " 22  cong_suat_sac           8173 non-null   float64\n",
      " 23  do_phan_giai_cam_sau    8662 non-null   object \n",
      " 24  do_phan_giai_cam_truoc  8662 non-null   object \n",
      "dtypes: float64(11), int64(2), object(12)\n",
      "memory usage: 1.7+ MB\n"
     ]
    },
    {
     "data": {
      "text/html": [
       "<div>\n",
       "<style scoped>\n",
       "    .dataframe tbody tr th:only-of-type {\n",
       "        vertical-align: middle;\n",
       "    }\n",
       "\n",
       "    .dataframe tbody tr th {\n",
       "        vertical-align: top;\n",
       "    }\n",
       "\n",
       "    .dataframe thead th {\n",
       "        text-align: right;\n",
       "    }\n",
       "</style>\n",
       "<table border=\"1\" class=\"dataframe\">\n",
       "  <thead>\n",
       "    <tr style=\"text-align: right;\">\n",
       "      <th></th>\n",
       "      <th>ten</th>\n",
       "      <th>loai_dien_thoai</th>\n",
       "      <th>thoi_gian_bao_hanh</th>\n",
       "      <th>danh_gia</th>\n",
       "      <th>so_luong_binh_luan</th>\n",
       "      <th>duong_dan</th>\n",
       "      <th>mau_sac</th>\n",
       "      <th>gia_moi</th>\n",
       "      <th>gia_cu</th>\n",
       "      <th>he_dieu_hanh</th>\n",
       "      <th>cpu</th>\n",
       "      <th>ram</th>\n",
       "      <th>bo_nho_trong</th>\n",
       "      <th>dung_luong_pin</th>\n",
       "      <th>thiet_ke</th>\n",
       "      <th>hang_dien_thoai</th>\n",
       "      <th>kich_thuoc_man_hinh</th>\n",
       "      <th>tan_so_quet</th>\n",
       "      <th>do_sang_man_hinh</th>\n",
       "      <th>loai_man_hinh</th>\n",
       "      <th>so_the_sim</th>\n",
       "      <th>loai_pin</th>\n",
       "      <th>cong_suat_sac</th>\n",
       "      <th>do_phan_giai_cam_sau</th>\n",
       "      <th>do_phan_giai_cam_truoc</th>\n",
       "    </tr>\n",
       "  </thead>\n",
       "  <tbody>\n",
       "    <tr>\n",
       "      <th>0</th>\n",
       "      <td>Điện thoại LG G7 ThinQ cũ (Mỹ, Hàn Quốc)</td>\n",
       "      <td>LG</td>\n",
       "      <td>6.0</td>\n",
       "      <td>5.0</td>\n",
       "      <td>1191</td>\n",
       "      <td>https://mobilecity.vn/lg/lg-g7-cu.html</td>\n",
       "      <td>Xám</td>\n",
       "      <td>1750000.0</td>\n",
       "      <td>2950000.0</td>\n",
       "      <td>Android 8</td>\n",
       "      <td>Qualcomm SDM845 Snapdragon 845 (10 nm)\\n8 nhân...</td>\n",
       "      <td>4.0</td>\n",
       "      <td>64.0</td>\n",
       "      <td>3000.0</td>\n",
       "      <td>Khung nhôm\\nMặt trước kính Gorilla Glass 5\\nMặ...</td>\n",
       "      <td>LG</td>\n",
       "      <td>6.1</td>\n",
       "      <td>NaN</td>\n",
       "      <td>NaN</td>\n",
       "      <td>LCD</td>\n",
       "      <td>2</td>\n",
       "      <td>NaN</td>\n",
       "      <td>18.0</td>\n",
       "      <td>[16.0, 16.0]</td>\n",
       "      <td>[8.0]</td>\n",
       "    </tr>\n",
       "    <tr>\n",
       "      <th>1</th>\n",
       "      <td>Điện thoại LG G7 ThinQ cũ (Mỹ, Hàn Quốc)</td>\n",
       "      <td>LG</td>\n",
       "      <td>6.0</td>\n",
       "      <td>5.0</td>\n",
       "      <td>1191</td>\n",
       "      <td>https://mobilecity.vn/lg/lg-g7-cu.html</td>\n",
       "      <td>Xám</td>\n",
       "      <td>2050000.0</td>\n",
       "      <td>2950000.0</td>\n",
       "      <td>Android 8</td>\n",
       "      <td>Qualcomm SDM845 Snapdragon 845 (10 nm)\\n8 nhân...</td>\n",
       "      <td>6.0</td>\n",
       "      <td>128.0</td>\n",
       "      <td>3000.0</td>\n",
       "      <td>Khung nhôm\\nMặt trước kính Gorilla Glass 5\\nMặ...</td>\n",
       "      <td>LG</td>\n",
       "      <td>6.1</td>\n",
       "      <td>NaN</td>\n",
       "      <td>NaN</td>\n",
       "      <td>LCD</td>\n",
       "      <td>2</td>\n",
       "      <td>NaN</td>\n",
       "      <td>18.0</td>\n",
       "      <td>[16.0, 16.0]</td>\n",
       "      <td>[8.0]</td>\n",
       "    </tr>\n",
       "    <tr>\n",
       "      <th>2</th>\n",
       "      <td>Điện thoại LG G7 ThinQ cũ (Mỹ, Hàn Quốc)</td>\n",
       "      <td>LG</td>\n",
       "      <td>6.0</td>\n",
       "      <td>5.0</td>\n",
       "      <td>1191</td>\n",
       "      <td>https://mobilecity.vn/lg/lg-g7-cu.html</td>\n",
       "      <td>Trắng</td>\n",
       "      <td>1750000.0</td>\n",
       "      <td>2950000.0</td>\n",
       "      <td>Android 8</td>\n",
       "      <td>Qualcomm SDM845 Snapdragon 845 (10 nm)\\n8 nhân...</td>\n",
       "      <td>4.0</td>\n",
       "      <td>64.0</td>\n",
       "      <td>3000.0</td>\n",
       "      <td>Khung nhôm\\nMặt trước kính Gorilla Glass 5\\nMặ...</td>\n",
       "      <td>LG</td>\n",
       "      <td>6.1</td>\n",
       "      <td>NaN</td>\n",
       "      <td>NaN</td>\n",
       "      <td>LCD</td>\n",
       "      <td>2</td>\n",
       "      <td>NaN</td>\n",
       "      <td>18.0</td>\n",
       "      <td>[16.0, 16.0]</td>\n",
       "      <td>[8.0]</td>\n",
       "    </tr>\n",
       "    <tr>\n",
       "      <th>3</th>\n",
       "      <td>Điện thoại LG G7 ThinQ cũ (Mỹ, Hàn Quốc)</td>\n",
       "      <td>LG</td>\n",
       "      <td>6.0</td>\n",
       "      <td>5.0</td>\n",
       "      <td>1191</td>\n",
       "      <td>https://mobilecity.vn/lg/lg-g7-cu.html</td>\n",
       "      <td>Trắng</td>\n",
       "      <td>2050000.0</td>\n",
       "      <td>2950000.0</td>\n",
       "      <td>Android 8</td>\n",
       "      <td>Qualcomm SDM845 Snapdragon 845 (10 nm)\\n8 nhân...</td>\n",
       "      <td>6.0</td>\n",
       "      <td>128.0</td>\n",
       "      <td>3000.0</td>\n",
       "      <td>Khung nhôm\\nMặt trước kính Gorilla Glass 5\\nMặ...</td>\n",
       "      <td>LG</td>\n",
       "      <td>6.1</td>\n",
       "      <td>NaN</td>\n",
       "      <td>NaN</td>\n",
       "      <td>LCD</td>\n",
       "      <td>2</td>\n",
       "      <td>NaN</td>\n",
       "      <td>18.0</td>\n",
       "      <td>[16.0, 16.0]</td>\n",
       "      <td>[8.0]</td>\n",
       "    </tr>\n",
       "    <tr>\n",
       "      <th>4</th>\n",
       "      <td>Điện thoại LG G7 ThinQ cũ (Mỹ, Hàn Quốc)</td>\n",
       "      <td>LG</td>\n",
       "      <td>6.0</td>\n",
       "      <td>5.0</td>\n",
       "      <td>1191</td>\n",
       "      <td>https://mobilecity.vn/lg/lg-g7-cu.html</td>\n",
       "      <td>Xanh</td>\n",
       "      <td>1750000.0</td>\n",
       "      <td>2950000.0</td>\n",
       "      <td>Android 8</td>\n",
       "      <td>Qualcomm SDM845 Snapdragon 845 (10 nm)\\n8 nhân...</td>\n",
       "      <td>4.0</td>\n",
       "      <td>64.0</td>\n",
       "      <td>3000.0</td>\n",
       "      <td>Khung nhôm\\nMặt trước kính Gorilla Glass 5\\nMặ...</td>\n",
       "      <td>LG</td>\n",
       "      <td>6.1</td>\n",
       "      <td>NaN</td>\n",
       "      <td>NaN</td>\n",
       "      <td>LCD</td>\n",
       "      <td>2</td>\n",
       "      <td>NaN</td>\n",
       "      <td>18.0</td>\n",
       "      <td>[16.0, 16.0]</td>\n",
       "      <td>[8.0]</td>\n",
       "    </tr>\n",
       "  </tbody>\n",
       "</table>\n",
       "</div>"
      ],
      "text/plain": [
       "                                        ten loai_dien_thoai  \\\n",
       "0  Điện thoại LG G7 ThinQ cũ (Mỹ, Hàn Quốc)              LG   \n",
       "1  Điện thoại LG G7 ThinQ cũ (Mỹ, Hàn Quốc)              LG   \n",
       "2  Điện thoại LG G7 ThinQ cũ (Mỹ, Hàn Quốc)              LG   \n",
       "3  Điện thoại LG G7 ThinQ cũ (Mỹ, Hàn Quốc)              LG   \n",
       "4  Điện thoại LG G7 ThinQ cũ (Mỹ, Hàn Quốc)              LG   \n",
       "\n",
       "   thoi_gian_bao_hanh  danh_gia  so_luong_binh_luan  \\\n",
       "0                 6.0       5.0                1191   \n",
       "1                 6.0       5.0                1191   \n",
       "2                 6.0       5.0                1191   \n",
       "3                 6.0       5.0                1191   \n",
       "4                 6.0       5.0                1191   \n",
       "\n",
       "                                duong_dan mau_sac    gia_moi     gia_cu  \\\n",
       "0  https://mobilecity.vn/lg/lg-g7-cu.html     Xám  1750000.0  2950000.0   \n",
       "1  https://mobilecity.vn/lg/lg-g7-cu.html     Xám  2050000.0  2950000.0   \n",
       "2  https://mobilecity.vn/lg/lg-g7-cu.html   Trắng  1750000.0  2950000.0   \n",
       "3  https://mobilecity.vn/lg/lg-g7-cu.html   Trắng  2050000.0  2950000.0   \n",
       "4  https://mobilecity.vn/lg/lg-g7-cu.html    Xanh  1750000.0  2950000.0   \n",
       "\n",
       "  he_dieu_hanh                                                cpu  ram  \\\n",
       "0    Android 8  Qualcomm SDM845 Snapdragon 845 (10 nm)\\n8 nhân...  4.0   \n",
       "1    Android 8  Qualcomm SDM845 Snapdragon 845 (10 nm)\\n8 nhân...  6.0   \n",
       "2    Android 8  Qualcomm SDM845 Snapdragon 845 (10 nm)\\n8 nhân...  4.0   \n",
       "3    Android 8  Qualcomm SDM845 Snapdragon 845 (10 nm)\\n8 nhân...  6.0   \n",
       "4    Android 8  Qualcomm SDM845 Snapdragon 845 (10 nm)\\n8 nhân...  4.0   \n",
       "\n",
       "   bo_nho_trong  dung_luong_pin  \\\n",
       "0          64.0          3000.0   \n",
       "1         128.0          3000.0   \n",
       "2          64.0          3000.0   \n",
       "3         128.0          3000.0   \n",
       "4          64.0          3000.0   \n",
       "\n",
       "                                            thiet_ke hang_dien_thoai  \\\n",
       "0  Khung nhôm\\nMặt trước kính Gorilla Glass 5\\nMặ...              LG   \n",
       "1  Khung nhôm\\nMặt trước kính Gorilla Glass 5\\nMặ...              LG   \n",
       "2  Khung nhôm\\nMặt trước kính Gorilla Glass 5\\nMặ...              LG   \n",
       "3  Khung nhôm\\nMặt trước kính Gorilla Glass 5\\nMặ...              LG   \n",
       "4  Khung nhôm\\nMặt trước kính Gorilla Glass 5\\nMặ...              LG   \n",
       "\n",
       "   kich_thuoc_man_hinh  tan_so_quet  do_sang_man_hinh loai_man_hinh  \\\n",
       "0                  6.1          NaN               NaN           LCD   \n",
       "1                  6.1          NaN               NaN           LCD   \n",
       "2                  6.1          NaN               NaN           LCD   \n",
       "3                  6.1          NaN               NaN           LCD   \n",
       "4                  6.1          NaN               NaN           LCD   \n",
       "\n",
       "   so_the_sim loai_pin  cong_suat_sac do_phan_giai_cam_sau  \\\n",
       "0           2      NaN           18.0         [16.0, 16.0]   \n",
       "1           2      NaN           18.0         [16.0, 16.0]   \n",
       "2           2      NaN           18.0         [16.0, 16.0]   \n",
       "3           2      NaN           18.0         [16.0, 16.0]   \n",
       "4           2      NaN           18.0         [16.0, 16.0]   \n",
       "\n",
       "  do_phan_giai_cam_truoc  \n",
       "0                  [8.0]  \n",
       "1                  [8.0]  \n",
       "2                  [8.0]  \n",
       "3                  [8.0]  \n",
       "4                  [8.0]  "
      ]
     },
     "execution_count": 2,
     "metadata": {},
     "output_type": "execute_result"
    }
   ],
   "source": [
    "# Đọc file csv\n",
    "data = pd.read_csv('../data/processed_data.csv', index_col=0)\n",
    "\n",
    "# Chuyển đổi object thành list\n",
    "data[\"do_phan_giai_cam_truoc\"] = data[\"do_phan_giai_cam_truoc\"].apply(ast.literal_eval)\n",
    "data[\"do_phan_giai_cam_sau\"] = data[\"do_phan_giai_cam_sau\"].apply(ast.literal_eval)\n",
    "\n",
    "data.info()\n",
    "data.head()"
   ]
  },
  {
   "cell_type": "markdown",
   "metadata": {},
   "source": [
    "# Câu hỏi: Mức giá giảm có ảnh hưởng đến lượt đánh giá và mức độ hài lòng của khách hàng không?"
   ]
  },
  {
   "cell_type": "markdown",
   "metadata": {},
   "source": [
    "## Mục đích"
   ]
  },
  {
   "cell_type": "markdown",
   "metadata": {},
   "source": [
    "## Tiền xử lý"
   ]
  },
  {
   "cell_type": "code",
   "execution_count": 3,
   "metadata": {},
   "outputs": [
    {
     "data": {
      "text/plain": [
       "Có giảm giá\n",
       "False    455.638710\n",
       "True     245.232216\n",
       "Name: so_luong_binh_luan, dtype: float64"
      ]
     },
     "execution_count": 3,
     "metadata": {},
     "output_type": "execute_result"
    }
   ],
   "source": [
    "df = data[[\"gia_cu\", \"gia_moi\", \"so_luong_binh_luan\"]].copy().dropna()\n",
    "\n",
    "# Tính toán mức giá giảm = Gía cũ - Gía mới\n",
    "df['Mức giá giảm'] = df['gia_cu'] - df['gia_moi']\n",
    "df['Có giảm giá'] = df['Mức giá giảm'] > 0\n",
    "\n",
    "#Tính trung bình lượt đánh giá theo sản phẩm có giảm giá\n",
    "mean_rate = df.groupby('Có giảm giá')['so_luong_binh_luan'].mean()\n",
    "mean_rate"
   ]
  },
  {
   "cell_type": "markdown",
   "metadata": {},
   "source": [
    "## Trực quan hóa"
   ]
  },
  {
   "cell_type": "code",
   "execution_count": 4,
   "metadata": {},
   "outputs": [
    {
     "data": {
      "image/png": "[encoded data removed]",
      "text/plain": [
       "<Figure size 640x480 with 1 Axes>"
      ]
     },
     "metadata": {},
     "output_type": "display_data"
    },
    {
     "name": "stdout",
     "output_type": "stream",
     "text": [
      "Hệ số tương quan: -0.0630189080063586\n"
     ]
    }
   ],
   "source": [
    "# Vẽ biểu đồ phân tán: Mức giảm giá với Số lượt đánh giá\n",
    "plt.scatter(df['Mức giá giảm'], df['so_luong_binh_luan'], alpha=0.7)\n",
    "plt.title(\"Mức giảm giá vs Số lượt đánh giá\")\n",
    "plt.xlabel(\"Mức giảm giá (VNĐ)\")\n",
    "plt.ylabel(\"Số lượt đánh giá và hỏi đáp\")\n",
    "plt.grid(True)\n",
    "plt.show()\n",
    "\n",
    "#Hệ số tương quan\n",
    "correlation = df['Mức giá giảm'].corr(df['so_luong_binh_luan'])\n",
    "print(f'Hệ số tương quan: {correlation}')"
   ]
  },
  {
   "cell_type": "markdown",
   "metadata": {},
   "source": [
    "## Nhận xét"
   ]
  },
  {
   "cell_type": "markdown",
   "metadata": {},
   "source": [
    "# Câu hỏi: Thời gian bảo hành có ảnh hưởng đến sự hài lòng của khách hàng không?"
   ]
  },
  {
   "cell_type": "markdown",
   "metadata": {},
   "source": [
    "## Mục đích"
   ]
  },
  {
   "cell_type": "markdown",
   "metadata": {},
   "source": [
    "## Tiền xử lý"
   ]
  },
  {
   "cell_type": "code",
   "execution_count": 5,
   "metadata": {},
   "outputs": [
    {
     "data": {
      "text/plain": [
       "thoi_gian_bao_hanh\n",
       "0.0     4.985872\n",
       "1.0     4.975000\n",
       "6.0     4.975118\n",
       "12.0    4.985815\n",
       "15.0    5.000000\n",
       "18.0    4.975660\n",
       "24.0    5.000000\n",
       "30.0    4.957143\n",
       "Name: danh_gia, dtype: float64"
      ]
     },
     "execution_count": 5,
     "metadata": {},
     "output_type": "execute_result"
    }
   ],
   "source": [
    "df = data[[\"thoi_gian_bao_hanh\", \"danh_gia\"]].copy().dropna()\n",
    "\n",
    "# Tính trung bình đánh giá theo 'Thời gian bảo hành (tháng)'\n",
    "mean_satisfaction = df.groupby('thoi_gian_bao_hanh')['danh_gia'].mean()\n",
    "mean_satisfaction"
   ]
  },
  {
   "cell_type": "markdown",
   "metadata": {},
   "source": [
    "## Trực quan hóa"
   ]
  },
  {
   "cell_type": "code",
   "execution_count": 6,
   "metadata": {},
   "outputs": [
    {
     "data": {
      "image/png": "[encoded data removed]",
      "text/plain": [
       "<Figure size 640x480 with 1 Axes>"
      ]
     },
     "metadata": {},
     "output_type": "display_data"
    },
    {
     "name": "stdout",
     "output_type": "stream",
     "text": [
      "Hệ số tương quan: 0.014617309719820304\n"
     ]
    }
   ],
   "source": [
    "plt.plot(mean_satisfaction.index, mean_satisfaction.values, marker='o')\n",
    "plt.title('Thời gian bảo hành vs. Sự hài lòng')\n",
    "plt.xlabel('Thời gian bảo hành (tháng)')\n",
    "plt.ylabel('Điểm hài lòng trung bình')\n",
    "plt.grid(True)\n",
    "plt.show()\n",
    "\n",
    "correlation = data['thoi_gian_bao_hanh'].corr(data['danh_gia'])\n",
    "print(f'Hệ số tương quan: {correlation}')"
   ]
  },
  {
   "cell_type": "markdown",
   "metadata": {},
   "source": [
    "## Nhận xét"
   ]
  }
 ],
 "metadata": {
  "kernelspec": {
   "display_name": "venv",
   "language": "python",
   "name": "python3"
  },
  "language_info": {
   "codemirror_mode": {
    "name": "ipython",
    "version": 3
   },
   "file_extension": ".py",
   "mimetype": "text/x-python",
   "name": "python",
   "nbconvert_exporter": "python",
   "pygments_lexer": "ipython3",
   "version": "3.12.3"
  }
 },
 "nbformat": 4,
 "nbformat_minor": 2
}
