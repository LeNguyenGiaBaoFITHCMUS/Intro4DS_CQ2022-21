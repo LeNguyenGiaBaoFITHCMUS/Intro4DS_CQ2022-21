{
 "cells": [
  {
   "cell_type": "markdown",
   "metadata": {},
   "source": [
    "<div style=\"text-align: center; background-color: skyblue; font-family: 'Times New Roman', serif; color: white; padding: 20px; font-size: 36px; font-weight: bold; border-radius: 15px; box-shadow: 0px 6px 15px rgba(0, 0, 0, 0.2); transition: all 0.3s ease;\">\n",
    "    INTRODUCTION TO DATA SCIENCE<br>\n",
    "    @ FIT-HCMUS, VNU-HCM<br>\n",
    "    FINAL PROJECT 🏫\n",
    "</div>\n",
    "<style>\n",
    "    div:hover {\n",
    "        transform: scale(1.05);\n",
    "        box-shadow: 0px 10px 20px rgba(0, 0, 0, 0.3);\n",
    "    }\n",
    "</style>"
   ]
  },
  {
   "cell_type": "markdown",
   "metadata": {},
   "source": [
    "<div style=\"text-align: center; background-color: #ADD8E6; font-family: 'Times New Roman', serif; color: white; padding: 20px; font-size: 30px; font-weight: bold; border-radius: 10px; box-shadow: 0px 6px 15px rgba(0, 0, 0, 0.2); transition: all 0.3s ease;\">\n",
    "    THE ANALYSIS OF THE MOBILE PHONE MARKET AT MOBILE CITY STORE\n",
    "</div>\n",
    "<style>\n",
    "    div:hover {\n",
    "        transform: scale(1.05);\n",
    "        box-shadow: 0px 10px 20px rgba(0, 0, 0, 0.3);\n",
    "    }\n",
    "</style>\n"
   ]
  },
  {
   "cell_type": "markdown",
   "metadata": {},
   "source": [
    "---"
   ]
  },
  {
   "cell_type": "markdown",
   "metadata": {},
   "source": [
    "<div style=\"text-align: center; background-color: #ADD8E6; font-family: 'Times New Roman', serif; color: white; padding: 25px; font-size: 20px; font-weight: bold; border-radius: 10px; box-shadow: 0px 6px 15px rgba(0, 0, 0, 0.2); transition: all 0.3s ease;\">\n",
    "    DATA EXPLORATION\n",
    "</div>\n",
    "<style>\n",
    "    div:hover {\n",
    "        opacity: 0.8;\n",
    "    }\n",
    "</style>"
   ]
  },
  {
   "cell_type": "markdown",
   "metadata": {},
   "source": [
    "**Người thực hiện**: Đoàn Minh Cường\n",
    "\n",
    "**MSSV**: 22120043\n"
   ]
  },
  {
   "cell_type": "markdown",
   "metadata": {},
   "source": [
    "---"
   ]
  },
  {
   "cell_type": "markdown",
   "metadata": {},
   "source": [
    "Câu 1: Hãng điện thoại có ảnh hưởng đến giá cả không ?"
   ]
  },
  {
   "cell_type": "code",
   "execution_count": 156,
   "metadata": {},
   "outputs": [],
   "source": [
    "import pandas as pd\n",
    "import numpy as np\n",
    "import matplotlib.pyplot as plt"
   ]
  },
  {
   "cell_type": "code",
   "execution_count": 130,
   "metadata": {},
   "outputs": [
    {
     "data": {
      "text/plain": [
       "Tên sản phẩm                    object\n",
       "Giá mới                        float64\n",
       "Giá cũ                         float64\n",
       "Màu sắc                         object\n",
       "Các phiên bản bộ nhớ            object\n",
       "Thời gian bảo hành              object\n",
       "Thông số kỹ thuật               object\n",
       "Đánh giá                        object\n",
       "Số lượt đánh giá và hỏi đáp      int64\n",
       "Đường dẫn                       object\n",
       "dtype: object"
      ]
     },
     "execution_count": 130,
     "metadata": {},
     "output_type": "execute_result"
    }
   ],
   "source": [
    "# đọc dữ liệu và tiền xử lý\n",
    "data = pd.read_csv('data.csv', sep =',')\n",
    "def clean_price(price):\n",
    "    price = str(price).replace('.', '').replace('đ', '').replace('₫', '').strip()  # Loại bỏ dấu chấm và chữ \"đ\"\n",
    "    try:\n",
    "        return float(price)\n",
    "    except ValueError:\n",
    "        return np.nan\n",
    "\n",
    "data['Giá cũ'] = data['Giá cũ'].apply(clean_price)\n",
    "data['Giá mới'] = data['Giá mới'].apply(clean_price)\n",
    "\n",
    "\n",
    "data.dtypes\n"
   ]
  },
  {
   "cell_type": "code",
   "execution_count": 131,
   "metadata": {},
   "outputs": [
    {
     "data": {
      "text/plain": [
       "0           LG\n",
       "1       Xiaomi\n",
       "2       Xiaomi\n",
       "3       Xiaomi\n",
       "4       Xiaomi\n",
       "         ...  \n",
       "1415    Vsmart\n",
       "1416    Huawei\n",
       "1417    iPhone\n",
       "1418    Bphone\n",
       "1419    iPhone\n",
       "Name: Hang, Length: 1420, dtype: object"
      ]
     },
     "execution_count": 131,
     "metadata": {},
     "output_type": "execute_result"
    }
   ],
   "source": [
    "#tach du lieu \n",
    "branch = data.loc[:,'Tên sản phẩm'].str.split(' ').str[2]\n",
    "prices = data['Giá mới']\n",
    "data = pd.DataFrame({'Hang':branch, 'Gia':prices})\n",
    "data.loc[:, 'Hang']"
   ]
  },
  {
   "cell_type": "code",
   "execution_count": null,
   "metadata": {},
   "outputs": [
    {
     "data": {
      "text/html": [
       "<div>\n",
       "<style scoped>\n",
       "    .dataframe tbody tr th:only-of-type {\n",
       "        vertical-align: middle;\n",
       "    }\n",
       "\n",
       "    .dataframe tbody tr th {\n",
       "        vertical-align: top;\n",
       "    }\n",
       "\n",
       "    .dataframe thead th {\n",
       "        text-align: right;\n",
       "    }\n",
       "</style>\n",
       "<table border=\"1\" class=\"dataframe\">\n",
       "  <thead>\n",
       "    <tr style=\"text-align: right;\">\n",
       "      <th></th>\n",
       "      <th>Hang</th>\n",
       "      <th>Gia trung binh</th>\n",
       "      <th>So luong</th>\n",
       "    </tr>\n",
       "  </thead>\n",
       "  <tbody>\n",
       "    <tr>\n",
       "      <th>3</th>\n",
       "      <td>Asus</td>\n",
       "      <td>1.451318e+07</td>\n",
       "      <td>22</td>\n",
       "    </tr>\n",
       "    <tr>\n",
       "      <th>33</th>\n",
       "      <td>Nubia</td>\n",
       "      <td>1.198615e+07</td>\n",
       "      <td>26</td>\n",
       "    </tr>\n",
       "    <tr>\n",
       "      <th>34</th>\n",
       "      <td>OPPO</td>\n",
       "      <td>1.067125e+07</td>\n",
       "      <td>56</td>\n",
       "    </tr>\n",
       "    <tr>\n",
       "      <th>35</th>\n",
       "      <td>OnePlus</td>\n",
       "      <td>1.089718e+07</td>\n",
       "      <td>39</td>\n",
       "    </tr>\n",
       "    <tr>\n",
       "      <th>40</th>\n",
       "      <td>Realme</td>\n",
       "      <td>5.462024e+06</td>\n",
       "      <td>126</td>\n",
       "    </tr>\n",
       "    <tr>\n",
       "      <th>43</th>\n",
       "      <td>Samsung</td>\n",
       "      <td>8.714848e+06</td>\n",
       "      <td>99</td>\n",
       "    </tr>\n",
       "    <tr>\n",
       "      <th>49</th>\n",
       "      <td>Tecno</td>\n",
       "      <td>4.477143e+06</td>\n",
       "      <td>28</td>\n",
       "    </tr>\n",
       "    <tr>\n",
       "      <th>54</th>\n",
       "      <td>Vivo</td>\n",
       "      <td>9.255044e+06</td>\n",
       "      <td>136</td>\n",
       "    </tr>\n",
       "    <tr>\n",
       "      <th>56</th>\n",
       "      <td>Xiaomi</td>\n",
       "      <td>6.879931e+06</td>\n",
       "      <td>289</td>\n",
       "    </tr>\n",
       "    <tr>\n",
       "      <th>58</th>\n",
       "      <td>iPhone</td>\n",
       "      <td>1.588096e+07</td>\n",
       "      <td>46</td>\n",
       "    </tr>\n",
       "  </tbody>\n",
       "</table>\n",
       "</div>"
      ],
      "text/plain": [
       "       Hang  Gia trung binh  So luong\n",
       "3      Asus    1.451318e+07        22\n",
       "33    Nubia    1.198615e+07        26\n",
       "34     OPPO    1.067125e+07        56\n",
       "35  OnePlus    1.089718e+07        39\n",
       "40   Realme    5.462024e+06       126\n",
       "43  Samsung    8.714848e+06        99\n",
       "49    Tecno    4.477143e+06        28\n",
       "54     Vivo    9.255044e+06       136\n",
       "56   Xiaomi    6.879931e+06       289\n",
       "58   iPhone    1.588096e+07        46"
      ]
     },
     "execution_count": 155,
     "metadata": {},
     "output_type": "execute_result"
    }
   ],
   "source": [
    "# gom nhom du lieu\n",
    "new_data = data.groupby('Hang').agg({\n",
    "    'Gia': ['mean', 'count']\n",
    "}).reset_index()\n",
    "new_data.columns = ['Hang', 'Gia trung binh', 'So luong']\n",
    "# Lấy những hãng điện thoại có số lượng những điện thoại có số lượng trên 20 để chính xác\n",
    "mask = new_data.loc[:,'So luong'] > 20\n",
    "new_data = new_data[mask]\n",
    "new_data"
   ]
  },
  {
   "cell_type": "code",
   "execution_count": 159,
   "metadata": {},
   "outputs": [
    {
     "data": {
      "image/png": "[encoded data removed]",
      "text/plain": [
       "<Figure size 1000x600 with 1 Axes>"
      ]
     },
     "metadata": {},
     "output_type": "display_data"
    }
   ],
   "source": [
    "# Vẽ biểu đồ\n",
    "plt.figure(figsize=(10, 6))\n",
    "plt.bar(new_data['Hang'], new_data['Gia trung binh'], color='skyblue')\n",
    "plt.xlabel('Hãng điện thoại')\n",
    "plt.ylabel('Giá trung bình')\n",
    "plt.title('Mức giá trung bình của từng hãng điện thoại')\n",
    "plt.show()"
   ]
  },
  {
   "cell_type": "markdown",
   "metadata": {},
   "source": [
    "Kết Luận: \n",
    "    - Từ biểu đồ trên cho thấy hãng điện thoại có liên qua nhiều đến giá \n",
    "    - Hãng lớn, nổi tiếng và sang trọng như iPhone, Asus thì sẽ có giá rất cao. \n",
    "    - Những hãng lớn nhưng hướng nhưng bình dân hơn (như Samsung, Vivo,....) sẽ có giá ở tầm trung để mọi người dễ tiếp cận hơn.\n",
    "    - Còn với những hãng kiếm nổi tiếng như Realme, tecno thì giá cả thấp, người dùng có thể thử"
   ]
  }
 ],
 "metadata": {
  "kernelspec": {
   "display_name": "min_ds-env",
   "language": "python",
   "name": "python3"
  },
  "language_info": {
   "codemirror_mode": {
    "name": "ipython",
    "version": 3
   },
   "file_extension": ".py",
   "mimetype": "text/x-python",
   "name": "python",
   "nbconvert_exporter": "python",
   "pygments_lexer": "ipython3",
   "version": "3.10.8"
  }
 },
 "nbformat": 4,
 "nbformat_minor": 2
}
