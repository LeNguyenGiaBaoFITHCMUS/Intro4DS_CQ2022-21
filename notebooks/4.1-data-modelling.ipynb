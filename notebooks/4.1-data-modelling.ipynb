{
 "cells": [
  {
   "cell_type": "markdown",
   "metadata": {},
   "source": [
    "<div style=\"text-align: center; background-color: skyblue; font-family: 'Times New Roman', serif; color: white; padding: 20px; font-size: 36px; font-weight: bold; border-radius: 15px; box-shadow: 0px 6px 15px rgba(0, 0, 0, 0.2); transition: all 0.3s ease;\">\n",
    "    INTRODUCTION TO DATA SCIENCE<br>\n",
    "    @ FIT-HCMUS, VNU-HCM<br>\n",
    "    FINAL PROJECT 🏫\n",
    "</div>\n",
    "<style>\n",
    "    div:hover {\n",
    "        transform: scale(1.05);\n",
    "        box-shadow: 0px 10px 20px rgba(0, 0, 0, 0.3);\n",
    "    }\n",
    "</style>"
   ]
  },
  {
   "cell_type": "markdown",
   "metadata": {},
   "source": [
    "<div style=\"text-align: center; background-color: #ADD8E6; font-family: 'Times New Roman', serif; color: white; padding: 20px; font-size: 30px; font-weight: bold; border-radius: 10px; box-shadow: 0px 6px 15px rgba(0, 0, 0, 0.2); transition: all 0.3s ease;\">\n",
    "    THE ANALYSIS OF THE MOBILE PHONE MARKET AT MOBILE CITY STORE\n",
    "</div>\n",
    "<style>\n",
    "    div:hover {\n",
    "        transform: scale(1.05);\n",
    "        box-shadow: 0px 10px 20px rgba(0, 0, 0, 0.3);\n",
    "    }\n",
    "</style>\n"
   ]
  },
  {
   "cell_type": "markdown",
   "metadata": {},
   "source": [
    "---"
   ]
  },
  {
   "cell_type": "markdown",
   "metadata": {},
   "source": [
    "<div style=\"text-align: center; background-color: #ADD8E6; font-family: 'Times New Roman', serif; color: white; padding: 25px; font-size: 20px; font-weight: bold; border-radius: 10px; box-shadow: 0px 6px 15px rgba(0, 0, 0, 0.2); transition: all 0.3s ease;\">\n",
    "    DATA MODELLING\n",
    "</div>\n",
    "<style>\n",
    "    div:hover {\n",
    "        opacity: 0.8;\n",
    "    }\n",
    "</style>"
   ]
  },
  {
   "cell_type": "markdown",
   "metadata": {},
   "source": [
    "**Người thực hiện**:\n",
    "\n",
    "| **STT** | **Họ và tên** | **MSSV** |\n",
    "|-------|---------------|---------|\n",
    "| 1     | Trương Tiến Anh | 22120017 |\n",
    "| 2     | Lê Nguyễn Gia Bảo | 22120023 |\n",
    "| 3     | Đoàn Minh Cường | 22120043 |\n"
   ]
  },
  {
   "cell_type": "markdown",
   "metadata": {},
   "source": [
    "---"
   ]
  },
  {
   "cell_type": "markdown",
   "metadata": {},
   "source": [
    "## **Vấn đề được áp dụng Học máy:** \n",
    "## Dự đoán giá điện thoại dựa trên các đặc trưng quan trọng và cần thiết."
   ]
  },
  {
   "cell_type": "markdown",
   "metadata": {},
   "source": [
    "---"
   ]
  },
  {
   "cell_type": "markdown",
   "metadata": {},
   "source": [
    "## Thư viện:"
   ]
  },
  {
   "cell_type": "code",
   "execution_count": 1,
   "metadata": {},
   "outputs": [],
   "source": [
    "import numpy as np\n",
    "import pandas as pd\n",
    "import matplotlib.pyplot as plt\n",
    "\n",
    "from sklearn.preprocessing import LabelEncoder, OneHotEncoder, StandardScaler\n",
    "from sklearn.model_selection import GridSearchCV\n",
    "from sklearn.compose import ColumnTransformer\n",
    "from sklearn.linear_model import SGDRegressor\n",
    "from sklearn.pipeline import Pipeline\n",
    "from sklearn.model_selection import train_test_split\n",
    "from sklearn.metrics import mean_absolute_error, mean_squared_error, r2_score\n",
    "\n",
    "import ast\n",
    "import time\n",
    "import csv"
   ]
  },
  {
   "cell_type": "markdown",
   "metadata": {},
   "source": [
    "## Đọc dữ liệu từ file CSV:"
   ]
  },
  {
   "cell_type": "code",
   "execution_count": 2,
   "metadata": {},
   "outputs": [],
   "source": [
    "df = pd.read_csv(\"../data/processed_data.csv\", index_col=0)"
   ]
  },
  {
   "cell_type": "code",
   "execution_count": 3,
   "metadata": {},
   "outputs": [
    {
     "data": {
      "text/html": [
       "<div>\n",
       "<style scoped>\n",
       "    .dataframe tbody tr th:only-of-type {\n",
       "        vertical-align: middle;\n",
       "    }\n",
       "\n",
       "    .dataframe tbody tr th {\n",
       "        vertical-align: top;\n",
       "    }\n",
       "\n",
       "    .dataframe thead th {\n",
       "        text-align: right;\n",
       "    }\n",
       "</style>\n",
       "<table border=\"1\" class=\"dataframe\">\n",
       "  <thead>\n",
       "    <tr style=\"text-align: right;\">\n",
       "      <th></th>\n",
       "      <th>ten</th>\n",
       "      <th>loai_dien_thoai</th>\n",
       "      <th>thoi_gian_bao_hanh</th>\n",
       "      <th>danh_gia</th>\n",
       "      <th>so_luong_binh_luan</th>\n",
       "      <th>duong_dan</th>\n",
       "      <th>mau_sac</th>\n",
       "      <th>gia_moi</th>\n",
       "      <th>gia_cu</th>\n",
       "      <th>he_dieu_hanh</th>\n",
       "      <th>...</th>\n",
       "      <th>la_dien_thoai_cu</th>\n",
       "      <th>kich_thuoc_man_hinh</th>\n",
       "      <th>tan_so_quet</th>\n",
       "      <th>do_sang_man_hinh</th>\n",
       "      <th>loai_man_hinh</th>\n",
       "      <th>so_the_sim</th>\n",
       "      <th>loai_pin</th>\n",
       "      <th>cong_suat_sac</th>\n",
       "      <th>do_phan_giai_cam_sau</th>\n",
       "      <th>do_phan_giai_cam_truoc</th>\n",
       "    </tr>\n",
       "  </thead>\n",
       "  <tbody>\n",
       "    <tr>\n",
       "      <th>3792</th>\n",
       "      <td>Điện thoại iPhone 14 Chính hãng VN/A</td>\n",
       "      <td>iPhone Chính hãng VN/A</td>\n",
       "      <td>12.0</td>\n",
       "      <td>5.0</td>\n",
       "      <td>0</td>\n",
       "      <td>https://mobilecity.vn/dien-thoai/iphone-14.html</td>\n",
       "      <td>Đỏ</td>\n",
       "      <td>21450000.0</td>\n",
       "      <td>23990000.0</td>\n",
       "      <td>iOS 16</td>\n",
       "      <td>...</td>\n",
       "      <td>False</td>\n",
       "      <td>6.10</td>\n",
       "      <td>NaN</td>\n",
       "      <td>NaN</td>\n",
       "      <td>OLED</td>\n",
       "      <td>1</td>\n",
       "      <td>NaN</td>\n",
       "      <td>NaN</td>\n",
       "      <td>[12.0, 12.0]</td>\n",
       "      <td>[12.0]</td>\n",
       "    </tr>\n",
       "    <tr>\n",
       "      <th>7171</th>\n",
       "      <td>Điện thoại Vivo iQOO Neo 6 Cũ (Snapdragon 8 Ge...</td>\n",
       "      <td>Điện thoại Cũ</td>\n",
       "      <td>6.0</td>\n",
       "      <td>5.0</td>\n",
       "      <td>2</td>\n",
       "      <td>https://mobilecity.vn/dien-thoai/vivo-iqoo-neo...</td>\n",
       "      <td>Đen</td>\n",
       "      <td>7950000.0</td>\n",
       "      <td>9950000.0</td>\n",
       "      <td>Android 12</td>\n",
       "      <td>...</td>\n",
       "      <td>True</td>\n",
       "      <td>6.62</td>\n",
       "      <td>120.0</td>\n",
       "      <td>1300.0</td>\n",
       "      <td>AMOLED</td>\n",
       "      <td>2</td>\n",
       "      <td>Li-Po</td>\n",
       "      <td>80.0</td>\n",
       "      <td>[64.0, 12.0, 2.0]</td>\n",
       "      <td>[16.0]</td>\n",
       "    </tr>\n",
       "    <tr>\n",
       "      <th>1311</th>\n",
       "      <td>Điện thoại Tecno POVA 6 Neo 5G (Dimensity 6300)</td>\n",
       "      <td>Tecno</td>\n",
       "      <td>12.0</td>\n",
       "      <td>5.0</td>\n",
       "      <td>0</td>\n",
       "      <td>https://mobilecity.vn/dien-thoai/tecno-pova-6-...</td>\n",
       "      <td>Trắng</td>\n",
       "      <td>3850000.0</td>\n",
       "      <td>NaN</td>\n",
       "      <td>Android 14</td>\n",
       "      <td>...</td>\n",
       "      <td>False</td>\n",
       "      <td>6.67</td>\n",
       "      <td>120.0</td>\n",
       "      <td>NaN</td>\n",
       "      <td>LCD</td>\n",
       "      <td>2</td>\n",
       "      <td>NaN</td>\n",
       "      <td>18.0</td>\n",
       "      <td>[108.0]</td>\n",
       "      <td>[8.0]</td>\n",
       "    </tr>\n",
       "  </tbody>\n",
       "</table>\n",
       "<p>3 rows × 26 columns</p>\n",
       "</div>"
      ],
      "text/plain": [
       "                                                    ten  \\\n",
       "3792               Điện thoại iPhone 14 Chính hãng VN/A   \n",
       "7171  Điện thoại Vivo iQOO Neo 6 Cũ (Snapdragon 8 Ge...   \n",
       "1311    Điện thoại Tecno POVA 6 Neo 5G (Dimensity 6300)   \n",
       "\n",
       "             loai_dien_thoai  thoi_gian_bao_hanh  danh_gia  \\\n",
       "3792  iPhone Chính hãng VN/A                12.0       5.0   \n",
       "7171           Điện thoại Cũ                 6.0       5.0   \n",
       "1311                   Tecno                12.0       5.0   \n",
       "\n",
       "      so_luong_binh_luan                                          duong_dan  \\\n",
       "3792                   0    https://mobilecity.vn/dien-thoai/iphone-14.html   \n",
       "7171                   2  https://mobilecity.vn/dien-thoai/vivo-iqoo-neo...   \n",
       "1311                   0  https://mobilecity.vn/dien-thoai/tecno-pova-6-...   \n",
       "\n",
       "     mau_sac     gia_moi      gia_cu he_dieu_hanh  ... la_dien_thoai_cu  \\\n",
       "3792      Đỏ  21450000.0  23990000.0       iOS 16  ...            False   \n",
       "7171     Đen   7950000.0   9950000.0   Android 12  ...             True   \n",
       "1311   Trắng   3850000.0         NaN   Android 14  ...            False   \n",
       "\n",
       "      kich_thuoc_man_hinh  tan_so_quet  do_sang_man_hinh loai_man_hinh  \\\n",
       "3792                 6.10          NaN               NaN          OLED   \n",
       "7171                 6.62        120.0            1300.0        AMOLED   \n",
       "1311                 6.67        120.0               NaN           LCD   \n",
       "\n",
       "     so_the_sim  loai_pin  cong_suat_sac  do_phan_giai_cam_sau  \\\n",
       "3792          1       NaN            NaN          [12.0, 12.0]   \n",
       "7171          2     Li-Po           80.0     [64.0, 12.0, 2.0]   \n",
       "1311          2       NaN           18.0               [108.0]   \n",
       "\n",
       "      do_phan_giai_cam_truoc  \n",
       "3792                  [12.0]  \n",
       "7171                  [16.0]  \n",
       "1311                   [8.0]  \n",
       "\n",
       "[3 rows x 26 columns]"
      ]
     },
     "execution_count": 3,
     "metadata": {},
     "output_type": "execute_result"
    }
   ],
   "source": [
    "df.sample(3)"
   ]
  },
  {
   "cell_type": "markdown",
   "metadata": {},
   "source": [
    "## Tiền xử lý dữ liệu cho các mô hình:"
   ]
  },
  {
   "cell_type": "markdown",
   "metadata": {},
   "source": [
    "### Loại bỏ các cột không ảnh hưởng đến giá dựa vào kiến thức:"
   ]
  },
  {
   "cell_type": "markdown",
   "metadata": {},
   "source": [
    "#### Loại bỏ cột `ten`, `duong_dan`, `loai_dien_thoai`, `mau_sac`, `thiet_ke`, `cpu`:"
   ]
  },
  {
   "cell_type": "markdown",
   "metadata": {},
   "source": [
    "- `ten` là tên của các mẫu điện thoại."
   ]
  },
  {
   "cell_type": "code",
   "execution_count": 4,
   "metadata": {},
   "outputs": [],
   "source": [
    "df = df.drop(columns=['ten'])"
   ]
  },
  {
   "cell_type": "markdown",
   "metadata": {},
   "source": [
    "- `duong_dan` là liên kết đến trang thông tin của điện thoại trên website."
   ]
  },
  {
   "cell_type": "code",
   "execution_count": 5,
   "metadata": {},
   "outputs": [],
   "source": [
    "df = df.drop(columns=['duong_dan'])"
   ]
  },
  {
   "cell_type": "markdown",
   "metadata": {},
   "source": [
    "- `loai_dien_thoai` lưu thông tin cụ thể hơn cho `hang_dien_thoai`, không ảnh hưởng đến giá."
   ]
  },
  {
   "cell_type": "code",
   "execution_count": 6,
   "metadata": {},
   "outputs": [],
   "source": [
    "df = df.drop(columns=['loai_dien_thoai'])"
   ]
  },
  {
   "cell_type": "markdown",
   "metadata": {},
   "source": [
    "- `mau_sac` lưu các màu sắc khác nhau của từng mẫu điện thoại, không ảnh hưởng đến giá."
   ]
  },
  {
   "cell_type": "code",
   "execution_count": 7,
   "metadata": {},
   "outputs": [],
   "source": [
    "df = df.drop(columns=['mau_sac'])"
   ]
  },
  {
   "cell_type": "markdown",
   "metadata": {},
   "source": [
    "- `thiet_ke` mô tả cấu tạo của một chiếc điện thoại, không ảnh hưởng đến giá."
   ]
  },
  {
   "cell_type": "code",
   "execution_count": 8,
   "metadata": {},
   "outputs": [],
   "source": [
    "df = df.drop(columns=['thiet_ke'])"
   ]
  },
  {
   "cell_type": "markdown",
   "metadata": {},
   "source": [
    "- `cpu` trong bộ dữ liệu này cũng là một cột không ảnh hưởng đến giá."
   ]
  },
  {
   "cell_type": "code",
   "execution_count": 9,
   "metadata": {},
   "outputs": [],
   "source": [
    "df = df.drop(columns=['cpu'])"
   ]
  },
  {
   "cell_type": "markdown",
   "metadata": {},
   "source": [
    "#### Loại bỏ các dòng trùng lặp:"
   ]
  },
  {
   "cell_type": "code",
   "execution_count": 10,
   "metadata": {},
   "outputs": [
    {
     "name": "stdout",
     "output_type": "stream",
     "text": [
      "Số dòng trùng lặp hiện tại là: 5548\n"
     ]
    }
   ],
   "source": [
    "print(f\"Số dòng trùng lặp hiện tại là: {df.duplicated().sum()}\")"
   ]
  },
  {
   "cell_type": "code",
   "execution_count": 11,
   "metadata": {},
   "outputs": [],
   "source": [
    "# Loại bỏ dòng trùng lặp\n",
    "df = df.drop_duplicates()"
   ]
  },
  {
   "cell_type": "code",
   "execution_count": 12,
   "metadata": {},
   "outputs": [
    {
     "name": "stdout",
     "output_type": "stream",
     "text": [
      "Số dòng trùng lặp hiện tại là: 0\n"
     ]
    }
   ],
   "source": [
    "print(f\"Số dòng trùng lặp hiện tại là: {df.duplicated().sum()}\")"
   ]
  },
  {
   "cell_type": "markdown",
   "metadata": {},
   "source": [
    "### Loại bỏ các cột dựa vào phân tích:"
   ]
  },
  {
   "cell_type": "markdown",
   "metadata": {},
   "source": [
    "#### Xem tỷ lệ dữ liệu thiếu ở của các thuộc tính hiện tại:"
   ]
  },
  {
   "cell_type": "code",
   "execution_count": 13,
   "metadata": {},
   "outputs": [],
   "source": [
    "def missing_ratio(col):\n",
    "    return (col.isna().mean() * 100).round(1)"
   ]
  },
  {
   "cell_type": "code",
   "execution_count": 14,
   "metadata": {},
   "outputs": [
    {
     "data": {
      "text/html": [
       "<div>\n",
       "<style scoped>\n",
       "    .dataframe tbody tr th:only-of-type {\n",
       "        vertical-align: middle;\n",
       "    }\n",
       "\n",
       "    .dataframe tbody tr th {\n",
       "        vertical-align: top;\n",
       "    }\n",
       "\n",
       "    .dataframe thead th {\n",
       "        text-align: right;\n",
       "    }\n",
       "</style>\n",
       "<table border=\"1\" class=\"dataframe\">\n",
       "  <thead>\n",
       "    <tr style=\"text-align: right;\">\n",
       "      <th></th>\n",
       "      <th>Features</th>\n",
       "      <th>Missing ratio</th>\n",
       "    </tr>\n",
       "  </thead>\n",
       "  <tbody>\n",
       "    <tr>\n",
       "      <th>0</th>\n",
       "      <td>gia_cu</td>\n",
       "      <td>43.3</td>\n",
       "    </tr>\n",
       "    <tr>\n",
       "      <th>1</th>\n",
       "      <td>do_sang_man_hinh</td>\n",
       "      <td>42.5</td>\n",
       "    </tr>\n",
       "    <tr>\n",
       "      <th>2</th>\n",
       "      <td>loai_pin</td>\n",
       "      <td>27.9</td>\n",
       "    </tr>\n",
       "    <tr>\n",
       "      <th>3</th>\n",
       "      <td>tan_so_quet</td>\n",
       "      <td>24.6</td>\n",
       "    </tr>\n",
       "    <tr>\n",
       "      <th>4</th>\n",
       "      <td>gia_moi</td>\n",
       "      <td>19.1</td>\n",
       "    </tr>\n",
       "    <tr>\n",
       "      <th>5</th>\n",
       "      <td>bo_nho_trong</td>\n",
       "      <td>7.4</td>\n",
       "    </tr>\n",
       "    <tr>\n",
       "      <th>6</th>\n",
       "      <td>cong_suat_sac</td>\n",
       "      <td>7.3</td>\n",
       "    </tr>\n",
       "    <tr>\n",
       "      <th>7</th>\n",
       "      <td>kich_thuoc_man_hinh</td>\n",
       "      <td>5.7</td>\n",
       "    </tr>\n",
       "    <tr>\n",
       "      <th>8</th>\n",
       "      <td>loai_man_hinh</td>\n",
       "      <td>5.4</td>\n",
       "    </tr>\n",
       "    <tr>\n",
       "      <th>9</th>\n",
       "      <td>dung_luong_pin</td>\n",
       "      <td>2.3</td>\n",
       "    </tr>\n",
       "    <tr>\n",
       "      <th>10</th>\n",
       "      <td>ram</td>\n",
       "      <td>0.5</td>\n",
       "    </tr>\n",
       "    <tr>\n",
       "      <th>11</th>\n",
       "      <td>thoi_gian_bao_hanh</td>\n",
       "      <td>0.0</td>\n",
       "    </tr>\n",
       "    <tr>\n",
       "      <th>12</th>\n",
       "      <td>do_phan_giai_cam_sau</td>\n",
       "      <td>0.0</td>\n",
       "    </tr>\n",
       "    <tr>\n",
       "      <th>13</th>\n",
       "      <td>so_the_sim</td>\n",
       "      <td>0.0</td>\n",
       "    </tr>\n",
       "    <tr>\n",
       "      <th>14</th>\n",
       "      <td>la_dien_thoai_cu</td>\n",
       "      <td>0.0</td>\n",
       "    </tr>\n",
       "    <tr>\n",
       "      <th>15</th>\n",
       "      <td>danh_gia</td>\n",
       "      <td>0.0</td>\n",
       "    </tr>\n",
       "    <tr>\n",
       "      <th>16</th>\n",
       "      <td>hang_dien_thoai</td>\n",
       "      <td>0.0</td>\n",
       "    </tr>\n",
       "    <tr>\n",
       "      <th>17</th>\n",
       "      <td>he_dieu_hanh</td>\n",
       "      <td>0.0</td>\n",
       "    </tr>\n",
       "    <tr>\n",
       "      <th>18</th>\n",
       "      <td>so_luong_binh_luan</td>\n",
       "      <td>0.0</td>\n",
       "    </tr>\n",
       "    <tr>\n",
       "      <th>19</th>\n",
       "      <td>do_phan_giai_cam_truoc</td>\n",
       "      <td>0.0</td>\n",
       "    </tr>\n",
       "  </tbody>\n",
       "</table>\n",
       "</div>"
      ],
      "text/plain": [
       "                  Features  Missing ratio\n",
       "0                   gia_cu           43.3\n",
       "1         do_sang_man_hinh           42.5\n",
       "2                 loai_pin           27.9\n",
       "3              tan_so_quet           24.6\n",
       "4                  gia_moi           19.1\n",
       "5             bo_nho_trong            7.4\n",
       "6            cong_suat_sac            7.3\n",
       "7      kich_thuoc_man_hinh            5.7\n",
       "8            loai_man_hinh            5.4\n",
       "9           dung_luong_pin            2.3\n",
       "10                     ram            0.5\n",
       "11      thoi_gian_bao_hanh            0.0\n",
       "12    do_phan_giai_cam_sau            0.0\n",
       "13              so_the_sim            0.0\n",
       "14        la_dien_thoai_cu            0.0\n",
       "15                danh_gia            0.0\n",
       "16         hang_dien_thoai            0.0\n",
       "17            he_dieu_hanh            0.0\n",
       "18      so_luong_binh_luan            0.0\n",
       "19  do_phan_giai_cam_truoc            0.0"
      ]
     },
     "execution_count": 14,
     "metadata": {},
     "output_type": "execute_result"
    }
   ],
   "source": [
    "missing_ratio_df = df.apply(missing_ratio).sort_values(ascending=False)\n",
    "missing_ratio_df = missing_ratio_df.reset_index()\n",
    "missing_ratio_df.columns = [\"Features\", \"Missing ratio\"]\n",
    "missing_ratio_df"
   ]
  },
  {
   "cell_type": "markdown",
   "metadata": {},
   "source": [
    "- Nhận thấy rằng cột `do_sang_man_hinh` và `gia_cu` có tỉ lệ các giá trị thiếu rất cao so với phần còn lại. Ta sẽ loại bỏ 2 cột này:"
   ]
  },
  {
   "cell_type": "code",
   "execution_count": 15,
   "metadata": {},
   "outputs": [],
   "source": [
    "df = df.drop(columns=[\"gia_cu\", \"do_sang_man_hinh\"])"
   ]
  },
  {
   "cell_type": "markdown",
   "metadata": {},
   "source": [
    "#### Loại bỏ các hàng tồn tại ít nhất một giá trị NaN."
   ]
  },
  {
   "cell_type": "markdown",
   "metadata": {},
   "source": [
    "- Mục đích: để giữ tính thực tế của dữ liệu, chúng em không điền giữ liệu thiếu mà sẽ xóa đi."
   ]
  },
  {
   "cell_type": "code",
   "execution_count": 16,
   "metadata": {},
   "outputs": [],
   "source": [
    "df = df.dropna()"
   ]
  },
  {
   "cell_type": "markdown",
   "metadata": {},
   "source": [
    "#### Xem thông tin của dữ liệu hiện tại:"
   ]
  },
  {
   "cell_type": "code",
   "execution_count": 17,
   "metadata": {},
   "outputs": [
    {
     "name": "stdout",
     "output_type": "stream",
     "text": [
      "<class 'pandas.core.frame.DataFrame'>\n",
      "Index: 1577 entries, 18 to 8532\n",
      "Data columns (total 18 columns):\n",
      " #   Column                  Non-Null Count  Dtype  \n",
      "---  ------                  --------------  -----  \n",
      " 0   thoi_gian_bao_hanh      1577 non-null   float64\n",
      " 1   danh_gia                1577 non-null   float64\n",
      " 2   so_luong_binh_luan      1577 non-null   int64  \n",
      " 3   gia_moi                 1577 non-null   float64\n",
      " 4   he_dieu_hanh            1577 non-null   object \n",
      " 5   ram                     1577 non-null   float64\n",
      " 6   bo_nho_trong            1577 non-null   float64\n",
      " 7   dung_luong_pin          1577 non-null   float64\n",
      " 8   hang_dien_thoai         1577 non-null   object \n",
      " 9   la_dien_thoai_cu        1577 non-null   bool   \n",
      " 10  kich_thuoc_man_hinh     1577 non-null   float64\n",
      " 11  tan_so_quet             1577 non-null   float64\n",
      " 12  loai_man_hinh           1577 non-null   object \n",
      " 13  so_the_sim              1577 non-null   int64  \n",
      " 14  loai_pin                1577 non-null   object \n",
      " 15  cong_suat_sac           1577 non-null   float64\n",
      " 16  do_phan_giai_cam_sau    1577 non-null   object \n",
      " 17  do_phan_giai_cam_truoc  1577 non-null   object \n",
      "dtypes: bool(1), float64(9), int64(2), object(6)\n",
      "memory usage: 223.3+ KB\n"
     ]
    }
   ],
   "source": [
    "df.info()"
   ]
  },
  {
   "cell_type": "markdown",
   "metadata": {},
   "source": [
    "#### Xử lý các cột non-numeric:"
   ]
  },
  {
   "cell_type": "markdown",
   "metadata": {},
   "source": [
    "##### Trước hết ta cần chuyển các thuộc tính có kiểu category về kiểu số:"
   ]
  },
  {
   "cell_type": "code",
   "execution_count": 18,
   "metadata": {},
   "outputs": [
    {
     "name": "stdout",
     "output_type": "stream",
     "text": [
      "<class 'pandas.core.frame.DataFrame'>\n",
      "Index: 1577 entries, 18 to 8532\n",
      "Data columns (total 6 columns):\n",
      " #   Column                  Non-Null Count  Dtype \n",
      "---  ------                  --------------  ----- \n",
      " 0   he_dieu_hanh            1577 non-null   object\n",
      " 1   hang_dien_thoai         1577 non-null   object\n",
      " 2   loai_man_hinh           1577 non-null   object\n",
      " 3   loai_pin                1577 non-null   object\n",
      " 4   do_phan_giai_cam_sau    1577 non-null   object\n",
      " 5   do_phan_giai_cam_truoc  1577 non-null   object\n",
      "dtypes: object(6)\n",
      "memory usage: 86.2+ KB\n"
     ]
    }
   ],
   "source": [
    "df.select_dtypes(include=['object']).info()"
   ]
  },
  {
   "cell_type": "markdown",
   "metadata": {},
   "source": [
    "- Tách cột `he_dieu_hanh` thành 2 cột `Android` và `iOS`:"
   ]
  },
  {
   "cell_type": "code",
   "execution_count": 19,
   "metadata": {},
   "outputs": [
    {
     "data": {
      "text/plain": [
       "array(['Android 13', 'Android 12', 'Android 11', 'Android 14',\n",
       "       'Android 10', 'Android 15', 'iOS 15', 'iOS 16', 'iOS 17', 'Khác',\n",
       "       'iOS 18', 'Android 9'], dtype=object)"
      ]
     },
     "execution_count": 19,
     "metadata": {},
     "output_type": "execute_result"
    }
   ],
   "source": [
    "df['he_dieu_hanh'].unique()"
   ]
  },
  {
   "cell_type": "code",
   "execution_count": 20,
   "metadata": {},
   "outputs": [],
   "source": [
    "def extract_os_version(os, os_type):\n",
    "    if os.startswith(os_type):\n",
    "        return int(os.split(\" \")[1])  # Lấy phiên bản (phần số)\n",
    "    return 0  # Nếu không phải hệ điều hành đó, trả về 0"
   ]
  },
  {
   "cell_type": "code",
   "execution_count": 21,
   "metadata": {},
   "outputs": [],
   "source": [
    "# Thêm 2 cột mới thay cho cột he_dieu_hanh\n",
    "df['Android'] = df['he_dieu_hanh'].apply(lambda x: extract_os_version(x, 'Android'))\n",
    "df['iOS'] = df['he_dieu_hanh'].apply(lambda x: extract_os_version(x, 'iOS'))"
   ]
  },
  {
   "cell_type": "code",
   "execution_count": 22,
   "metadata": {},
   "outputs": [],
   "source": [
    "# Xóa cột he_dieu_hanh\n",
    "df = df.drop(columns=['he_dieu_hanh'])"
   ]
  },
  {
   "cell_type": "markdown",
   "metadata": {},
   "source": [
    "- Cột `do_phan_giai_cam_sau` và `do_phan_giai_cam_truoc`:"
   ]
  },
  {
   "cell_type": "code",
   "execution_count": 23,
   "metadata": {},
   "outputs": [
    {
     "data": {
      "text/plain": [
       "7364         [64.0, 13.0, 2.0]\n",
       "1227          [64.0, 8.0, 2.0]\n",
       "1176         [108.0, 8.0, 2.0]\n",
       "1115    [108.0, 8.0, 2.0, 2.0]\n",
       "6226              [50.0, 0.08]\n",
       "Name: do_phan_giai_cam_sau, dtype: object"
      ]
     },
     "execution_count": 23,
     "metadata": {},
     "output_type": "execute_result"
    }
   ],
   "source": [
    "df['do_phan_giai_cam_sau'].sample(5)"
   ]
  },
  {
   "cell_type": "code",
   "execution_count": 24,
   "metadata": {},
   "outputs": [
    {
     "data": {
      "text/plain": [
       "4820    [16.0]\n",
       "2993    [50.0]\n",
       "611     [12.0]\n",
       "3188    [32.0]\n",
       "823     [12.0]\n",
       "Name: do_phan_giai_cam_truoc, dtype: object"
      ]
     },
     "execution_count": 24,
     "metadata": {},
     "output_type": "execute_result"
    }
   ],
   "source": [
    "df['do_phan_giai_cam_truoc'].sample(5)"
   ]
  },
  {
   "cell_type": "markdown",
   "metadata": {},
   "source": [
    "- Nhận xét:\n",
    "    - 2 cột trên lưu trữ danh sách thông số của từng camera ở trước và sau của mỗi điện thoại.\n",
    "    - Ta sẽ chuyển 2 cột này về dạng số bằng cách cộng tổng các số trong mỗi danh sách."
   ]
  },
  {
   "cell_type": "code",
   "execution_count": 25,
   "metadata": {},
   "outputs": [],
   "source": [
    "df['do_phan_giai_cam_sau'] = df['do_phan_giai_cam_sau'].apply(ast.literal_eval)\n",
    "df['do_phan_giai_cam_sau'] = df['do_phan_giai_cam_sau'].apply(sum)"
   ]
  },
  {
   "cell_type": "code",
   "execution_count": 26,
   "metadata": {},
   "outputs": [],
   "source": [
    "df['do_phan_giai_cam_truoc'] = df['do_phan_giai_cam_truoc'].apply(ast.literal_eval)\n",
    "df['do_phan_giai_cam_truoc'] = df['do_phan_giai_cam_truoc'].apply(sum)"
   ]
  },
  {
   "cell_type": "markdown",
   "metadata": {},
   "source": [
    "- Cột `hang_dien_thoai`, `loai_man_hinh`, `loai_pin`:"
   ]
  },
  {
   "cell_type": "code",
   "execution_count": 27,
   "metadata": {},
   "outputs": [
    {
     "data": {
      "text/plain": [
       "array(['Xiaomi', 'Samsung', 'Realme', 'Vivo', 'Nubia', 'iPhone', 'ZTE',\n",
       "       'Tecno', 'itel', 'Motorola', 'Google', 'Honor', 'Oppo', 'Infinix',\n",
       "       'OnePlus', 'Bphone', 'BLU', 'Ulefone', 'Meizu', 'Lenovo', 'Asus',\n",
       "       'Nothing', 'Sony', 'Unihertz', 'Fairphone', 'NIO', 'Red', 'POCO'],\n",
       "      dtype=object)"
      ]
     },
     "execution_count": 27,
     "metadata": {},
     "output_type": "execute_result"
    }
   ],
   "source": [
    "df['hang_dien_thoai'].unique()"
   ]
  },
  {
   "cell_type": "code",
   "execution_count": 28,
   "metadata": {},
   "outputs": [
    {
     "data": {
      "text/plain": [
       "array(['LCD', 'OLED', 'AMOLED'], dtype=object)"
      ]
     },
     "execution_count": 28,
     "metadata": {},
     "output_type": "execute_result"
    }
   ],
   "source": [
    "df['loai_man_hinh'].unique()"
   ]
  },
  {
   "cell_type": "code",
   "execution_count": 29,
   "metadata": {},
   "outputs": [
    {
     "data": {
      "text/plain": [
       "array(['Li-Po', 'Li-Ion', 'Si/C'], dtype=object)"
      ]
     },
     "execution_count": 29,
     "metadata": {},
     "output_type": "execute_result"
    }
   ],
   "source": [
    "df['loai_pin'].unique()"
   ]
  },
  {
   "cell_type": "markdown",
   "metadata": {},
   "source": [
    "- Nhận xét:\n",
    "    - Các cột này gồm các giá trị không có mối quan hệ thứ tự.\n",
    "    - Do đó dùng OneHotEncoder để chuyển đổi."
   ]
  },
  {
   "cell_type": "code",
   "execution_count": 30,
   "metadata": {},
   "outputs": [],
   "source": [
    "one_hot = pd.get_dummies(df['hang_dien_thoai'], prefix='hang_dien_thoai')\n",
    "df = pd.concat([df, one_hot], axis=1)\n",
    "one_hot = pd.get_dummies(df['loai_man_hinh'], prefix='loai_man_hinh')\n",
    "df = pd.concat([df, one_hot], axis=1)\n",
    "one_hot = pd.get_dummies(df['loai_pin'], prefix='loai_pin')\n",
    "df = pd.concat([df, one_hot], axis=1)\n",
    "\n",
    "df = df.drop(columns=['hang_dien_thoai', 'loai_man_hinh', 'loai_pin'])"
   ]
  },
  {
   "cell_type": "code",
   "execution_count": 31,
   "metadata": {},
   "outputs": [],
   "source": [
    "# cat_features_onehot = ['hang_dien_thoai', 'loai_man_hinh', 'loai_pin']"
   ]
  },
  {
   "cell_type": "code",
   "execution_count": 32,
   "metadata": {},
   "outputs": [],
   "source": [
    "# # Khởi tạo OneHotEncoder\n",
    "# onehot_encoder = OneHotEncoder(sparse_output=False, drop='first')  # drop='first' để loại bỏ cột tham chiếu\n",
    "\n",
    "# # Áp dụng OneHotEncoder lên các cột phân loại\n",
    "# encoded_data = onehot_encoder.fit_transform(df[cat_features_onehot])\n",
    "\n",
    "# # Chuyển đổi kết quả thành DataFrame và gắn tên cột mới\n",
    "# encoded_df = pd.DataFrame(encoded_data, columns=onehot_encoder.get_feature_names_out(cat_features_onehot))"
   ]
  },
  {
   "cell_type": "code",
   "execution_count": 33,
   "metadata": {},
   "outputs": [],
   "source": [
    "# df = df.reset_index(drop=True)\n",
    "\n",
    "# # Nối các cột One-Hot đã mã hóa vào DataFrame gốc\n",
    "# df = pd.concat([df, encoded_df], axis=1)\n",
    "\n",
    "# # Xoá các cột phân loại ban đầu\n",
    "# df = df.drop(columns=cat_features_onehot)"
   ]
  },
  {
   "cell_type": "markdown",
   "metadata": {},
   "source": [
    "- Cột `la_dien_thoai_cu`:"
   ]
  },
  {
   "cell_type": "code",
   "execution_count": 34,
   "metadata": {},
   "outputs": [
    {
     "data": {
      "text/plain": [
       "array([False,  True])"
      ]
     },
     "execution_count": 34,
     "metadata": {},
     "output_type": "execute_result"
    }
   ],
   "source": [
    "df['la_dien_thoai_cu'].unique()"
   ]
  },
  {
   "cell_type": "markdown",
   "metadata": {},
   "source": [
    "- Nhận xét:\n",
    "    - Chuyển cột này bằng LabelEncoder."
   ]
  },
  {
   "cell_type": "code",
   "execution_count": 35,
   "metadata": {},
   "outputs": [
    {
     "name": "stdout",
     "output_type": "stream",
     "text": [
      "Kích thước trước fillna: (1577, 50)\n",
      "Kích thước sau fillna: (1577, 50)\n"
     ]
    }
   ],
   "source": [
    "print(\"Kích thước trước fillna:\", df.shape)\n",
    "df['la_dien_thoai_cu'] = df['la_dien_thoai_cu'].fillna(-1)\n",
    "print(\"Kích thước sau fillna:\", df.shape)"
   ]
  },
  {
   "cell_type": "code",
   "execution_count": 36,
   "metadata": {},
   "outputs": [],
   "source": [
    "# Thay NaN bằng -1\n",
    "df['la_dien_thoai_cu'] = df['la_dien_thoai_cu'].fillna(-1)\n",
    "\n",
    "# Khởi tạo LabelEncoder\n",
    "label_encoder = LabelEncoder()\n",
    "\n",
    "# Áp dụng LabelEncoder\n",
    "df['la_dien_thoai_cu'] = label_encoder.fit_transform(df['la_dien_thoai_cu'])"
   ]
  },
  {
   "cell_type": "code",
   "execution_count": 37,
   "metadata": {},
   "outputs": [
    {
     "data": {
      "text/plain": [
       "array([0, 1])"
      ]
     },
     "execution_count": 37,
     "metadata": {},
     "output_type": "execute_result"
    }
   ],
   "source": [
    "df['la_dien_thoai_cu'].unique()"
   ]
  },
  {
   "cell_type": "markdown",
   "metadata": {},
   "source": [
    "##### Xem lại thông tin của bộ dữ liệu:"
   ]
  },
  {
   "cell_type": "code",
   "execution_count": 38,
   "metadata": {},
   "outputs": [
    {
     "name": "stdout",
     "output_type": "stream",
     "text": [
      "<class 'pandas.core.frame.DataFrame'>\n",
      "Index: 1577 entries, 18 to 8532\n",
      "Data columns (total 50 columns):\n",
      " #   Column                     Non-Null Count  Dtype  \n",
      "---  ------                     --------------  -----  \n",
      " 0   thoi_gian_bao_hanh         1577 non-null   float64\n",
      " 1   danh_gia                   1577 non-null   float64\n",
      " 2   so_luong_binh_luan         1577 non-null   int64  \n",
      " 3   gia_moi                    1577 non-null   float64\n",
      " 4   ram                        1577 non-null   float64\n",
      " 5   bo_nho_trong               1577 non-null   float64\n",
      " 6   dung_luong_pin             1577 non-null   float64\n",
      " 7   la_dien_thoai_cu           1577 non-null   int64  \n",
      " 8   kich_thuoc_man_hinh        1577 non-null   float64\n",
      " 9   tan_so_quet                1577 non-null   float64\n",
      " 10  so_the_sim                 1577 non-null   int64  \n",
      " 11  cong_suat_sac              1577 non-null   float64\n",
      " 12  do_phan_giai_cam_sau       1577 non-null   float64\n",
      " 13  do_phan_giai_cam_truoc     1577 non-null   float64\n",
      " 14  Android                    1577 non-null   int64  \n",
      " 15  iOS                        1577 non-null   int64  \n",
      " 16  hang_dien_thoai_Asus       1577 non-null   bool   \n",
      " 17  hang_dien_thoai_BLU        1577 non-null   bool   \n",
      " 18  hang_dien_thoai_Bphone     1577 non-null   bool   \n",
      " 19  hang_dien_thoai_Fairphone  1577 non-null   bool   \n",
      " 20  hang_dien_thoai_Google     1577 non-null   bool   \n",
      " 21  hang_dien_thoai_Honor      1577 non-null   bool   \n",
      " 22  hang_dien_thoai_Infinix    1577 non-null   bool   \n",
      " 23  hang_dien_thoai_Lenovo     1577 non-null   bool   \n",
      " 24  hang_dien_thoai_Meizu      1577 non-null   bool   \n",
      " 25  hang_dien_thoai_Motorola   1577 non-null   bool   \n",
      " 26  hang_dien_thoai_NIO        1577 non-null   bool   \n",
      " 27  hang_dien_thoai_Nothing    1577 non-null   bool   \n",
      " 28  hang_dien_thoai_Nubia      1577 non-null   bool   \n",
      " 29  hang_dien_thoai_OnePlus    1577 non-null   bool   \n",
      " 30  hang_dien_thoai_Oppo       1577 non-null   bool   \n",
      " 31  hang_dien_thoai_POCO       1577 non-null   bool   \n",
      " 32  hang_dien_thoai_Realme     1577 non-null   bool   \n",
      " 33  hang_dien_thoai_Red        1577 non-null   bool   \n",
      " 34  hang_dien_thoai_Samsung    1577 non-null   bool   \n",
      " 35  hang_dien_thoai_Sony       1577 non-null   bool   \n",
      " 36  hang_dien_thoai_Tecno      1577 non-null   bool   \n",
      " 37  hang_dien_thoai_Ulefone    1577 non-null   bool   \n",
      " 38  hang_dien_thoai_Unihertz   1577 non-null   bool   \n",
      " 39  hang_dien_thoai_Vivo       1577 non-null   bool   \n",
      " 40  hang_dien_thoai_Xiaomi     1577 non-null   bool   \n",
      " 41  hang_dien_thoai_ZTE        1577 non-null   bool   \n",
      " 42  hang_dien_thoai_iPhone     1577 non-null   bool   \n",
      " 43  hang_dien_thoai_itel       1577 non-null   bool   \n",
      " 44  loai_man_hinh_AMOLED       1577 non-null   bool   \n",
      " 45  loai_man_hinh_LCD          1577 non-null   bool   \n",
      " 46  loai_man_hinh_OLED         1577 non-null   bool   \n",
      " 47  loai_pin_Li-Ion            1577 non-null   bool   \n",
      " 48  loai_pin_Li-Po             1577 non-null   bool   \n",
      " 49  loai_pin_Si/C              1577 non-null   bool   \n",
      "dtypes: bool(34), float64(11), int64(5)\n",
      "memory usage: 261.8 KB\n"
     ]
    }
   ],
   "source": [
    "df.drop_duplicates(inplace=True)\n",
    "df.info()"
   ]
  },
  {
   "cell_type": "markdown",
   "metadata": {},
   "source": [
    "##### Chúng ta đã chuyển đổi các cột non-numeric về numeric, vậy nên ta sẽ áp dụng tất cả thuộc tính này vào các mô hình."
   ]
  },
  {
   "cell_type": "markdown",
   "metadata": {},
   "source": [
    "### Chuẩn hóa cho các cột dữ liệu số ban đầu:"
   ]
  },
  {
   "cell_type": "code",
   "execution_count": 39,
   "metadata": {},
   "outputs": [],
   "source": [
    "num_features = ['thoi_gian_bao_hanh', 'danh_gia', 'so_luong_binh_luan', 'ram', 'bo_nho_trong', 'dung_luong_pin', 'kich_thuoc_man_hinh', 'tan_so_quet', 'so_the_sim', 'cong_suat_sac']"
   ]
  },
  {
   "cell_type": "code",
   "execution_count": 40,
   "metadata": {},
   "outputs": [],
   "source": [
    "# Khởi tạo StandardScaler\n",
    "num_transformer = StandardScaler()\n",
    "\n",
    "# Áp dụng StandardScaler lên các cột số ban đầu\n",
    "df[num_features] = num_transformer.fit_transform(df[num_features])"
   ]
  },
  {
   "cell_type": "markdown",
   "metadata": {},
   "source": [
    "> Ta có dataset đã được tiền xử lý trước khi input vào model"
   ]
  },
  {
   "cell_type": "code",
   "execution_count": 41,
   "metadata": {},
   "outputs": [
    {
     "data": {
      "text/html": [
       "<div>\n",
       "<style scoped>\n",
       "    .dataframe tbody tr th:only-of-type {\n",
       "        vertical-align: middle;\n",
       "    }\n",
       "\n",
       "    .dataframe tbody tr th {\n",
       "        vertical-align: top;\n",
       "    }\n",
       "\n",
       "    .dataframe thead th {\n",
       "        text-align: right;\n",
       "    }\n",
       "</style>\n",
       "<table border=\"1\" class=\"dataframe\">\n",
       "  <thead>\n",
       "    <tr style=\"text-align: right;\">\n",
       "      <th></th>\n",
       "      <th>thoi_gian_bao_hanh</th>\n",
       "      <th>danh_gia</th>\n",
       "      <th>so_luong_binh_luan</th>\n",
       "      <th>gia_moi</th>\n",
       "      <th>ram</th>\n",
       "      <th>bo_nho_trong</th>\n",
       "      <th>dung_luong_pin</th>\n",
       "      <th>la_dien_thoai_cu</th>\n",
       "      <th>kich_thuoc_man_hinh</th>\n",
       "      <th>tan_so_quet</th>\n",
       "      <th>so_the_sim</th>\n",
       "      <th>cong_suat_sac</th>\n",
       "      <th>do_phan_giai_cam_sau</th>\n",
       "      <th>do_phan_giai_cam_truoc</th>\n",
       "      <th>Android</th>\n",
       "      <th>iOS</th>\n",
       "      <th>hang_dien_thoai_Asus</th>\n",
       "      <th>hang_dien_thoai_BLU</th>\n",
       "      <th>hang_dien_thoai_Bphone</th>\n",
       "      <th>hang_dien_thoai_Fairphone</th>\n",
       "      <th>hang_dien_thoai_Google</th>\n",
       "      <th>hang_dien_thoai_Honor</th>\n",
       "      <th>hang_dien_thoai_Infinix</th>\n",
       "      <th>hang_dien_thoai_Lenovo</th>\n",
       "      <th>hang_dien_thoai_Meizu</th>\n",
       "      <th>hang_dien_thoai_Motorola</th>\n",
       "      <th>hang_dien_thoai_NIO</th>\n",
       "      <th>hang_dien_thoai_Nothing</th>\n",
       "      <th>hang_dien_thoai_Nubia</th>\n",
       "      <th>hang_dien_thoai_OnePlus</th>\n",
       "      <th>hang_dien_thoai_Oppo</th>\n",
       "      <th>hang_dien_thoai_POCO</th>\n",
       "      <th>hang_dien_thoai_Realme</th>\n",
       "      <th>hang_dien_thoai_Red</th>\n",
       "      <th>hang_dien_thoai_Samsung</th>\n",
       "      <th>hang_dien_thoai_Sony</th>\n",
       "      <th>hang_dien_thoai_Tecno</th>\n",
       "      <th>hang_dien_thoai_Ulefone</th>\n",
       "      <th>hang_dien_thoai_Unihertz</th>\n",
       "      <th>hang_dien_thoai_Vivo</th>\n",
       "      <th>hang_dien_thoai_Xiaomi</th>\n",
       "      <th>hang_dien_thoai_ZTE</th>\n",
       "      <th>hang_dien_thoai_iPhone</th>\n",
       "      <th>hang_dien_thoai_itel</th>\n",
       "      <th>loai_man_hinh_AMOLED</th>\n",
       "      <th>loai_man_hinh_LCD</th>\n",
       "      <th>loai_man_hinh_OLED</th>\n",
       "      <th>loai_pin_Li-Ion</th>\n",
       "      <th>loai_pin_Li-Po</th>\n",
       "      <th>loai_pin_Si/C</th>\n",
       "    </tr>\n",
       "  </thead>\n",
       "  <tbody>\n",
       "    <tr>\n",
       "      <th>0</th>\n",
       "      <td>0.371926</td>\n",
       "      <td>0.203912</td>\n",
       "      <td>-0.300904</td>\n",
       "      <td>2250000.0</td>\n",
       "      <td>-1.755898</td>\n",
       "      <td>-0.75546</td>\n",
       "      <td>0.06346</td>\n",
       "      <td>0</td>\n",
       "      <td>0.320734</td>\n",
       "      <td>-1.908224</td>\n",
       "      <td>0.232689</td>\n",
       "      <td>-1.331597</td>\n",
       "      <td>50.08</td>\n",
       "      <td>5.0</td>\n",
       "      <td>13</td>\n",
       "      <td>0</td>\n",
       "      <td>False</td>\n",
       "      <td>False</td>\n",
       "      <td>False</td>\n",
       "      <td>False</td>\n",
       "      <td>False</td>\n",
       "      <td>False</td>\n",
       "      <td>False</td>\n",
       "      <td>False</td>\n",
       "      <td>False</td>\n",
       "      <td>False</td>\n",
       "      <td>False</td>\n",
       "      <td>False</td>\n",
       "      <td>False</td>\n",
       "      <td>False</td>\n",
       "      <td>False</td>\n",
       "      <td>False</td>\n",
       "      <td>False</td>\n",
       "      <td>False</td>\n",
       "      <td>False</td>\n",
       "      <td>False</td>\n",
       "      <td>False</td>\n",
       "      <td>False</td>\n",
       "      <td>False</td>\n",
       "      <td>False</td>\n",
       "      <td>True</td>\n",
       "      <td>False</td>\n",
       "      <td>False</td>\n",
       "      <td>False</td>\n",
       "      <td>False</td>\n",
       "      <td>True</td>\n",
       "      <td>False</td>\n",
       "      <td>False</td>\n",
       "      <td>True</td>\n",
       "      <td>False</td>\n",
       "    </tr>\n",
       "    <tr>\n",
       "      <th>1</th>\n",
       "      <td>0.371926</td>\n",
       "      <td>0.203912</td>\n",
       "      <td>-0.300904</td>\n",
       "      <td>2550000.0</td>\n",
       "      <td>-1.174653</td>\n",
       "      <td>-0.75546</td>\n",
       "      <td>0.06346</td>\n",
       "      <td>0</td>\n",
       "      <td>0.320734</td>\n",
       "      <td>-1.908224</td>\n",
       "      <td>0.232689</td>\n",
       "      <td>-1.331597</td>\n",
       "      <td>50.08</td>\n",
       "      <td>5.0</td>\n",
       "      <td>13</td>\n",
       "      <td>0</td>\n",
       "      <td>False</td>\n",
       "      <td>False</td>\n",
       "      <td>False</td>\n",
       "      <td>False</td>\n",
       "      <td>False</td>\n",
       "      <td>False</td>\n",
       "      <td>False</td>\n",
       "      <td>False</td>\n",
       "      <td>False</td>\n",
       "      <td>False</td>\n",
       "      <td>False</td>\n",
       "      <td>False</td>\n",
       "      <td>False</td>\n",
       "      <td>False</td>\n",
       "      <td>False</td>\n",
       "      <td>False</td>\n",
       "      <td>False</td>\n",
       "      <td>False</td>\n",
       "      <td>False</td>\n",
       "      <td>False</td>\n",
       "      <td>False</td>\n",
       "      <td>False</td>\n",
       "      <td>False</td>\n",
       "      <td>False</td>\n",
       "      <td>True</td>\n",
       "      <td>False</td>\n",
       "      <td>False</td>\n",
       "      <td>False</td>\n",
       "      <td>False</td>\n",
       "      <td>True</td>\n",
       "      <td>False</td>\n",
       "      <td>False</td>\n",
       "      <td>True</td>\n",
       "      <td>False</td>\n",
       "    </tr>\n",
       "    <tr>\n",
       "      <th>2</th>\n",
       "      <td>0.371926</td>\n",
       "      <td>0.203912</td>\n",
       "      <td>-0.293715</td>\n",
       "      <td>2550000.0</td>\n",
       "      <td>-1.755898</td>\n",
       "      <td>-0.75546</td>\n",
       "      <td>0.06346</td>\n",
       "      <td>0</td>\n",
       "      <td>0.008678</td>\n",
       "      <td>-0.059097</td>\n",
       "      <td>0.232689</td>\n",
       "      <td>-0.955369</td>\n",
       "      <td>50.00</td>\n",
       "      <td>8.0</td>\n",
       "      <td>12</td>\n",
       "      <td>0</td>\n",
       "      <td>False</td>\n",
       "      <td>False</td>\n",
       "      <td>False</td>\n",
       "      <td>False</td>\n",
       "      <td>False</td>\n",
       "      <td>False</td>\n",
       "      <td>False</td>\n",
       "      <td>False</td>\n",
       "      <td>False</td>\n",
       "      <td>False</td>\n",
       "      <td>False</td>\n",
       "      <td>False</td>\n",
       "      <td>False</td>\n",
       "      <td>False</td>\n",
       "      <td>False</td>\n",
       "      <td>False</td>\n",
       "      <td>False</td>\n",
       "      <td>False</td>\n",
       "      <td>False</td>\n",
       "      <td>False</td>\n",
       "      <td>False</td>\n",
       "      <td>False</td>\n",
       "      <td>False</td>\n",
       "      <td>False</td>\n",
       "      <td>True</td>\n",
       "      <td>False</td>\n",
       "      <td>False</td>\n",
       "      <td>False</td>\n",
       "      <td>False</td>\n",
       "      <td>False</td>\n",
       "      <td>True</td>\n",
       "      <td>False</td>\n",
       "      <td>True</td>\n",
       "      <td>False</td>\n",
       "    </tr>\n",
       "    <tr>\n",
       "      <th>3</th>\n",
       "      <td>0.371926</td>\n",
       "      <td>0.203912</td>\n",
       "      <td>-0.293715</td>\n",
       "      <td>2750000.0</td>\n",
       "      <td>-1.174653</td>\n",
       "      <td>-0.75546</td>\n",
       "      <td>0.06346</td>\n",
       "      <td>0</td>\n",
       "      <td>0.008678</td>\n",
       "      <td>-0.059097</td>\n",
       "      <td>0.232689</td>\n",
       "      <td>-0.955369</td>\n",
       "      <td>50.00</td>\n",
       "      <td>8.0</td>\n",
       "      <td>12</td>\n",
       "      <td>0</td>\n",
       "      <td>False</td>\n",
       "      <td>False</td>\n",
       "      <td>False</td>\n",
       "      <td>False</td>\n",
       "      <td>False</td>\n",
       "      <td>False</td>\n",
       "      <td>False</td>\n",
       "      <td>False</td>\n",
       "      <td>False</td>\n",
       "      <td>False</td>\n",
       "      <td>False</td>\n",
       "      <td>False</td>\n",
       "      <td>False</td>\n",
       "      <td>False</td>\n",
       "      <td>False</td>\n",
       "      <td>False</td>\n",
       "      <td>False</td>\n",
       "      <td>False</td>\n",
       "      <td>False</td>\n",
       "      <td>False</td>\n",
       "      <td>False</td>\n",
       "      <td>False</td>\n",
       "      <td>False</td>\n",
       "      <td>False</td>\n",
       "      <td>True</td>\n",
       "      <td>False</td>\n",
       "      <td>False</td>\n",
       "      <td>False</td>\n",
       "      <td>False</td>\n",
       "      <td>False</td>\n",
       "      <td>True</td>\n",
       "      <td>False</td>\n",
       "      <td>True</td>\n",
       "      <td>False</td>\n",
       "    </tr>\n",
       "    <tr>\n",
       "      <th>4</th>\n",
       "      <td>0.371926</td>\n",
       "      <td>0.203912</td>\n",
       "      <td>-0.293715</td>\n",
       "      <td>2950000.0</td>\n",
       "      <td>-0.593408</td>\n",
       "      <td>-0.75546</td>\n",
       "      <td>0.06346</td>\n",
       "      <td>0</td>\n",
       "      <td>0.008678</td>\n",
       "      <td>-0.059097</td>\n",
       "      <td>0.232689</td>\n",
       "      <td>-0.955369</td>\n",
       "      <td>50.00</td>\n",
       "      <td>8.0</td>\n",
       "      <td>12</td>\n",
       "      <td>0</td>\n",
       "      <td>False</td>\n",
       "      <td>False</td>\n",
       "      <td>False</td>\n",
       "      <td>False</td>\n",
       "      <td>False</td>\n",
       "      <td>False</td>\n",
       "      <td>False</td>\n",
       "      <td>False</td>\n",
       "      <td>False</td>\n",
       "      <td>False</td>\n",
       "      <td>False</td>\n",
       "      <td>False</td>\n",
       "      <td>False</td>\n",
       "      <td>False</td>\n",
       "      <td>False</td>\n",
       "      <td>False</td>\n",
       "      <td>False</td>\n",
       "      <td>False</td>\n",
       "      <td>False</td>\n",
       "      <td>False</td>\n",
       "      <td>False</td>\n",
       "      <td>False</td>\n",
       "      <td>False</td>\n",
       "      <td>False</td>\n",
       "      <td>True</td>\n",
       "      <td>False</td>\n",
       "      <td>False</td>\n",
       "      <td>False</td>\n",
       "      <td>False</td>\n",
       "      <td>False</td>\n",
       "      <td>True</td>\n",
       "      <td>False</td>\n",
       "      <td>True</td>\n",
       "      <td>False</td>\n",
       "    </tr>\n",
       "    <tr>\n",
       "      <th>5</th>\n",
       "      <td>0.371926</td>\n",
       "      <td>0.203912</td>\n",
       "      <td>-0.015734</td>\n",
       "      <td>2550000.0</td>\n",
       "      <td>-1.755898</td>\n",
       "      <td>-0.75546</td>\n",
       "      <td>0.06346</td>\n",
       "      <td>0</td>\n",
       "      <td>0.543631</td>\n",
       "      <td>-1.908224</td>\n",
       "      <td>0.232689</td>\n",
       "      <td>-1.331597</td>\n",
       "      <td>52.00</td>\n",
       "      <td>5.0</td>\n",
       "      <td>13</td>\n",
       "      <td>0</td>\n",
       "      <td>False</td>\n",
       "      <td>False</td>\n",
       "      <td>False</td>\n",
       "      <td>False</td>\n",
       "      <td>False</td>\n",
       "      <td>False</td>\n",
       "      <td>False</td>\n",
       "      <td>False</td>\n",
       "      <td>False</td>\n",
       "      <td>False</td>\n",
       "      <td>False</td>\n",
       "      <td>False</td>\n",
       "      <td>False</td>\n",
       "      <td>False</td>\n",
       "      <td>False</td>\n",
       "      <td>False</td>\n",
       "      <td>False</td>\n",
       "      <td>False</td>\n",
       "      <td>False</td>\n",
       "      <td>False</td>\n",
       "      <td>False</td>\n",
       "      <td>False</td>\n",
       "      <td>False</td>\n",
       "      <td>False</td>\n",
       "      <td>True</td>\n",
       "      <td>False</td>\n",
       "      <td>False</td>\n",
       "      <td>False</td>\n",
       "      <td>False</td>\n",
       "      <td>True</td>\n",
       "      <td>False</td>\n",
       "      <td>False</td>\n",
       "      <td>True</td>\n",
       "      <td>False</td>\n",
       "    </tr>\n",
       "    <tr>\n",
       "      <th>6</th>\n",
       "      <td>0.371926</td>\n",
       "      <td>0.203912</td>\n",
       "      <td>-0.015734</td>\n",
       "      <td>2850000.0</td>\n",
       "      <td>-1.174653</td>\n",
       "      <td>-0.75546</td>\n",
       "      <td>0.06346</td>\n",
       "      <td>0</td>\n",
       "      <td>0.543631</td>\n",
       "      <td>-1.908224</td>\n",
       "      <td>0.232689</td>\n",
       "      <td>-1.331597</td>\n",
       "      <td>52.00</td>\n",
       "      <td>5.0</td>\n",
       "      <td>13</td>\n",
       "      <td>0</td>\n",
       "      <td>False</td>\n",
       "      <td>False</td>\n",
       "      <td>False</td>\n",
       "      <td>False</td>\n",
       "      <td>False</td>\n",
       "      <td>False</td>\n",
       "      <td>False</td>\n",
       "      <td>False</td>\n",
       "      <td>False</td>\n",
       "      <td>False</td>\n",
       "      <td>False</td>\n",
       "      <td>False</td>\n",
       "      <td>False</td>\n",
       "      <td>False</td>\n",
       "      <td>False</td>\n",
       "      <td>False</td>\n",
       "      <td>False</td>\n",
       "      <td>False</td>\n",
       "      <td>False</td>\n",
       "      <td>False</td>\n",
       "      <td>False</td>\n",
       "      <td>False</td>\n",
       "      <td>False</td>\n",
       "      <td>False</td>\n",
       "      <td>True</td>\n",
       "      <td>False</td>\n",
       "      <td>False</td>\n",
       "      <td>False</td>\n",
       "      <td>False</td>\n",
       "      <td>True</td>\n",
       "      <td>False</td>\n",
       "      <td>False</td>\n",
       "      <td>True</td>\n",
       "      <td>False</td>\n",
       "    </tr>\n",
       "    <tr>\n",
       "      <th>7</th>\n",
       "      <td>0.371926</td>\n",
       "      <td>0.203912</td>\n",
       "      <td>-0.015734</td>\n",
       "      <td>3150000.0</td>\n",
       "      <td>-0.593408</td>\n",
       "      <td>-0.75546</td>\n",
       "      <td>0.06346</td>\n",
       "      <td>0</td>\n",
       "      <td>0.543631</td>\n",
       "      <td>-1.908224</td>\n",
       "      <td>0.232689</td>\n",
       "      <td>-1.331597</td>\n",
       "      <td>52.00</td>\n",
       "      <td>5.0</td>\n",
       "      <td>13</td>\n",
       "      <td>0</td>\n",
       "      <td>False</td>\n",
       "      <td>False</td>\n",
       "      <td>False</td>\n",
       "      <td>False</td>\n",
       "      <td>False</td>\n",
       "      <td>False</td>\n",
       "      <td>False</td>\n",
       "      <td>False</td>\n",
       "      <td>False</td>\n",
       "      <td>False</td>\n",
       "      <td>False</td>\n",
       "      <td>False</td>\n",
       "      <td>False</td>\n",
       "      <td>False</td>\n",
       "      <td>False</td>\n",
       "      <td>False</td>\n",
       "      <td>False</td>\n",
       "      <td>False</td>\n",
       "      <td>False</td>\n",
       "      <td>False</td>\n",
       "      <td>False</td>\n",
       "      <td>False</td>\n",
       "      <td>False</td>\n",
       "      <td>False</td>\n",
       "      <td>True</td>\n",
       "      <td>False</td>\n",
       "      <td>False</td>\n",
       "      <td>False</td>\n",
       "      <td>False</td>\n",
       "      <td>True</td>\n",
       "      <td>False</td>\n",
       "      <td>False</td>\n",
       "      <td>True</td>\n",
       "      <td>False</td>\n",
       "    </tr>\n",
       "    <tr>\n",
       "      <th>8</th>\n",
       "      <td>0.371926</td>\n",
       "      <td>0.203912</td>\n",
       "      <td>-0.312886</td>\n",
       "      <td>2600000.0</td>\n",
       "      <td>-1.755898</td>\n",
       "      <td>-0.75546</td>\n",
       "      <td>0.06346</td>\n",
       "      <td>0</td>\n",
       "      <td>0.320734</td>\n",
       "      <td>-1.908224</td>\n",
       "      <td>0.232689</td>\n",
       "      <td>-1.331597</td>\n",
       "      <td>52.00</td>\n",
       "      <td>8.0</td>\n",
       "      <td>13</td>\n",
       "      <td>0</td>\n",
       "      <td>False</td>\n",
       "      <td>False</td>\n",
       "      <td>False</td>\n",
       "      <td>False</td>\n",
       "      <td>False</td>\n",
       "      <td>False</td>\n",
       "      <td>False</td>\n",
       "      <td>False</td>\n",
       "      <td>False</td>\n",
       "      <td>False</td>\n",
       "      <td>False</td>\n",
       "      <td>False</td>\n",
       "      <td>False</td>\n",
       "      <td>False</td>\n",
       "      <td>False</td>\n",
       "      <td>False</td>\n",
       "      <td>False</td>\n",
       "      <td>False</td>\n",
       "      <td>False</td>\n",
       "      <td>False</td>\n",
       "      <td>False</td>\n",
       "      <td>False</td>\n",
       "      <td>False</td>\n",
       "      <td>False</td>\n",
       "      <td>True</td>\n",
       "      <td>False</td>\n",
       "      <td>False</td>\n",
       "      <td>False</td>\n",
       "      <td>False</td>\n",
       "      <td>True</td>\n",
       "      <td>False</td>\n",
       "      <td>False</td>\n",
       "      <td>True</td>\n",
       "      <td>False</td>\n",
       "    </tr>\n",
       "    <tr>\n",
       "      <th>9</th>\n",
       "      <td>0.371926</td>\n",
       "      <td>0.203912</td>\n",
       "      <td>-0.312886</td>\n",
       "      <td>2900000.0</td>\n",
       "      <td>-1.174653</td>\n",
       "      <td>-0.75546</td>\n",
       "      <td>0.06346</td>\n",
       "      <td>0</td>\n",
       "      <td>0.320734</td>\n",
       "      <td>-1.908224</td>\n",
       "      <td>0.232689</td>\n",
       "      <td>-1.331597</td>\n",
       "      <td>52.00</td>\n",
       "      <td>8.0</td>\n",
       "      <td>13</td>\n",
       "      <td>0</td>\n",
       "      <td>False</td>\n",
       "      <td>False</td>\n",
       "      <td>False</td>\n",
       "      <td>False</td>\n",
       "      <td>False</td>\n",
       "      <td>False</td>\n",
       "      <td>False</td>\n",
       "      <td>False</td>\n",
       "      <td>False</td>\n",
       "      <td>False</td>\n",
       "      <td>False</td>\n",
       "      <td>False</td>\n",
       "      <td>False</td>\n",
       "      <td>False</td>\n",
       "      <td>False</td>\n",
       "      <td>False</td>\n",
       "      <td>False</td>\n",
       "      <td>False</td>\n",
       "      <td>False</td>\n",
       "      <td>False</td>\n",
       "      <td>False</td>\n",
       "      <td>False</td>\n",
       "      <td>False</td>\n",
       "      <td>False</td>\n",
       "      <td>True</td>\n",
       "      <td>False</td>\n",
       "      <td>False</td>\n",
       "      <td>False</td>\n",
       "      <td>False</td>\n",
       "      <td>True</td>\n",
       "      <td>False</td>\n",
       "      <td>False</td>\n",
       "      <td>True</td>\n",
       "      <td>False</td>\n",
       "    </tr>\n",
       "  </tbody>\n",
       "</table>\n",
       "</div>"
      ],
      "text/plain": [
       "   thoi_gian_bao_hanh  danh_gia  so_luong_binh_luan    gia_moi       ram  \\\n",
       "0            0.371926  0.203912           -0.300904  2250000.0 -1.755898   \n",
       "1            0.371926  0.203912           -0.300904  2550000.0 -1.174653   \n",
       "2            0.371926  0.203912           -0.293715  2550000.0 -1.755898   \n",
       "3            0.371926  0.203912           -0.293715  2750000.0 -1.174653   \n",
       "4            0.371926  0.203912           -0.293715  2950000.0 -0.593408   \n",
       "5            0.371926  0.203912           -0.015734  2550000.0 -1.755898   \n",
       "6            0.371926  0.203912           -0.015734  2850000.0 -1.174653   \n",
       "7            0.371926  0.203912           -0.015734  3150000.0 -0.593408   \n",
       "8            0.371926  0.203912           -0.312886  2600000.0 -1.755898   \n",
       "9            0.371926  0.203912           -0.312886  2900000.0 -1.174653   \n",
       "\n",
       "   bo_nho_trong  dung_luong_pin  la_dien_thoai_cu  kich_thuoc_man_hinh  \\\n",
       "0      -0.75546         0.06346                 0             0.320734   \n",
       "1      -0.75546         0.06346                 0             0.320734   \n",
       "2      -0.75546         0.06346                 0             0.008678   \n",
       "3      -0.75546         0.06346                 0             0.008678   \n",
       "4      -0.75546         0.06346                 0             0.008678   \n",
       "5      -0.75546         0.06346                 0             0.543631   \n",
       "6      -0.75546         0.06346                 0             0.543631   \n",
       "7      -0.75546         0.06346                 0             0.543631   \n",
       "8      -0.75546         0.06346                 0             0.320734   \n",
       "9      -0.75546         0.06346                 0             0.320734   \n",
       "\n",
       "   tan_so_quet  so_the_sim  cong_suat_sac  do_phan_giai_cam_sau  \\\n",
       "0    -1.908224    0.232689      -1.331597                 50.08   \n",
       "1    -1.908224    0.232689      -1.331597                 50.08   \n",
       "2    -0.059097    0.232689      -0.955369                 50.00   \n",
       "3    -0.059097    0.232689      -0.955369                 50.00   \n",
       "4    -0.059097    0.232689      -0.955369                 50.00   \n",
       "5    -1.908224    0.232689      -1.331597                 52.00   \n",
       "6    -1.908224    0.232689      -1.331597                 52.00   \n",
       "7    -1.908224    0.232689      -1.331597                 52.00   \n",
       "8    -1.908224    0.232689      -1.331597                 52.00   \n",
       "9    -1.908224    0.232689      -1.331597                 52.00   \n",
       "\n",
       "   do_phan_giai_cam_truoc  Android  iOS  hang_dien_thoai_Asus  \\\n",
       "0                     5.0       13    0                 False   \n",
       "1                     5.0       13    0                 False   \n",
       "2                     8.0       12    0                 False   \n",
       "3                     8.0       12    0                 False   \n",
       "4                     8.0       12    0                 False   \n",
       "5                     5.0       13    0                 False   \n",
       "6                     5.0       13    0                 False   \n",
       "7                     5.0       13    0                 False   \n",
       "8                     8.0       13    0                 False   \n",
       "9                     8.0       13    0                 False   \n",
       "\n",
       "   hang_dien_thoai_BLU  hang_dien_thoai_Bphone  hang_dien_thoai_Fairphone  \\\n",
       "0                False                   False                      False   \n",
       "1                False                   False                      False   \n",
       "2                False                   False                      False   \n",
       "3                False                   False                      False   \n",
       "4                False                   False                      False   \n",
       "5                False                   False                      False   \n",
       "6                False                   False                      False   \n",
       "7                False                   False                      False   \n",
       "8                False                   False                      False   \n",
       "9                False                   False                      False   \n",
       "\n",
       "   hang_dien_thoai_Google  hang_dien_thoai_Honor  hang_dien_thoai_Infinix  \\\n",
       "0                   False                  False                    False   \n",
       "1                   False                  False                    False   \n",
       "2                   False                  False                    False   \n",
       "3                   False                  False                    False   \n",
       "4                   False                  False                    False   \n",
       "5                   False                  False                    False   \n",
       "6                   False                  False                    False   \n",
       "7                   False                  False                    False   \n",
       "8                   False                  False                    False   \n",
       "9                   False                  False                    False   \n",
       "\n",
       "   hang_dien_thoai_Lenovo  hang_dien_thoai_Meizu  hang_dien_thoai_Motorola  \\\n",
       "0                   False                  False                     False   \n",
       "1                   False                  False                     False   \n",
       "2                   False                  False                     False   \n",
       "3                   False                  False                     False   \n",
       "4                   False                  False                     False   \n",
       "5                   False                  False                     False   \n",
       "6                   False                  False                     False   \n",
       "7                   False                  False                     False   \n",
       "8                   False                  False                     False   \n",
       "9                   False                  False                     False   \n",
       "\n",
       "   hang_dien_thoai_NIO  hang_dien_thoai_Nothing  hang_dien_thoai_Nubia  \\\n",
       "0                False                    False                  False   \n",
       "1                False                    False                  False   \n",
       "2                False                    False                  False   \n",
       "3                False                    False                  False   \n",
       "4                False                    False                  False   \n",
       "5                False                    False                  False   \n",
       "6                False                    False                  False   \n",
       "7                False                    False                  False   \n",
       "8                False                    False                  False   \n",
       "9                False                    False                  False   \n",
       "\n",
       "   hang_dien_thoai_OnePlus  hang_dien_thoai_Oppo  hang_dien_thoai_POCO  \\\n",
       "0                    False                 False                 False   \n",
       "1                    False                 False                 False   \n",
       "2                    False                 False                 False   \n",
       "3                    False                 False                 False   \n",
       "4                    False                 False                 False   \n",
       "5                    False                 False                 False   \n",
       "6                    False                 False                 False   \n",
       "7                    False                 False                 False   \n",
       "8                    False                 False                 False   \n",
       "9                    False                 False                 False   \n",
       "\n",
       "   hang_dien_thoai_Realme  hang_dien_thoai_Red  hang_dien_thoai_Samsung  \\\n",
       "0                   False                False                    False   \n",
       "1                   False                False                    False   \n",
       "2                   False                False                    False   \n",
       "3                   False                False                    False   \n",
       "4                   False                False                    False   \n",
       "5                   False                False                    False   \n",
       "6                   False                False                    False   \n",
       "7                   False                False                    False   \n",
       "8                   False                False                    False   \n",
       "9                   False                False                    False   \n",
       "\n",
       "   hang_dien_thoai_Sony  hang_dien_thoai_Tecno  hang_dien_thoai_Ulefone  \\\n",
       "0                 False                  False                    False   \n",
       "1                 False                  False                    False   \n",
       "2                 False                  False                    False   \n",
       "3                 False                  False                    False   \n",
       "4                 False                  False                    False   \n",
       "5                 False                  False                    False   \n",
       "6                 False                  False                    False   \n",
       "7                 False                  False                    False   \n",
       "8                 False                  False                    False   \n",
       "9                 False                  False                    False   \n",
       "\n",
       "   hang_dien_thoai_Unihertz  hang_dien_thoai_Vivo  hang_dien_thoai_Xiaomi  \\\n",
       "0                     False                 False                    True   \n",
       "1                     False                 False                    True   \n",
       "2                     False                 False                    True   \n",
       "3                     False                 False                    True   \n",
       "4                     False                 False                    True   \n",
       "5                     False                 False                    True   \n",
       "6                     False                 False                    True   \n",
       "7                     False                 False                    True   \n",
       "8                     False                 False                    True   \n",
       "9                     False                 False                    True   \n",
       "\n",
       "   hang_dien_thoai_ZTE  hang_dien_thoai_iPhone  hang_dien_thoai_itel  \\\n",
       "0                False                   False                 False   \n",
       "1                False                   False                 False   \n",
       "2                False                   False                 False   \n",
       "3                False                   False                 False   \n",
       "4                False                   False                 False   \n",
       "5                False                   False                 False   \n",
       "6                False                   False                 False   \n",
       "7                False                   False                 False   \n",
       "8                False                   False                 False   \n",
       "9                False                   False                 False   \n",
       "\n",
       "   loai_man_hinh_AMOLED  loai_man_hinh_LCD  loai_man_hinh_OLED  \\\n",
       "0                 False               True               False   \n",
       "1                 False               True               False   \n",
       "2                 False              False                True   \n",
       "3                 False              False                True   \n",
       "4                 False              False                True   \n",
       "5                 False               True               False   \n",
       "6                 False               True               False   \n",
       "7                 False               True               False   \n",
       "8                 False               True               False   \n",
       "9                 False               True               False   \n",
       "\n",
       "   loai_pin_Li-Ion  loai_pin_Li-Po  loai_pin_Si/C  \n",
       "0            False            True          False  \n",
       "1            False            True          False  \n",
       "2            False            True          False  \n",
       "3            False            True          False  \n",
       "4            False            True          False  \n",
       "5            False            True          False  \n",
       "6            False            True          False  \n",
       "7            False            True          False  \n",
       "8            False            True          False  \n",
       "9            False            True          False  "
      ]
     },
     "execution_count": 41,
     "metadata": {},
     "output_type": "execute_result"
    }
   ],
   "source": [
    "pd.set_option(\"display.max_columns\", None)\n",
    "df.reset_index(inplace=True, drop=True)\n",
    "df.head(10)"
   ]
  },
  {
   "cell_type": "markdown",
   "metadata": {},
   "source": [
    "## Tạo các mô hình:"
   ]
  },
  {
   "cell_type": "markdown",
   "metadata": {},
   "source": [
    "**Người thực hiện**:\n",
    "\n",
    "| **STT** | **Họ và tên** | **MSSV** |\n",
    "|-------|---------------|---------|\n",
    "| 1     | Bùi Đình Bảo | 21120201 |\n"
   ]
  },
  {
   "cell_type": "markdown",
   "metadata": {},
   "source": [
    "### Tạo DataFrame X và y:"
   ]
  },
  {
   "cell_type": "code",
   "execution_count": 42,
   "metadata": {},
   "outputs": [],
   "source": [
    "X = df.drop(columns=[\"gia_moi\"])\n",
    "y = df[\"gia_moi\"]"
   ]
  },
  {
   "cell_type": "markdown",
   "metadata": {},
   "source": [
    "### Chia dữ liệu thành tập huấn luyện và tập kiểm tra:"
   ]
  },
  {
   "cell_type": "markdown",
   "metadata": {},
   "source": [
    "> Thư viện bổ sung:"
   ]
  },
  {
   "cell_type": "code",
   "execution_count": 43,
   "metadata": {},
   "outputs": [],
   "source": [
    "from sklearn.model_selection import train_test_split\n",
    "from xgboost import XGBRegressor\n",
    "from sklearn.metrics import root_mean_squared_error\n",
    "from sklearn.model_selection import train_test_split\n",
    "from sklearn.ensemble import GradientBoostingRegressor\n",
    "# from sklearn.metrics import mean_squared_error\n",
    "from sklearn.ensemble import RandomForestRegressor\n",
    "\n",
    "import numpy as np"
   ]
  },
  {
   "cell_type": "markdown",
   "metadata": {},
   "source": [
    "Chia tập train, test theo tỷ lệ 80/20"
   ]
  },
  {
   "cell_type": "code",
   "execution_count": 44,
   "metadata": {},
   "outputs": [],
   "source": [
    "X_train, X_test, y_train, y_test = train_test_split(X, y, test_size=1/5, random_state=42)"
   ]
  },
  {
   "cell_type": "markdown",
   "metadata": {},
   "source": [
    "Lưu một dataframe để đánh giá và so sánh các model"
   ]
  },
  {
   "cell_type": "code",
   "execution_count": 45,
   "metadata": {},
   "outputs": [],
   "source": [
    "compare_df = pd.DataFrame()\n",
    "compare_df[\"Actual\"] = y_test"
   ]
  },
  {
   "cell_type": "markdown",
   "metadata": {},
   "source": [
    "### Mô hình 1: Random Forest"
   ]
  },
  {
   "cell_type": "code",
   "execution_count": 46,
   "metadata": {},
   "outputs": [
    {
     "name": "stdout",
     "output_type": "stream",
     "text": [
      "Random Forest RMSE: 2145357.8943674583\n"
     ]
    }
   ],
   "source": [
    "model = RandomForestRegressor(n_estimators=100, random_state=42)\n",
    "model.fit(X_train, y_train)\n",
    "\n",
    "y_pred = model.predict(X_test)\n",
    "y_pred = np.maximum(y_pred, 0)  # Đưa các giá trị âm về 0\n",
    "\n",
    "print(\"Random Forest RMSE:\", root_mean_squared_error(y_test, y_pred))\n",
    "# print(\"R^2 Score:\", r2_score(y_test, y_pred))\n",
    "compare_df[\"Pred_1\"] = y_pred"
   ]
  },
  {
   "cell_type": "markdown",
   "metadata": {},
   "source": [
    "### Mô hình 2: Gradient Boosting"
   ]
  },
  {
   "cell_type": "code",
   "execution_count": 47,
   "metadata": {},
   "outputs": [
    {
     "name": "stdout",
     "output_type": "stream",
     "text": [
      "Gradient Boosting RMSE: 2303754.712993325\n"
     ]
    }
   ],
   "source": [
    "model = GradientBoostingRegressor(random_state=42)\n",
    "model.fit(X_train, y_train)\n",
    "\n",
    "y_pred = model.predict(X_test)\n",
    "y_pred = np.maximum(y_pred, 0)  # Đưa các giá trị âm về 0\n",
    "\n",
    "print(\"Gradient Boosting RMSE:\", root_mean_squared_error(y_test, y_pred))\n",
    "# print(\"R^2 Score:\", r2_score(y_test, y_pred))\n",
    "compare_df[\"Pred_2\"] = y_pred"
   ]
  },
  {
   "cell_type": "markdown",
   "metadata": {},
   "source": [
    "---"
   ]
  },
  {
   "cell_type": "markdown",
   "metadata": {},
   "source": [
    "### Mô hình 3: XGBoost + CV"
   ]
  },
  {
   "cell_type": "markdown",
   "metadata": {},
   "source": [
    "> Một mô hình hiệu quả sử dụng XGBoost + Cross Validation"
   ]
  },
  {
   "cell_type": "code",
   "execution_count": 48,
   "metadata": {},
   "outputs": [
    {
     "name": "stdout",
     "output_type": "stream",
     "text": [
      "Iteration 1: Validation RMSE = 5616909.0760\n",
      "Iteration 2: Validation RMSE = 4865783.5990\n",
      "Iteration 3: Validation RMSE = 4343197.3908\n",
      "Iteration 4: Validation RMSE = 3881476.3192\n",
      "Iteration 5: Validation RMSE = 3556375.6792\n",
      "Iteration 6: Validation RMSE = 3286149.4341\n",
      "Iteration 7: Validation RMSE = 3040556.0271\n",
      "Iteration 8: Validation RMSE = 2893042.2305\n",
      "Iteration 9: Validation RMSE = 2785266.0558\n",
      "Iteration 10: Validation RMSE = 2659237.3521\n",
      "Iteration 11: Validation RMSE = 2568855.8740\n",
      "Iteration 12: Validation RMSE = 2489812.5200\n",
      "Iteration 13: Validation RMSE = 2437611.2602\n",
      "Iteration 14: Validation RMSE = 2397610.4947\n",
      "Iteration 15: Validation RMSE = 2374611.1842\n",
      "Iteration 16: Validation RMSE = 2365478.0249\n",
      "Iteration 17: Validation RMSE = 2321215.0163\n",
      "Iteration 18: Validation RMSE = 2279065.9856\n",
      "Iteration 19: Validation RMSE = 2241254.6031\n",
      "Iteration 20: Validation RMSE = 2221160.4564\n",
      "Iteration 21: Validation RMSE = 2205609.5287\n",
      "Iteration 22: Validation RMSE = 2169974.7884\n",
      "Iteration 23: Validation RMSE = 2163243.3947\n",
      "Iteration 24: Validation RMSE = 2146762.5205\n",
      "Iteration 25: Validation RMSE = 2127317.2407\n",
      "Iteration 26: Validation RMSE = 2115280.7255\n",
      "Iteration 27: Validation RMSE = 2108823.2452\n",
      "Iteration 28: Validation RMSE = 2084705.3176\n",
      "Iteration 29: Validation RMSE = 2075658.7705\n",
      "Iteration 30: Validation RMSE = 2071536.0647\n",
      "Iteration 31: Validation RMSE = 2056749.6840\n",
      "Iteration 32: Validation RMSE = 2048756.3950\n",
      "Iteration 33: Validation RMSE = 2040328.7154\n",
      "Iteration 34: Validation RMSE = 2041390.1662\n",
      "Iteration 35: Validation RMSE = 2028332.2138\n",
      "Iteration 36: Validation RMSE = 2018428.7139\n",
      "Iteration 37: Validation RMSE = 2014034.4442\n",
      "Iteration 38: Validation RMSE = 2004004.9101\n",
      "Iteration 39: Validation RMSE = 1998186.0020\n",
      "Iteration 40: Validation RMSE = 1991761.3759\n",
      "Iteration 41: Validation RMSE = 1990590.0545\n",
      "Iteration 42: Validation RMSE = 1993777.7038\n",
      "Iteration 43: Validation RMSE = 1990309.5974\n",
      "Iteration 44: Validation RMSE = 1989920.7435\n",
      "Iteration 45: Validation RMSE = 1981764.2564\n",
      "Iteration 46: Validation RMSE = 1976060.4118\n",
      "Iteration 47: Validation RMSE = 1971669.2147\n",
      "Iteration 48: Validation RMSE = 1957671.4822\n",
      "Iteration 49: Validation RMSE = 1946105.2122\n",
      "Iteration 50: Validation RMSE = 1942895.2139\n",
      "Iteration 51: Validation RMSE = 1934730.1627\n",
      "Iteration 52: Validation RMSE = 1930823.4490\n",
      "Iteration 53: Validation RMSE = 1931507.7259\n",
      "Iteration 54: Validation RMSE = 1918857.6743\n",
      "Iteration 55: Validation RMSE = 1918677.2230\n",
      "Iteration 56: Validation RMSE = 1913074.7513\n",
      "Iteration 57: Validation RMSE = 1912432.5108\n",
      "Iteration 58: Validation RMSE = 1897415.5854\n",
      "Iteration 59: Validation RMSE = 1884584.4651\n",
      "Iteration 60: Validation RMSE = 1885774.0783\n",
      "Iteration 61: Validation RMSE = 1883963.1903\n",
      "Iteration 62: Validation RMSE = 1881878.3459\n",
      "Iteration 63: Validation RMSE = 1876835.4407\n",
      "Iteration 64: Validation RMSE = 1875958.6652\n",
      "Iteration 65: Validation RMSE = 1874870.8400\n",
      "Iteration 66: Validation RMSE = 1873483.2745\n",
      "Iteration 67: Validation RMSE = 1871995.9451\n",
      "Iteration 68: Validation RMSE = 1875225.4833\n",
      "Iteration 69: Validation RMSE = 1872250.3275\n",
      "Iteration 70: Validation RMSE = 1871691.7679\n",
      "Iteration 71: Validation RMSE = 1872616.8278\n",
      "Iteration 72: Validation RMSE = 1873117.5904\n",
      "Iteration 73: Validation RMSE = 1866622.8929\n",
      "Iteration 74: Validation RMSE = 1867541.8487\n",
      "Iteration 75: Validation RMSE = 1863468.8184\n",
      "Iteration 76: Validation RMSE = 1862116.2834\n",
      "Iteration 77: Validation RMSE = 1857268.3028\n",
      "Iteration 78: Validation RMSE = 1857304.0322\n",
      "Iteration 79: Validation RMSE = 1848830.3203\n",
      "Iteration 80: Validation RMSE = 1847431.4788\n",
      "Iteration 81: Validation RMSE = 1846456.0117\n",
      "Iteration 82: Validation RMSE = 1838237.0426\n",
      "Iteration 83: Validation RMSE = 1838496.0133\n",
      "Iteration 84: Validation RMSE = 1838649.4257\n",
      "Iteration 85: Validation RMSE = 1840402.2982\n",
      "Iteration 86: Validation RMSE = 1843982.5638\n",
      "Iteration 87: Validation RMSE = 1844918.3297\n",
      "Iteration 88: Validation RMSE = 1845482.5855\n",
      "Iteration 89: Validation RMSE = 1843669.0172\n",
      "Iteration 90: Validation RMSE = 1842757.2575\n",
      "Iteration 91: Validation RMSE = 1841580.1450\n",
      "Iteration 92: Validation RMSE = 1843108.6570\n",
      "Early stopping at iteration 92, best RMSE = 1838237.0426\n",
      "\n",
      "Test RMSE: 1621403.1351\n"
     ]
    }
   ],
   "source": [
    "# Tách thêm tập validation từ tập train\n",
    "X_train_split, X_val, y_train_split, y_val = train_test_split(X_train, y_train, test_size=0.2, random_state=42)\n",
    "\n",
    "# Định nghĩa mô hình XGBRegressor\n",
    "model = XGBRegressor(\n",
    "    objective=\"reg:squarederror\",  # Hồi quy squared error\n",
    "    learning_rate=0.2,            # Learning rate\n",
    "    max_depth=6,                  # Độ sâu cây\n",
    "    seed=42,                      # Để tái lập kết quả\n",
    "    n_estimators=1,               # Bắt đầu với 1 vòng (huấn luyện thủ công)\n",
    ")\n",
    "\n",
    "# Khởi tạo các biến để kiểm soát early stopping\n",
    "n_estimators = 100                # Số vòng tối đa\n",
    "early_stopping_rounds = 10        # Số vòng không cải thiện trước khi dừng\n",
    "best_rmse = np.inf                # Giá trị RMSE tốt nhất ban đầu\n",
    "no_improve_rounds = 0             # Đếm số vòng không cải thiện\n",
    "\n",
    "# Huấn luyện từng vòng\n",
    "for i in range(1, n_estimators + 1):\n",
    "    model.n_estimators = i        # Cập nhật số lượng vòng boosting\n",
    "    model.fit(X_train_split, y_train_split, verbose=False)\n",
    "    \n",
    "    # Dự đoán và đánh giá trên tập validation\n",
    "    y_val_pred = model.predict(X_val)\n",
    "    rmse = root_mean_squared_error(y_val, y_val_pred)\n",
    "    print(f\"Iteration {i}: Validation RMSE = {rmse:.4f}\")\n",
    "    \n",
    "    # Kiểm tra cải thiện\n",
    "    if rmse < best_rmse:\n",
    "        best_rmse = rmse\n",
    "        no_improve_rounds = 0\n",
    "    else:\n",
    "        no_improve_rounds += 1\n",
    "\n",
    "    # Dừng nếu không cải thiện trong `early_stopping_rounds` vòng\n",
    "    if no_improve_rounds >= early_stopping_rounds:\n",
    "        print(f\"Early stopping at iteration {i}, best RMSE = {best_rmse:.4f}\")\n",
    "        break\n",
    "\n",
    "# Đánh giá mô hình cuối cùng trên tập test\n",
    "y_pred = model.predict(X_test)\n",
    "y_pred = np.maximum(y_pred, 0)  # Đưa các giá trị âm về 0\n",
    "\n",
    "test_rmse = root_mean_squared_error(y_test, y_pred)\n",
    "print()\n",
    "print(f\"Test RMSE: {test_rmse:.4f}\")\n",
    "compare_df[\"Pred_0\"] = y_pred"
   ]
  },
  {
   "cell_type": "markdown",
   "metadata": {},
   "source": [
    "## Đánh giá các mô hình:"
   ]
  },
  {
   "cell_type": "code",
   "execution_count": 49,
   "metadata": {},
   "outputs": [
    {
     "data": {
      "text/html": [
       "<div>\n",
       "<style scoped>\n",
       "    .dataframe tbody tr th:only-of-type {\n",
       "        vertical-align: middle;\n",
       "    }\n",
       "\n",
       "    .dataframe tbody tr th {\n",
       "        vertical-align: top;\n",
       "    }\n",
       "\n",
       "    .dataframe thead th {\n",
       "        text-align: right;\n",
       "    }\n",
       "</style>\n",
       "<table border=\"1\" class=\"dataframe\">\n",
       "  <thead>\n",
       "    <tr style=\"text-align: right;\">\n",
       "      <th></th>\n",
       "      <th>Actual</th>\n",
       "      <th>Pred_1</th>\n",
       "      <th>Pred_2</th>\n",
       "      <th>Pred_0</th>\n",
       "    </tr>\n",
       "  </thead>\n",
       "  <tbody>\n",
       "    <tr>\n",
       "      <th>1246</th>\n",
       "      <td>6350000.0</td>\n",
       "      <td>1.038947e+07</td>\n",
       "      <td>7.469922e+06</td>\n",
       "      <td>9624448.0</td>\n",
       "    </tr>\n",
       "    <tr>\n",
       "      <th>813</th>\n",
       "      <td>18950000.0</td>\n",
       "      <td>1.557452e+07</td>\n",
       "      <td>1.600138e+07</td>\n",
       "      <td>18639296.0</td>\n",
       "    </tr>\n",
       "    <tr>\n",
       "      <th>1173</th>\n",
       "      <td>5250000.0</td>\n",
       "      <td>5.562000e+06</td>\n",
       "      <td>7.269495e+06</td>\n",
       "      <td>5549325.5</td>\n",
       "    </tr>\n",
       "    <tr>\n",
       "      <th>534</th>\n",
       "      <td>8910000.0</td>\n",
       "      <td>1.013510e+07</td>\n",
       "      <td>1.092910e+07</td>\n",
       "      <td>7809330.5</td>\n",
       "    </tr>\n",
       "    <tr>\n",
       "      <th>514</th>\n",
       "      <td>7650000.0</td>\n",
       "      <td>9.112700e+06</td>\n",
       "      <td>8.568905e+06</td>\n",
       "      <td>7971064.5</td>\n",
       "    </tr>\n",
       "    <tr>\n",
       "      <th>1525</th>\n",
       "      <td>20750000.0</td>\n",
       "      <td>1.931011e+07</td>\n",
       "      <td>1.958693e+07</td>\n",
       "      <td>20148272.0</td>\n",
       "    </tr>\n",
       "    <tr>\n",
       "      <th>522</th>\n",
       "      <td>7880000.0</td>\n",
       "      <td>9.850217e+06</td>\n",
       "      <td>1.076029e+07</td>\n",
       "      <td>9370441.0</td>\n",
       "    </tr>\n",
       "    <tr>\n",
       "      <th>274</th>\n",
       "      <td>4400000.0</td>\n",
       "      <td>4.500350e+06</td>\n",
       "      <td>5.559717e+06</td>\n",
       "      <td>4452823.5</td>\n",
       "    </tr>\n",
       "    <tr>\n",
       "      <th>494</th>\n",
       "      <td>7950000.0</td>\n",
       "      <td>8.032400e+06</td>\n",
       "      <td>8.160065e+06</td>\n",
       "      <td>7906184.5</td>\n",
       "    </tr>\n",
       "    <tr>\n",
       "      <th>65</th>\n",
       "      <td>8450000.0</td>\n",
       "      <td>9.551893e+06</td>\n",
       "      <td>9.116428e+06</td>\n",
       "      <td>8636206.0</td>\n",
       "    </tr>\n",
       "  </tbody>\n",
       "</table>\n",
       "</div>"
      ],
      "text/plain": [
       "          Actual        Pred_1        Pred_2      Pred_0\n",
       "1246   6350000.0  1.038947e+07  7.469922e+06   9624448.0\n",
       "813   18950000.0  1.557452e+07  1.600138e+07  18639296.0\n",
       "1173   5250000.0  5.562000e+06  7.269495e+06   5549325.5\n",
       "534    8910000.0  1.013510e+07  1.092910e+07   7809330.5\n",
       "514    7650000.0  9.112700e+06  8.568905e+06   7971064.5\n",
       "1525  20750000.0  1.931011e+07  1.958693e+07  20148272.0\n",
       "522    7880000.0  9.850217e+06  1.076029e+07   9370441.0\n",
       "274    4400000.0  4.500350e+06  5.559717e+06   4452823.5\n",
       "494    7950000.0  8.032400e+06  8.160065e+06   7906184.5\n",
       "65     8450000.0  9.551893e+06  9.116428e+06   8636206.0"
      ]
     },
     "execution_count": 49,
     "metadata": {},
     "output_type": "execute_result"
    }
   ],
   "source": [
    "compare_df.head(10)"
   ]
  },
  {
   "cell_type": "code",
   "execution_count": 50,
   "metadata": {},
   "outputs": [
    {
     "data": {
      "image/png": "[encoded data removed]",
      "text/plain": [
       "<Figure size 640x480 with 1 Axes>"
      ]
     },
     "metadata": {},
     "output_type": "display_data"
    }
   ],
   "source": [
    "rmse_pred_1 = root_mean_squared_error(compare_df['Actual'], compare_df['Pred_1'])\n",
    "rmse_pred_2 = root_mean_squared_error(compare_df['Actual'], compare_df['Pred_2'])\n",
    "rmse_pred_0 = root_mean_squared_error(compare_df['Actual'], compare_df['Pred_0'])\n",
    "\n",
    "rmse_values = [rmse_pred_1, rmse_pred_2, rmse_pred_0]\n",
    "pred_labels = ['Random Forest', 'Gradient Boosting', 'XGBoost + CV']\n",
    "\n",
    "plt.bar(pred_labels, rmse_values, color=['blue', 'orange', 'green'])\n",
    "plt.xlabel('PREDICTION MODELS')\n",
    "plt.ylabel('RMSE')\n",
    "plt.title('RMSE Comparison Between Prediction Models')\n",
    "plt.show()"
   ]
  }
 ],
 "metadata": {
  "kernelspec": {
   "display_name": "venv",
   "language": "python",
   "name": "python3"
  },
  "language_info": {
   "codemirror_mode": {
    "name": "ipython",
    "version": 3
   },
   "file_extension": ".py",
   "mimetype": "text/x-python",
   "name": "python",
   "nbconvert_exporter": "python",
   "pygments_lexer": "ipython3",
   "version": "3.12.3"
  }
 },
 "nbformat": 4,
 "nbformat_minor": 2
}
