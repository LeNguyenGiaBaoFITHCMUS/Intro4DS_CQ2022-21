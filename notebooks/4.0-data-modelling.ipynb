{
 "cells": [
  {
   "cell_type": "markdown",
   "metadata": {},
   "source": [
    "<div style=\"text-align: center; background-color: skyblue; font-family: 'Times New Roman', serif; color: white; padding: 20px; font-size: 36px; font-weight: bold; border-radius: 15px; box-shadow: 0px 6px 15px rgba(0, 0, 0, 0.2); transition: all 0.3s ease;\">\n",
    "    INTRODUCTION TO DATA SCIENCE<br>\n",
    "    @ FIT-HCMUS, VNU-HCM<br>\n",
    "    FINAL PROJECT 🏫\n",
    "</div>\n",
    "<style>\n",
    "    div:hover {\n",
    "        transform: scale(1.05);\n",
    "        box-shadow: 0px 10px 20px rgba(0, 0, 0, 0.3);\n",
    "    }\n",
    "</style>"
   ]
  },
  {
   "cell_type": "markdown",
   "metadata": {},
   "source": [
    "<div style=\"text-align: center; background-color: #ADD8E6; font-family: 'Times New Roman', serif; color: white; padding: 20px; font-size: 30px; font-weight: bold; border-radius: 10px; box-shadow: 0px 6px 15px rgba(0, 0, 0, 0.2); transition: all 0.3s ease;\">\n",
    "    THE ANALYSIS OF THE MOBILE PHONE MARKET AT MOBILE CITY STORE\n",
    "</div>\n",
    "<style>\n",
    "    div:hover {\n",
    "        transform: scale(1.05);\n",
    "        box-shadow: 0px 10px 20px rgba(0, 0, 0, 0.3);\n",
    "    }\n",
    "</style>\n"
   ]
  },
  {
   "cell_type": "markdown",
   "metadata": {},
   "source": [
    "---"
   ]
  },
  {
   "cell_type": "markdown",
   "metadata": {},
   "source": [
    "<div style=\"text-align: center; background-color: #ADD8E6; font-family: 'Times New Roman', serif; color: white; padding: 25px; font-size: 20px; font-weight: bold; border-radius: 10px; box-shadow: 0px 6px 15px rgba(0, 0, 0, 0.2); transition: all 0.3s ease;\">\n",
    "    DATA MODELLING\n",
    "</div>\n",
    "<style>\n",
    "    div:hover {\n",
    "        opacity: 0.8;\n",
    "    }\n",
    "</style>"
   ]
  },
  {
   "cell_type": "markdown",
   "metadata": {},
   "source": [
    "**Người thực hiện**:\n",
    "\n",
    "| **STT** | **Họ và tên** | **MSSV** |\n",
    "|-------|---------------|---------|\n",
    "| 1     | Trương Tiến Anh | 22120017 |\n",
    "| 2     | Lê Nguyễn Gia Bảo | 22120023 |\n",
    "| 3     | Đoàn Minh Cường | 22120043 |\n"
   ]
  },
  {
   "cell_type": "markdown",
   "metadata": {},
   "source": [
    "---"
   ]
  },
  {
   "cell_type": "markdown",
   "metadata": {},
   "source": [
    "## **Vấn đề được áp dụng Học máy:** \n",
    "## Dự đoán giá điện thoại dựa trên các đặc trưng quan trọng và cần thiết."
   ]
  },
  {
   "cell_type": "markdown",
   "metadata": {},
   "source": [
    "---"
   ]
  },
  {
   "cell_type": "markdown",
   "metadata": {},
   "source": [
    "## Thư viện:"
   ]
  },
  {
   "cell_type": "code",
   "execution_count": 96,
   "metadata": {},
   "outputs": [],
   "source": [
    "import numpy as np\n",
    "import pandas as pd\n",
    "import matplotlib.pyplot as plt\n",
    "\n",
    "from xgboost import XGBRegressor\n",
    "from sklearn.tree import DecisionTreeRegressor\n",
    "from sklearn.ensemble import RandomForestRegressor\n",
    "\n",
    "from sklearn.preprocessing import LabelEncoder\n",
    "from sklearn.model_selection import train_test_split\n",
    "from sklearn.metrics import mean_absolute_error, mean_squared_error, r2_score\n",
    "\n",
    "import ast\n",
    "import time"
   ]
  },
  {
   "cell_type": "markdown",
   "metadata": {},
   "source": [
    "## Đọc dữ liệu từ file CSV:"
   ]
  },
  {
   "cell_type": "code",
   "execution_count": 97,
   "metadata": {},
   "outputs": [],
   "source": [
    "df = pd.read_csv(\"../data/processed_data.csv\", index_col=0)"
   ]
  },
  {
   "cell_type": "code",
   "execution_count": 98,
   "metadata": {},
   "outputs": [
    {
     "data": {
      "text/html": [
       "<div>\n",
       "<style scoped>\n",
       "    .dataframe tbody tr th:only-of-type {\n",
       "        vertical-align: middle;\n",
       "    }\n",
       "\n",
       "    .dataframe tbody tr th {\n",
       "        vertical-align: top;\n",
       "    }\n",
       "\n",
       "    .dataframe thead th {\n",
       "        text-align: right;\n",
       "    }\n",
       "</style>\n",
       "<table border=\"1\" class=\"dataframe\">\n",
       "  <thead>\n",
       "    <tr style=\"text-align: right;\">\n",
       "      <th></th>\n",
       "      <th>ten</th>\n",
       "      <th>loai_dien_thoai</th>\n",
       "      <th>thoi_gian_bao_hanh</th>\n",
       "      <th>danh_gia</th>\n",
       "      <th>so_luong_binh_luan</th>\n",
       "      <th>duong_dan</th>\n",
       "      <th>mau_sac</th>\n",
       "      <th>gia_moi</th>\n",
       "      <th>gia_cu</th>\n",
       "      <th>he_dieu_hanh</th>\n",
       "      <th>...</th>\n",
       "      <th>la_dien_thoai_cu</th>\n",
       "      <th>kich_thuoc_man_hinh</th>\n",
       "      <th>tan_so_quet</th>\n",
       "      <th>do_sang_man_hinh</th>\n",
       "      <th>loai_man_hinh</th>\n",
       "      <th>so_the_sim</th>\n",
       "      <th>loai_pin</th>\n",
       "      <th>cong_suat_sac</th>\n",
       "      <th>do_phan_giai_cam_sau</th>\n",
       "      <th>do_phan_giai_cam_truoc</th>\n",
       "    </tr>\n",
       "  </thead>\n",
       "  <tbody>\n",
       "    <tr>\n",
       "      <th>5770</th>\n",
       "      <td>Điện thoại OPPO Reno8 Pro (China)</td>\n",
       "      <td>OPPO</td>\n",
       "      <td>12.0</td>\n",
       "      <td>5.0</td>\n",
       "      <td>1</td>\n",
       "      <td>https://mobilecity.vn/dien-thoai/oppo-reno8-pr...</td>\n",
       "      <td>Xanh</td>\n",
       "      <td>NaN</td>\n",
       "      <td>NaN</td>\n",
       "      <td>Android 12</td>\n",
       "      <td>...</td>\n",
       "      <td>False</td>\n",
       "      <td>6.62</td>\n",
       "      <td>120.0</td>\n",
       "      <td>1300.0</td>\n",
       "      <td>AMOLED</td>\n",
       "      <td>2</td>\n",
       "      <td>Li-Po</td>\n",
       "      <td>80.0</td>\n",
       "      <td>[50.0, 8.0, 2.0]</td>\n",
       "      <td>[32.0]</td>\n",
       "    </tr>\n",
       "    <tr>\n",
       "      <th>8572</th>\n",
       "      <td>Điện thoại Sky A890</td>\n",
       "      <td>Sky</td>\n",
       "      <td>12.0</td>\n",
       "      <td>5.0</td>\n",
       "      <td>0</td>\n",
       "      <td>https://mobilecity.vn/sky/sky-a890-prd162.html</td>\n",
       "      <td>NaN</td>\n",
       "      <td>NaN</td>\n",
       "      <td>NaN</td>\n",
       "      <td>Android 4</td>\n",
       "      <td>...</td>\n",
       "      <td>False</td>\n",
       "      <td>NaN</td>\n",
       "      <td>NaN</td>\n",
       "      <td>NaN</td>\n",
       "      <td>NaN</td>\n",
       "      <td>1</td>\n",
       "      <td>NaN</td>\n",
       "      <td>NaN</td>\n",
       "      <td>[13.0]</td>\n",
       "      <td>[2.0]</td>\n",
       "    </tr>\n",
       "    <tr>\n",
       "      <th>4618</th>\n",
       "      <td>Điện thoại Vivo V25 (Dimensity 900)</td>\n",
       "      <td>Vivo</td>\n",
       "      <td>12.0</td>\n",
       "      <td>5.0</td>\n",
       "      <td>0</td>\n",
       "      <td>https://mobilecity.vn/dien-thoai/vivo-v25-dime...</td>\n",
       "      <td>Đen</td>\n",
       "      <td>NaN</td>\n",
       "      <td>NaN</td>\n",
       "      <td>Android 12</td>\n",
       "      <td>...</td>\n",
       "      <td>False</td>\n",
       "      <td>6.44</td>\n",
       "      <td>90.0</td>\n",
       "      <td>NaN</td>\n",
       "      <td>AMOLED</td>\n",
       "      <td>2</td>\n",
       "      <td>Li-Po</td>\n",
       "      <td>45.0</td>\n",
       "      <td>[64.0, 8.0, 2.0]</td>\n",
       "      <td>[50.0]</td>\n",
       "    </tr>\n",
       "  </tbody>\n",
       "</table>\n",
       "<p>3 rows × 26 columns</p>\n",
       "</div>"
      ],
      "text/plain": [
       "                                      ten loai_dien_thoai  thoi_gian_bao_hanh  \\\n",
       "5770    Điện thoại OPPO Reno8 Pro (China)            OPPO                12.0   \n",
       "8572                  Điện thoại Sky A890             Sky                12.0   \n",
       "4618  Điện thoại Vivo V25 (Dimensity 900)            Vivo                12.0   \n",
       "\n",
       "      danh_gia  so_luong_binh_luan  \\\n",
       "5770       5.0                   1   \n",
       "8572       5.0                   0   \n",
       "4618       5.0                   0   \n",
       "\n",
       "                                              duong_dan mau_sac  gia_moi  \\\n",
       "5770  https://mobilecity.vn/dien-thoai/oppo-reno8-pr...    Xanh      NaN   \n",
       "8572     https://mobilecity.vn/sky/sky-a890-prd162.html     NaN      NaN   \n",
       "4618  https://mobilecity.vn/dien-thoai/vivo-v25-dime...     Đen      NaN   \n",
       "\n",
       "      gia_cu he_dieu_hanh  ... la_dien_thoai_cu  kich_thuoc_man_hinh  \\\n",
       "5770     NaN   Android 12  ...            False                 6.62   \n",
       "8572     NaN    Android 4  ...            False                  NaN   \n",
       "4618     NaN   Android 12  ...            False                 6.44   \n",
       "\n",
       "      tan_so_quet  do_sang_man_hinh loai_man_hinh so_the_sim  loai_pin  \\\n",
       "5770        120.0            1300.0        AMOLED          2     Li-Po   \n",
       "8572          NaN               NaN           NaN          1       NaN   \n",
       "4618         90.0               NaN        AMOLED          2     Li-Po   \n",
       "\n",
       "      cong_suat_sac  do_phan_giai_cam_sau  do_phan_giai_cam_truoc  \n",
       "5770           80.0      [50.0, 8.0, 2.0]                  [32.0]  \n",
       "8572            NaN                [13.0]                   [2.0]  \n",
       "4618           45.0      [64.0, 8.0, 2.0]                  [50.0]  \n",
       "\n",
       "[3 rows x 26 columns]"
      ]
     },
     "execution_count": 98,
     "metadata": {},
     "output_type": "execute_result"
    }
   ],
   "source": [
    "df.sample(3)"
   ]
  },
  {
   "cell_type": "markdown",
   "metadata": {},
   "source": [
    "## Tiền xử lý dữ liệu cho các mô hình:"
   ]
  },
  {
   "cell_type": "markdown",
   "metadata": {},
   "source": [
    "### Loại bỏ các cột không ảnh hưởng đến giá dựa vào kiến thức:"
   ]
  },
  {
   "cell_type": "markdown",
   "metadata": {},
   "source": [
    "#### Loại bỏ cột `ten`, `duong_dan`, `loai_dien_thoai`, `mau_sac`, `thiet_ke`, `cpu`:"
   ]
  },
  {
   "cell_type": "markdown",
   "metadata": {},
   "source": [
    "- `ten` là tên của các mẫu điện thoại."
   ]
  },
  {
   "cell_type": "code",
   "execution_count": 99,
   "metadata": {},
   "outputs": [],
   "source": [
    "df = df.drop(columns=['ten'])"
   ]
  },
  {
   "cell_type": "markdown",
   "metadata": {},
   "source": [
    "- `duong_dan` là liên kết đến trang thông tin của điện thoại trên website."
   ]
  },
  {
   "cell_type": "code",
   "execution_count": 100,
   "metadata": {},
   "outputs": [],
   "source": [
    "df = df.drop(columns=['duong_dan'])"
   ]
  },
  {
   "cell_type": "markdown",
   "metadata": {},
   "source": [
    "- `loai_dien_thoai` lưu thông tin cụ thể hơn cho `hang_dien_thoai`, không ảnh hưởng đến giá."
   ]
  },
  {
   "cell_type": "code",
   "execution_count": 101,
   "metadata": {},
   "outputs": [],
   "source": [
    "df = df.drop(columns=['loai_dien_thoai'])"
   ]
  },
  {
   "cell_type": "markdown",
   "metadata": {},
   "source": [
    "- `mau_sac` lưu các màu sắc khác nhau của từng mẫu điện thoại, không ảnh hưởng đến giá."
   ]
  },
  {
   "cell_type": "code",
   "execution_count": 102,
   "metadata": {},
   "outputs": [],
   "source": [
    "df = df.drop(columns=['mau_sac'])"
   ]
  },
  {
   "cell_type": "markdown",
   "metadata": {},
   "source": [
    "- `thiet_ke` mô tả cấu tạo của một chiếc điện thoại, không ảnh hưởng đến giá."
   ]
  },
  {
   "cell_type": "code",
   "execution_count": 103,
   "metadata": {},
   "outputs": [],
   "source": [
    "df = df.drop(columns=['thiet_ke'])"
   ]
  },
  {
   "cell_type": "markdown",
   "metadata": {},
   "source": [
    "- `cpu` trong bộ dữ liệu này cũng là một cột không ảnh hưởng đến giá."
   ]
  },
  {
   "cell_type": "code",
   "execution_count": 104,
   "metadata": {},
   "outputs": [],
   "source": [
    "df = df.drop(columns=['cpu'])"
   ]
  },
  {
   "cell_type": "markdown",
   "metadata": {},
   "source": [
    "#### Loại bỏ các dòng trùng lặp:"
   ]
  },
  {
   "cell_type": "code",
   "execution_count": 105,
   "metadata": {},
   "outputs": [
    {
     "name": "stdout",
     "output_type": "stream",
     "text": [
      "Số dòng trùng lặp hiện tại là: 5548\n"
     ]
    }
   ],
   "source": [
    "print(f\"Số dòng trùng lặp hiện tại là: {df.duplicated().sum()}\")"
   ]
  },
  {
   "cell_type": "code",
   "execution_count": 106,
   "metadata": {},
   "outputs": [],
   "source": [
    "# Loại bỏ dòng trùng lặp\n",
    "df = df.drop_duplicates()"
   ]
  },
  {
   "cell_type": "code",
   "execution_count": 107,
   "metadata": {},
   "outputs": [
    {
     "name": "stdout",
     "output_type": "stream",
     "text": [
      "Số dòng trùng lặp hiện tại là: 0\n"
     ]
    }
   ],
   "source": [
    "print(f\"Số dòng trùng lặp hiện tại là: {df.duplicated().sum()}\")"
   ]
  },
  {
   "cell_type": "markdown",
   "metadata": {},
   "source": [
    "### Loại bỏ các cột dựa vào phân tích:"
   ]
  },
  {
   "cell_type": "markdown",
   "metadata": {},
   "source": [
    "#### Xem tỷ lệ dữ liệu thiếu ở của các thuộc tính hiện tại:"
   ]
  },
  {
   "cell_type": "code",
   "execution_count": 108,
   "metadata": {},
   "outputs": [],
   "source": [
    "def missing_ratio(col):\n",
    "    return (col.isna().mean() * 100).round(1)"
   ]
  },
  {
   "cell_type": "code",
   "execution_count": 109,
   "metadata": {},
   "outputs": [
    {
     "data": {
      "text/html": [
       "<div>\n",
       "<style scoped>\n",
       "    .dataframe tbody tr th:only-of-type {\n",
       "        vertical-align: middle;\n",
       "    }\n",
       "\n",
       "    .dataframe tbody tr th {\n",
       "        vertical-align: top;\n",
       "    }\n",
       "\n",
       "    .dataframe thead th {\n",
       "        text-align: right;\n",
       "    }\n",
       "</style>\n",
       "<table border=\"1\" class=\"dataframe\">\n",
       "  <thead>\n",
       "    <tr style=\"text-align: right;\">\n",
       "      <th></th>\n",
       "      <th>Features</th>\n",
       "      <th>Missing ratio</th>\n",
       "    </tr>\n",
       "  </thead>\n",
       "  <tbody>\n",
       "    <tr>\n",
       "      <th>0</th>\n",
       "      <td>gia_cu</td>\n",
       "      <td>43.3</td>\n",
       "    </tr>\n",
       "    <tr>\n",
       "      <th>1</th>\n",
       "      <td>do_sang_man_hinh</td>\n",
       "      <td>42.5</td>\n",
       "    </tr>\n",
       "    <tr>\n",
       "      <th>2</th>\n",
       "      <td>loai_pin</td>\n",
       "      <td>27.9</td>\n",
       "    </tr>\n",
       "    <tr>\n",
       "      <th>3</th>\n",
       "      <td>tan_so_quet</td>\n",
       "      <td>24.6</td>\n",
       "    </tr>\n",
       "    <tr>\n",
       "      <th>4</th>\n",
       "      <td>gia_moi</td>\n",
       "      <td>19.1</td>\n",
       "    </tr>\n",
       "    <tr>\n",
       "      <th>5</th>\n",
       "      <td>bo_nho_trong</td>\n",
       "      <td>7.4</td>\n",
       "    </tr>\n",
       "    <tr>\n",
       "      <th>6</th>\n",
       "      <td>cong_suat_sac</td>\n",
       "      <td>7.3</td>\n",
       "    </tr>\n",
       "    <tr>\n",
       "      <th>7</th>\n",
       "      <td>kich_thuoc_man_hinh</td>\n",
       "      <td>5.7</td>\n",
       "    </tr>\n",
       "    <tr>\n",
       "      <th>8</th>\n",
       "      <td>loai_man_hinh</td>\n",
       "      <td>5.4</td>\n",
       "    </tr>\n",
       "    <tr>\n",
       "      <th>9</th>\n",
       "      <td>dung_luong_pin</td>\n",
       "      <td>2.3</td>\n",
       "    </tr>\n",
       "    <tr>\n",
       "      <th>10</th>\n",
       "      <td>ram</td>\n",
       "      <td>0.5</td>\n",
       "    </tr>\n",
       "    <tr>\n",
       "      <th>11</th>\n",
       "      <td>thoi_gian_bao_hanh</td>\n",
       "      <td>0.0</td>\n",
       "    </tr>\n",
       "    <tr>\n",
       "      <th>12</th>\n",
       "      <td>do_phan_giai_cam_sau</td>\n",
       "      <td>0.0</td>\n",
       "    </tr>\n",
       "    <tr>\n",
       "      <th>13</th>\n",
       "      <td>so_the_sim</td>\n",
       "      <td>0.0</td>\n",
       "    </tr>\n",
       "    <tr>\n",
       "      <th>14</th>\n",
       "      <td>la_dien_thoai_cu</td>\n",
       "      <td>0.0</td>\n",
       "    </tr>\n",
       "    <tr>\n",
       "      <th>15</th>\n",
       "      <td>danh_gia</td>\n",
       "      <td>0.0</td>\n",
       "    </tr>\n",
       "    <tr>\n",
       "      <th>16</th>\n",
       "      <td>hang_dien_thoai</td>\n",
       "      <td>0.0</td>\n",
       "    </tr>\n",
       "    <tr>\n",
       "      <th>17</th>\n",
       "      <td>he_dieu_hanh</td>\n",
       "      <td>0.0</td>\n",
       "    </tr>\n",
       "    <tr>\n",
       "      <th>18</th>\n",
       "      <td>so_luong_binh_luan</td>\n",
       "      <td>0.0</td>\n",
       "    </tr>\n",
       "    <tr>\n",
       "      <th>19</th>\n",
       "      <td>do_phan_giai_cam_truoc</td>\n",
       "      <td>0.0</td>\n",
       "    </tr>\n",
       "  </tbody>\n",
       "</table>\n",
       "</div>"
      ],
      "text/plain": [
       "                  Features  Missing ratio\n",
       "0                   gia_cu           43.3\n",
       "1         do_sang_man_hinh           42.5\n",
       "2                 loai_pin           27.9\n",
       "3              tan_so_quet           24.6\n",
       "4                  gia_moi           19.1\n",
       "5             bo_nho_trong            7.4\n",
       "6            cong_suat_sac            7.3\n",
       "7      kich_thuoc_man_hinh            5.7\n",
       "8            loai_man_hinh            5.4\n",
       "9           dung_luong_pin            2.3\n",
       "10                     ram            0.5\n",
       "11      thoi_gian_bao_hanh            0.0\n",
       "12    do_phan_giai_cam_sau            0.0\n",
       "13              so_the_sim            0.0\n",
       "14        la_dien_thoai_cu            0.0\n",
       "15                danh_gia            0.0\n",
       "16         hang_dien_thoai            0.0\n",
       "17            he_dieu_hanh            0.0\n",
       "18      so_luong_binh_luan            0.0\n",
       "19  do_phan_giai_cam_truoc            0.0"
      ]
     },
     "execution_count": 109,
     "metadata": {},
     "output_type": "execute_result"
    }
   ],
   "source": [
    "missing_ratio_df = df.apply(missing_ratio).sort_values(ascending=False)\n",
    "missing_ratio_df = missing_ratio_df.reset_index()\n",
    "missing_ratio_df.columns = [\"Features\", \"Missing ratio\"]\n",
    "missing_ratio_df"
   ]
  },
  {
   "cell_type": "markdown",
   "metadata": {},
   "source": [
    "- Nhận thấy rằng cột `do_sang_man_hinh` và `gia_cu` có tỉ lệ các giá trị thiếu rất cao so với phần còn lại. Ta sẽ loại bỏ 2 cột này:"
   ]
  },
  {
   "cell_type": "code",
   "execution_count": 110,
   "metadata": {},
   "outputs": [],
   "source": [
    "df = df.drop(columns=[\"gia_cu\", \"do_sang_man_hinh\"])"
   ]
  },
  {
   "cell_type": "markdown",
   "metadata": {},
   "source": [
    "#### Loại bỏ các hàng tồn tại ít nhất một giá trị NaN."
   ]
  },
  {
   "cell_type": "markdown",
   "metadata": {},
   "source": [
    "- Mục đích: để giữ tính thực tế của dữ liệu, chúng em không điền giữ liệu thiếu mà sẽ xóa đi."
   ]
  },
  {
   "cell_type": "code",
   "execution_count": 111,
   "metadata": {},
   "outputs": [],
   "source": [
    "df = df.dropna()"
   ]
  },
  {
   "cell_type": "markdown",
   "metadata": {},
   "source": [
    "#### Xem thông tin của dữ liệu hiện tại:"
   ]
  },
  {
   "cell_type": "code",
   "execution_count": 112,
   "metadata": {},
   "outputs": [
    {
     "name": "stdout",
     "output_type": "stream",
     "text": [
      "<class 'pandas.core.frame.DataFrame'>\n",
      "Int64Index: 1577 entries, 18 to 8532\n",
      "Data columns (total 18 columns):\n",
      " #   Column                  Non-Null Count  Dtype  \n",
      "---  ------                  --------------  -----  \n",
      " 0   thoi_gian_bao_hanh      1577 non-null   float64\n",
      " 1   danh_gia                1577 non-null   float64\n",
      " 2   so_luong_binh_luan      1577 non-null   int64  \n",
      " 3   gia_moi                 1577 non-null   float64\n",
      " 4   he_dieu_hanh            1577 non-null   object \n",
      " 5   ram                     1577 non-null   float64\n",
      " 6   bo_nho_trong            1577 non-null   float64\n",
      " 7   dung_luong_pin          1577 non-null   float64\n",
      " 8   hang_dien_thoai         1577 non-null   object \n",
      " 9   la_dien_thoai_cu        1577 non-null   bool   \n",
      " 10  kich_thuoc_man_hinh     1577 non-null   float64\n",
      " 11  tan_so_quet             1577 non-null   float64\n",
      " 12  loai_man_hinh           1577 non-null   object \n",
      " 13  so_the_sim              1577 non-null   int64  \n",
      " 14  loai_pin                1577 non-null   object \n",
      " 15  cong_suat_sac           1577 non-null   float64\n",
      " 16  do_phan_giai_cam_sau    1577 non-null   object \n",
      " 17  do_phan_giai_cam_truoc  1577 non-null   object \n",
      "dtypes: bool(1), float64(9), int64(2), object(6)\n",
      "memory usage: 223.3+ KB\n"
     ]
    }
   ],
   "source": [
    "df.info()"
   ]
  },
  {
   "cell_type": "markdown",
   "metadata": {},
   "source": [
    "#### Xử lý các cột non-numeric:"
   ]
  },
  {
   "cell_type": "markdown",
   "metadata": {},
   "source": [
    "##### Trước hết ta cần chuyển các thuộc tính có kiểu category về kiểu số:"
   ]
  },
  {
   "cell_type": "code",
   "execution_count": 113,
   "metadata": {},
   "outputs": [
    {
     "name": "stdout",
     "output_type": "stream",
     "text": [
      "<class 'pandas.core.frame.DataFrame'>\n",
      "Int64Index: 1577 entries, 18 to 8532\n",
      "Data columns (total 6 columns):\n",
      " #   Column                  Non-Null Count  Dtype \n",
      "---  ------                  --------------  ----- \n",
      " 0   he_dieu_hanh            1577 non-null   object\n",
      " 1   hang_dien_thoai         1577 non-null   object\n",
      " 2   loai_man_hinh           1577 non-null   object\n",
      " 3   loai_pin                1577 non-null   object\n",
      " 4   do_phan_giai_cam_sau    1577 non-null   object\n",
      " 5   do_phan_giai_cam_truoc  1577 non-null   object\n",
      "dtypes: object(6)\n",
      "memory usage: 86.2+ KB\n"
     ]
    }
   ],
   "source": [
    "df.select_dtypes(include=['object']).info()"
   ]
  },
  {
   "cell_type": "markdown",
   "metadata": {},
   "source": [
    "- Tách cột `he_dieu_hanh` thành 2 cột `Android` và `iOS`:"
   ]
  },
  {
   "cell_type": "code",
   "execution_count": 114,
   "metadata": {},
   "outputs": [
    {
     "data": {
      "text/plain": [
       "array(['Android 13', 'Android 12', 'Android 11', 'Android 14',\n",
       "       'Android 10', 'Android 15', 'iOS 15', 'iOS 16', 'iOS 17', 'Khác',\n",
       "       'iOS 18', 'Android 9'], dtype=object)"
      ]
     },
     "execution_count": 114,
     "metadata": {},
     "output_type": "execute_result"
    }
   ],
   "source": [
    "df['he_dieu_hanh'].unique()"
   ]
  },
  {
   "cell_type": "code",
   "execution_count": 115,
   "metadata": {},
   "outputs": [],
   "source": [
    "def extract_os_version(os, os_type):\n",
    "    if os.startswith(os_type):\n",
    "        return int(os.split(\" \")[1])  # Lấy phiên bản (phần số)\n",
    "    return 0  # Nếu không phải hệ điều hành đó, trả về 0"
   ]
  },
  {
   "cell_type": "code",
   "execution_count": 116,
   "metadata": {},
   "outputs": [],
   "source": [
    "# Thêm 2 cột mới thay cho cột he_dieu_hanh\n",
    "df['Android'] = df['he_dieu_hanh'].apply(lambda x: extract_os_version(x, 'Android'))\n",
    "df['iOS'] = df['he_dieu_hanh'].apply(lambda x: extract_os_version(x, 'iOS'))"
   ]
  },
  {
   "cell_type": "code",
   "execution_count": 117,
   "metadata": {},
   "outputs": [],
   "source": [
    "# Xóa cột he_dieu_hanh\n",
    "df = df.drop(columns=['he_dieu_hanh'])"
   ]
  },
  {
   "cell_type": "markdown",
   "metadata": {},
   "source": [
    "- Cột `do_phan_giai_cam_sau` và `do_phan_giai_cam_truoc`:"
   ]
  },
  {
   "cell_type": "code",
   "execution_count": 118,
   "metadata": {},
   "outputs": [
    {
     "data": {
      "text/plain": [
       "5950      [50.0, 2.0, 2.0]\n",
       "1140    [108.0, 13.0, 5.0]\n",
       "6778      [48.0, 8.0, 5.0]\n",
       "4032    [50.0, 48.0, 48.0]\n",
       "7724      [50.0, 8.0, 2.0]\n",
       "Name: do_phan_giai_cam_sau, dtype: object"
      ]
     },
     "execution_count": 118,
     "metadata": {},
     "output_type": "execute_result"
    }
   ],
   "source": [
    "df['do_phan_giai_cam_sau'].sample(5)"
   ]
  },
  {
   "cell_type": "code",
   "execution_count": 119,
   "metadata": {},
   "outputs": [
    {
     "data": {
      "text/plain": [
       "7686          [16.0]\n",
       "7052          [16.0]\n",
       "3305    [16.0, 12.0]\n",
       "3161          [32.0]\n",
       "2695          [50.0]\n",
       "Name: do_phan_giai_cam_truoc, dtype: object"
      ]
     },
     "execution_count": 119,
     "metadata": {},
     "output_type": "execute_result"
    }
   ],
   "source": [
    "df['do_phan_giai_cam_truoc'].sample(5)"
   ]
  },
  {
   "cell_type": "markdown",
   "metadata": {},
   "source": [
    "- Nhận xét:\n",
    "    - 2 cột trên lưu trữ danh sách thông số của từng camera ở trước và sau của mỗi điện thoại.\n",
    "    - Ta sẽ chuyển 2 cột này về dạng số bằng cách cộng tổng các số trong mỗi danh sách."
   ]
  },
  {
   "cell_type": "code",
   "execution_count": 120,
   "metadata": {},
   "outputs": [],
   "source": [
    "df['do_phan_giai_cam_sau'] = df['do_phan_giai_cam_sau'].apply(ast.literal_eval)\n",
    "df['do_phan_giai_cam_sau'] = df['do_phan_giai_cam_sau'].apply(sum)"
   ]
  },
  {
   "cell_type": "code",
   "execution_count": 121,
   "metadata": {},
   "outputs": [],
   "source": [
    "df['do_phan_giai_cam_truoc'] = df['do_phan_giai_cam_truoc'].apply(ast.literal_eval)\n",
    "df['do_phan_giai_cam_truoc'] = df['do_phan_giai_cam_truoc'].apply(sum)"
   ]
  },
  {
   "cell_type": "markdown",
   "metadata": {},
   "source": [
    "- Cột `hang_dien_thoai`, `loai_man_hinh`, `loai_pin`:"
   ]
  },
  {
   "cell_type": "code",
   "execution_count": 122,
   "metadata": {},
   "outputs": [
    {
     "data": {
      "text/plain": [
       "array(['Xiaomi', 'Samsung', 'Realme', 'Vivo', 'Nubia', 'iPhone', 'ZTE',\n",
       "       'Tecno', 'itel', 'Motorola', 'Google', 'Honor', 'Oppo', 'Infinix',\n",
       "       'OnePlus', 'Bphone', 'BLU', 'Ulefone', 'Meizu', 'Lenovo', 'Asus',\n",
       "       'Nothing', 'Sony', 'Unihertz', 'Fairphone', 'NIO', 'Red', 'POCO'],\n",
       "      dtype=object)"
      ]
     },
     "execution_count": 122,
     "metadata": {},
     "output_type": "execute_result"
    }
   ],
   "source": [
    "df['hang_dien_thoai'].unique()"
   ]
  },
  {
   "cell_type": "code",
   "execution_count": 123,
   "metadata": {},
   "outputs": [
    {
     "data": {
      "text/plain": [
       "array(['LCD', 'OLED', 'AMOLED'], dtype=object)"
      ]
     },
     "execution_count": 123,
     "metadata": {},
     "output_type": "execute_result"
    }
   ],
   "source": [
    "df['loai_man_hinh'].unique()"
   ]
  },
  {
   "cell_type": "code",
   "execution_count": 124,
   "metadata": {},
   "outputs": [
    {
     "data": {
      "text/plain": [
       "array(['Li-Po', 'Li-Ion', 'Si/C'], dtype=object)"
      ]
     },
     "execution_count": 124,
     "metadata": {},
     "output_type": "execute_result"
    }
   ],
   "source": [
    "df['loai_pin'].unique()"
   ]
  },
  {
   "cell_type": "markdown",
   "metadata": {},
   "source": [
    "- Nhận xét:\n",
    "    - Các cột này gồm các giá trị không có mối quan hệ thứ tự.\n",
    "    - Do đó dùng OneHotEncoder để chuyển đổi."
   ]
  },
  {
   "cell_type": "code",
   "execution_count": 125,
   "metadata": {},
   "outputs": [],
   "source": [
    "one_hot = pd.get_dummies(df['hang_dien_thoai'], prefix='hang_dien_thoai').astype(bool)\n",
    "df = pd.concat([df, one_hot], axis=1)\n",
    "one_hot = pd.get_dummies(df['loai_man_hinh'], prefix='loai_man_hinh').astype(bool)\n",
    "df = pd.concat([df, one_hot], axis=1)\n",
    "one_hot = pd.get_dummies(df['loai_pin'], prefix='loai_pin').astype(bool)\n",
    "df = pd.concat([df, one_hot], axis=1)\n",
    "\n",
    "df = df.drop(columns=['hang_dien_thoai', 'loai_man_hinh', 'loai_pin'])"
   ]
  },
  {
   "cell_type": "markdown",
   "metadata": {},
   "source": [
    "- Cột `la_dien_thoai_cu`:"
   ]
  },
  {
   "cell_type": "code",
   "execution_count": 126,
   "metadata": {},
   "outputs": [
    {
     "data": {
      "text/plain": [
       "array([False,  True])"
      ]
     },
     "execution_count": 126,
     "metadata": {},
     "output_type": "execute_result"
    }
   ],
   "source": [
    "df['la_dien_thoai_cu'].unique()"
   ]
  },
  {
   "cell_type": "markdown",
   "metadata": {},
   "source": [
    "- Nhận xét:\n",
    "    - Chuyển cột này bằng LabelEncoder."
   ]
  },
  {
   "cell_type": "code",
   "execution_count": 127,
   "metadata": {},
   "outputs": [],
   "source": [
    "# Khởi tạo LabelEncoder\n",
    "label_encoder = LabelEncoder()\n",
    "\n",
    "# Áp dụng LabelEncoder\n",
    "df['la_dien_thoai_cu'] = label_encoder.fit_transform(df['la_dien_thoai_cu'])"
   ]
  },
  {
   "cell_type": "code",
   "execution_count": 128,
   "metadata": {},
   "outputs": [
    {
     "data": {
      "text/plain": [
       "array([0, 1], dtype=int64)"
      ]
     },
     "execution_count": 128,
     "metadata": {},
     "output_type": "execute_result"
    }
   ],
   "source": [
    "df['la_dien_thoai_cu'].unique()"
   ]
  },
  {
   "cell_type": "markdown",
   "metadata": {},
   "source": [
    "##### Xem lại thông tin của bộ dữ liệu:"
   ]
  },
  {
   "cell_type": "code",
   "execution_count": 129,
   "metadata": {},
   "outputs": [
    {
     "name": "stdout",
     "output_type": "stream",
     "text": [
      "<class 'pandas.core.frame.DataFrame'>\n",
      "Int64Index: 1577 entries, 18 to 8532\n",
      "Data columns (total 50 columns):\n",
      " #   Column                     Non-Null Count  Dtype  \n",
      "---  ------                     --------------  -----  \n",
      " 0   thoi_gian_bao_hanh         1577 non-null   float64\n",
      " 1   danh_gia                   1577 non-null   float64\n",
      " 2   so_luong_binh_luan         1577 non-null   int64  \n",
      " 3   gia_moi                    1577 non-null   float64\n",
      " 4   ram                        1577 non-null   float64\n",
      " 5   bo_nho_trong               1577 non-null   float64\n",
      " 6   dung_luong_pin             1577 non-null   float64\n",
      " 7   la_dien_thoai_cu           1577 non-null   int64  \n",
      " 8   kich_thuoc_man_hinh        1577 non-null   float64\n",
      " 9   tan_so_quet                1577 non-null   float64\n",
      " 10  so_the_sim                 1577 non-null   int64  \n",
      " 11  cong_suat_sac              1577 non-null   float64\n",
      " 12  do_phan_giai_cam_sau       1577 non-null   float64\n",
      " 13  do_phan_giai_cam_truoc     1577 non-null   float64\n",
      " 14  Android                    1577 non-null   int64  \n",
      " 15  iOS                        1577 non-null   int64  \n",
      " 16  hang_dien_thoai_Asus       1577 non-null   bool   \n",
      " 17  hang_dien_thoai_BLU        1577 non-null   bool   \n",
      " 18  hang_dien_thoai_Bphone     1577 non-null   bool   \n",
      " 19  hang_dien_thoai_Fairphone  1577 non-null   bool   \n",
      " 20  hang_dien_thoai_Google     1577 non-null   bool   \n",
      " 21  hang_dien_thoai_Honor      1577 non-null   bool   \n",
      " 22  hang_dien_thoai_Infinix    1577 non-null   bool   \n",
      " 23  hang_dien_thoai_Lenovo     1577 non-null   bool   \n",
      " 24  hang_dien_thoai_Meizu      1577 non-null   bool   \n",
      " 25  hang_dien_thoai_Motorola   1577 non-null   bool   \n",
      " 26  hang_dien_thoai_NIO        1577 non-null   bool   \n",
      " 27  hang_dien_thoai_Nothing    1577 non-null   bool   \n",
      " 28  hang_dien_thoai_Nubia      1577 non-null   bool   \n",
      " 29  hang_dien_thoai_OnePlus    1577 non-null   bool   \n",
      " 30  hang_dien_thoai_Oppo       1577 non-null   bool   \n",
      " 31  hang_dien_thoai_POCO       1577 non-null   bool   \n",
      " 32  hang_dien_thoai_Realme     1577 non-null   bool   \n",
      " 33  hang_dien_thoai_Red        1577 non-null   bool   \n",
      " 34  hang_dien_thoai_Samsung    1577 non-null   bool   \n",
      " 35  hang_dien_thoai_Sony       1577 non-null   bool   \n",
      " 36  hang_dien_thoai_Tecno      1577 non-null   bool   \n",
      " 37  hang_dien_thoai_Ulefone    1577 non-null   bool   \n",
      " 38  hang_dien_thoai_Unihertz   1577 non-null   bool   \n",
      " 39  hang_dien_thoai_Vivo       1577 non-null   bool   \n",
      " 40  hang_dien_thoai_Xiaomi     1577 non-null   bool   \n",
      " 41  hang_dien_thoai_ZTE        1577 non-null   bool   \n",
      " 42  hang_dien_thoai_iPhone     1577 non-null   bool   \n",
      " 43  hang_dien_thoai_itel       1577 non-null   bool   \n",
      " 44  loai_man_hinh_AMOLED       1577 non-null   bool   \n",
      " 45  loai_man_hinh_LCD          1577 non-null   bool   \n",
      " 46  loai_man_hinh_OLED         1577 non-null   bool   \n",
      " 47  loai_pin_Li-Ion            1577 non-null   bool   \n",
      " 48  loai_pin_Li-Po             1577 non-null   bool   \n",
      " 49  loai_pin_Si/C              1577 non-null   bool   \n",
      "dtypes: bool(34), float64(11), int64(5)\n",
      "memory usage: 261.8 KB\n"
     ]
    }
   ],
   "source": [
    "df.info()"
   ]
  },
  {
   "cell_type": "markdown",
   "metadata": {},
   "source": [
    "##### Chúng ta đã chuyển đổi các cột non-numeric về numeric, vậy nên ta sẽ áp dụng tất cả thuộc tính này vào các mô hình."
   ]
  },
  {
   "cell_type": "markdown",
   "metadata": {},
   "source": [
    "## Tạo các mô hình:"
   ]
  },
  {
   "cell_type": "markdown",
   "metadata": {},
   "source": [
    "### Tạo DataFrame X và y:"
   ]
  },
  {
   "cell_type": "code",
   "execution_count": 130,
   "metadata": {},
   "outputs": [],
   "source": [
    "X = df.drop(columns=[\"gia_moi\"])\n",
    "y = df[\"gia_moi\"]"
   ]
  },
  {
   "cell_type": "markdown",
   "metadata": {},
   "source": [
    "### Chia dữ liệu thành tập huấn luyện và tập kiểm tra:"
   ]
  },
  {
   "cell_type": "code",
   "execution_count": 131,
   "metadata": {},
   "outputs": [],
   "source": [
    "X_train, X_test, y_train, y_test = train_test_split(X, y, test_size=1/3, random_state=42)"
   ]
  },
  {
   "cell_type": "markdown",
   "metadata": {},
   "source": [
    "### Model: `XGBRegressor`"
   ]
  },
  {
   "cell_type": "markdown",
   "metadata": {},
   "source": [
    "#### Lý do chọn:"
   ]
  },
  {
   "cell_type": "markdown",
   "metadata": {},
   "source": [
    "- Phù hợp với dữ liệu phức tạp: Bộ dữ liệu có **1,577 mẫu** và **50 đặc trưng** (11 số thực, 5 số nguyên, 34 nhị phân), đòi hỏi mô hình mạnh để xử lý tốt cả dữ liệu liên tục và nhị phân.\n",
    "\n",
    "- Khả năng phi tuyến: Nắm bắt được mối quan hệ phức tạp giữa các đặc trưng như `ram`, `bo_nho_trong`, và `dung_luong_pin`.\n",
    "\n",
    "- Chống overfitting: Với số lượng đặc trưng lớn, `XGBRegressor` sử dụng regularization và early stopping để kiểm soát độ phức tạp.\n",
    "\n",
    "- Hiệu quả tính toán: Tối ưu với song song hóa và xử lý dữ liệu thưa, phù hợp với tập dữ liệu vừa phải.\n",
    "\n",
    "- Dự đoán chính xác: Boosting giúp cải thiện lỗi, đặc biệt với bài toán dự đoán giá trị liên tục như giá điện thoại."
   ]
  },
  {
   "cell_type": "markdown",
   "metadata": {},
   "source": [
    "### Khởi tạo mô hình:"
   ]
  },
  {
   "cell_type": "code",
   "execution_count": 132,
   "metadata": {},
   "outputs": [],
   "source": [
    "model_1 = XGBRegressor()"
   ]
  },
  {
   "cell_type": "markdown",
   "metadata": {},
   "source": [
    "### Huấn luyện mô hình và tính thời gian:"
   ]
  },
  {
   "cell_type": "code",
   "execution_count": 133,
   "metadata": {},
   "outputs": [],
   "source": [
    "time_start = time.time()\n",
    "model_1.fit(X_train, y_train)\n",
    "time_end = time.time()"
   ]
  },
  {
   "cell_type": "code",
   "execution_count": 134,
   "metadata": {},
   "outputs": [
    {
     "name": "stdout",
     "output_type": "stream",
     "text": [
      "Training time: 0.10 seconds\n"
     ]
    }
   ],
   "source": [
    "training_time_model_1 = time_end - time_start\n",
    "print(f\"Training time: {training_time_model_1:.2f} seconds\")"
   ]
  },
  {
   "cell_type": "markdown",
   "metadata": {},
   "source": [
    "### Đánh giá mô hình:"
   ]
  },
  {
   "cell_type": "markdown",
   "metadata": {},
   "source": [
    "#### Dự đoán giá trị đầu ra trên tập dữ liệu kiểm tra bằng mô hình tốt nhất:"
   ]
  },
  {
   "cell_type": "code",
   "execution_count": 135,
   "metadata": {},
   "outputs": [],
   "source": [
    "y_pred_model_1 = model_1.predict(X_test)\n",
    "y_pred_model_1 = np.maximum(y_pred_model_1, 0)  # Đảm bảo giá không âm"
   ]
  },
  {
   "cell_type": "markdown",
   "metadata": {},
   "source": [
    "#### Tính toán các chỉ số đánh giá mô hình:"
   ]
  },
  {
   "cell_type": "code",
   "execution_count": 136,
   "metadata": {},
   "outputs": [],
   "source": [
    "mae_model_1 = mean_absolute_error(y_test, y_pred_model_1)\n",
    "mse_model_1 = mean_squared_error(y_test, y_pred_model_1)\n",
    "r2_model_1 = r2_score(y_test, y_pred_model_1)"
   ]
  },
  {
   "cell_type": "code",
   "execution_count": 137,
   "metadata": {},
   "outputs": [
    {
     "name": "stdout",
     "output_type": "stream",
     "text": [
      "Mean Absolute Error: 1165279.62\n",
      "Mean Squared Error: 4029285920587.60\n",
      "R^2: 0.90\n"
     ]
    }
   ],
   "source": [
    "print(f\"Mean Absolute Error: {mae_model_1:.2f}\")\n",
    "print(f\"Mean Squared Error: {mse_model_1:.2f}\")\n",
    "print(f\"R^2: {r2_model_1:.2f}\")"
   ]
  },
  {
   "cell_type": "markdown",
   "metadata": {},
   "source": [
    "#### Trực quan hóa:"
   ]
  },
  {
   "cell_type": "markdown",
   "metadata": {},
   "source": [
    "##### Vẽ biểu đồ so sánh giá trị thực tế và giá trị dự đoán:"
   ]
  },
  {
   "cell_type": "code",
   "execution_count": 138,
   "metadata": {},
   "outputs": [
    {
     "data": {
      "image/png": "[encoded data removed]",
      "text/plain": [
       "<Figure size 1000x600 with 1 Axes>"
      ]
     },
     "metadata": {},
     "output_type": "display_data"
    }
   ],
   "source": [
    "plt.figure(figsize=(10, 6))\n",
    "\n",
    "plt.scatter(y_test, y_pred_model_1)\n",
    "plt.xlabel('Actual values')\n",
    "plt.ylabel('Predicted values')\n",
    "plt.title('Predicted values vs Actual values (XGBoost)')\n",
    "\n",
    "plt.show()"
   ]
  },
  {
   "cell_type": "markdown",
   "metadata": {},
   "source": [
    "### Model: `DecisionTreeRegressor`"
   ]
  },
  {
   "cell_type": "markdown",
   "metadata": {},
   "source": [
    "#### Lý do chọn:"
   ]
  },
  {
   "cell_type": "markdown",
   "metadata": {},
   "source": [
    "- Dễ hiểu và trực quan:\n",
    "    - Cấu trúc cây quyết định đơn giản, dễ giải thích và trực quan hóa, phù hợp khi cần giải thích các yếu tố ảnh hưởng đến giá điện thoại.\n",
    "\n",
    "- Khả năng xử lý dữ liệu phức tạp:\n",
    "    - Bộ dữ liệu có **1,577 mẫu** và **50 đặc trưng** (11 số thực, 5 số nguyên, 34 nhị phân). `DecisionTreeRegressor` có thể xử lý tốt cả đặc trưng số và nhị phân mà không cần chuẩn hóa hay chuyển đổi phức tạp.\n",
    "\n",
    "- Mô hình phi tuyến:\n",
    "    - Cây quyết định có khả năng nắm bắt các mối quan hệ phi tuyến giữa các đặc trưng, ví dụ: sự kết hợp giữa `ram`, `bo_nho_trong`, và `dung_luong_pin` đến giá.\n",
    "\n",
    "- Không cần giả định dữ liệu:\n",
    "    - Không đòi hỏi giả định về phân phối dữ liệu hoặc mối quan hệ tuyến tính giữa các đặc trưng, phù hợp với tập dữ liệu thực tế có thể không tuyến tính.\n",
    "\n",
    "- Chống ảnh hưởng bởi đặc trưng không liên quan:\n",
    "    - Tự động chọn lọc các đặc trưng quan trọng (như kich_thuoc_man_hinh, tan_so_quet,...), giảm ảnh hưởng từ những đặc trưng ít liên quan đến giá.\n",
    "\n",
    "- Hiệu quả tính toán với tập dữ liệu nhỏ:\n",
    "    - Với 1,577 mẫu, `DecisionTreeRegressor` có thời gian huấn luyện nhanh, không đòi hỏi tài nguyên tính toán lớn."
   ]
  },
  {
   "cell_type": "markdown",
   "metadata": {},
   "source": [
    "### Khởi tạo mô hình:"
   ]
  },
  {
   "cell_type": "code",
   "execution_count": 139,
   "metadata": {},
   "outputs": [],
   "source": [
    "model_2 = DecisionTreeRegressor()"
   ]
  },
  {
   "cell_type": "markdown",
   "metadata": {},
   "source": [
    "### Huấn luyện mô hình và tính thời gian:"
   ]
  },
  {
   "cell_type": "code",
   "execution_count": 140,
   "metadata": {},
   "outputs": [],
   "source": [
    "time_start = time.time()\n",
    "model_2.fit(X_train, y_train)\n",
    "time_end = time.time()"
   ]
  },
  {
   "cell_type": "code",
   "execution_count": 141,
   "metadata": {},
   "outputs": [
    {
     "name": "stdout",
     "output_type": "stream",
     "text": [
      "Training time: 0.01 seconds\n"
     ]
    }
   ],
   "source": [
    "training_time_model_2 = time_end - time_start\n",
    "print(f\"Training time: {training_time_model_2:.2f} seconds\")"
   ]
  },
  {
   "cell_type": "markdown",
   "metadata": {},
   "source": [
    "### Đánh giá mô hình:"
   ]
  },
  {
   "cell_type": "markdown",
   "metadata": {},
   "source": [
    "#### Dự đoán giá trị đầu ra trên tập dữ liệu kiểm tra bằng mô hình tốt nhất:"
   ]
  },
  {
   "cell_type": "code",
   "execution_count": 142,
   "metadata": {},
   "outputs": [],
   "source": [
    "y_pred_model_2 = model_2.predict(X_test)\n",
    "y_pred_model_2 = np.maximum(y_pred_model_2, 0)  # Đảm bảo giá không âm"
   ]
  },
  {
   "cell_type": "markdown",
   "metadata": {},
   "source": [
    "#### Tính toán các chỉ số đánh giá mô hình:"
   ]
  },
  {
   "cell_type": "code",
   "execution_count": 143,
   "metadata": {},
   "outputs": [],
   "source": [
    "mae_model_2 = mean_absolute_error(y_test, y_pred_model_2)\n",
    "mse_model_2 = mean_squared_error(y_test, y_pred_model_2)\n",
    "r2_model_2 = r2_score(y_test, y_pred_model_2)"
   ]
  },
  {
   "cell_type": "code",
   "execution_count": 144,
   "metadata": {},
   "outputs": [
    {
     "name": "stdout",
     "output_type": "stream",
     "text": [
      "Mean Absolute Error: 1566788.97\n",
      "Mean Squared Error: 9315000176806.08\n",
      "R^2: 0.77\n"
     ]
    }
   ],
   "source": [
    "print(f\"Mean Absolute Error: {mae_model_2:.2f}\")\n",
    "print(f\"Mean Squared Error: {mse_model_2:.2f}\")\n",
    "print(f\"R^2: {r2_model_2:.2f}\")"
   ]
  },
  {
   "cell_type": "markdown",
   "metadata": {},
   "source": [
    "#### Trực quan hóa:"
   ]
  },
  {
   "cell_type": "markdown",
   "metadata": {},
   "source": [
    "##### Vẽ biểu đồ so sánh giá trị thực tế và giá trị dự đoán:"
   ]
  },
  {
   "cell_type": "code",
   "execution_count": 145,
   "metadata": {},
   "outputs": [
    {
     "data": {
      "image/png": "[encoded data removed]",
      "text/plain": [
       "<Figure size 1000x600 with 1 Axes>"
      ]
     },
     "metadata": {},
     "output_type": "display_data"
    }
   ],
   "source": [
    "plt.figure(figsize=(10, 6))\n",
    "\n",
    "plt.scatter(y_test, y_pred_model_2)\n",
    "plt.xlabel('Actual values')\n",
    "plt.ylabel('Predicted values')\n",
    "plt.title('Predicted values vs Actual values (DecisionTree)')\n",
    "\n",
    "plt.show()"
   ]
  },
  {
   "cell_type": "markdown",
   "metadata": {},
   "source": [
    "### Model: `RandomForestRegressor`"
   ]
  },
  {
   "cell_type": "markdown",
   "metadata": {},
   "source": [
    "#### Lý do chọn:"
   ]
  },
  {
   "cell_type": "markdown",
   "metadata": {},
   "source": [
    "- Hiệu quả trên dữ liệu phức tạp:\n",
    "    - Bộ dữ liệu có **1,577 mẫu** và **50 đặc trưng** (11 số thực, 5 số nguyên, 34 nhị phân). `RandomForestRegressor` có thể xử lý tốt cả đặc trưng liên tục và nhị phân.\n",
    "\n",
    "- Khả năng phi tuyến cao:\n",
    "    - `RandomForestRegressor` xây dựng nhiều cây quyết định và tổng hợp kết quả, cho phép nắm bắt tốt các mối quan hệ phi tuyến giữa các đặc trưng (như `ram`, `bo_nho_trong`, và `kich_thuoc_man_hinh`) đến giá.\n",
    "\n",
    "- Giảm overfitting:\n",
    "    - Random Forest giảm overfitting so với DecisionTreeRegressor bằng cách sử dụng kỹ thuật bagging (xây dựng nhiều cây trên các tập dữ liệu con ngẫu nhiên) và chọn ngẫu nhiên một tập con các đặc trưng tại mỗi nút phân chia.\n",
    "\n",
    "- Đánh giá tầm quan trọng của đặc trưng:\n",
    "    - `RandomForestRegressor` cung cấp thông tin về mức độ quan trọng của từng đặc trưng (như `dung_luong_pin`, `tan_so_quet`,...), giúp hiểu rõ yếu tố nào ảnh hưởng nhiều nhất đến giá điện thoại.\n",
    "\n",
    "- Hiệu suất tốt và khả năng mở rộng:\n",
    "    - Hoạt động hiệu quả trên tập dữ liệu vừa phải, đồng thời dễ mở rộng lên tập dữ liệu lớn nhờ tính song song của thuật toán.\n",
    "\n",
    "- Khả năng xử lý nhiễu và đặc trưng không liên quan:\n",
    "    - Do sử dụng trung bình kết quả từ nhiều cây, mô hình giảm độ nhạy với nhiễu và đặc trưng không liên quan, đảm bảo dự đoán ổn định hơn.\n",
    "\n",
    "- Không cần giả định dữ liệu:\n",
    "    - Không yêu cầu giả định về phân phối dữ liệu hay mối quan hệ giữa các đặc trưng, phù hợp với tập dữ liệu thực tế."
   ]
  },
  {
   "cell_type": "markdown",
   "metadata": {},
   "source": [
    "### Khởi tạo mô hình:"
   ]
  },
  {
   "cell_type": "code",
   "execution_count": 146,
   "metadata": {},
   "outputs": [],
   "source": [
    "model_3 = RandomForestRegressor()"
   ]
  },
  {
   "cell_type": "markdown",
   "metadata": {},
   "source": [
    "### Huấn luyện mô hình và tính thời gian:"
   ]
  },
  {
   "cell_type": "code",
   "execution_count": 147,
   "metadata": {},
   "outputs": [],
   "source": [
    "time_start = time.time()\n",
    "model_3.fit(X_train, y_train)\n",
    "time_end = time.time()"
   ]
  },
  {
   "cell_type": "code",
   "execution_count": 148,
   "metadata": {},
   "outputs": [
    {
     "name": "stdout",
     "output_type": "stream",
     "text": [
      "Training time: 0.48 seconds\n"
     ]
    }
   ],
   "source": [
    "training_time_model_3 = time_end - time_start\n",
    "print(f\"Training time: {training_time_model_3:.2f} seconds\")"
   ]
  },
  {
   "cell_type": "markdown",
   "metadata": {},
   "source": [
    "### Đánh giá mô hình:"
   ]
  },
  {
   "cell_type": "markdown",
   "metadata": {},
   "source": [
    "#### Dự đoán giá trị đầu ra trên tập dữ liệu kiểm tra bằng mô hình tốt nhất:"
   ]
  },
  {
   "cell_type": "code",
   "execution_count": 149,
   "metadata": {},
   "outputs": [],
   "source": [
    "y_pred_model_3 = model_3.predict(X_test)\n",
    "y_pred_model_3 = np.maximum(y_pred_model_3, 0)  # Đảm bảo giá không âm"
   ]
  },
  {
   "cell_type": "markdown",
   "metadata": {},
   "source": [
    "#### Tính toán các chỉ số đánh giá mô hình:"
   ]
  },
  {
   "cell_type": "code",
   "execution_count": 150,
   "metadata": {},
   "outputs": [],
   "source": [
    "mae_model_3 = mean_absolute_error(y_test, y_pred_model_3)\n",
    "mse_model_3 = mean_squared_error(y_test, y_pred_model_3)\n",
    "r2_model_3 = r2_score(y_test, y_pred_model_3)"
   ]
  },
  {
   "cell_type": "code",
   "execution_count": 151,
   "metadata": {},
   "outputs": [
    {
     "name": "stdout",
     "output_type": "stream",
     "text": [
      "Mean Absolute Error: 1276983.10\n",
      "Mean Squared Error: 4991706822978.99\n",
      "R^2: 0.88\n"
     ]
    }
   ],
   "source": [
    "print(f\"Mean Absolute Error: {mae_model_3:.2f}\")\n",
    "print(f\"Mean Squared Error: {mse_model_3:.2f}\")\n",
    "print(f\"R^2: {r2_model_3:.2f}\")"
   ]
  },
  {
   "cell_type": "markdown",
   "metadata": {},
   "source": [
    "#### Trực quan hóa:"
   ]
  },
  {
   "cell_type": "markdown",
   "metadata": {},
   "source": [
    "##### Vẽ biểu đồ so sánh giá trị thực tế và giá trị dự đoán:"
   ]
  },
  {
   "cell_type": "code",
   "execution_count": 152,
   "metadata": {},
   "outputs": [
    {
     "data": {
      "image/png": "[encoded data removed]",
      "text/plain": [
       "<Figure size 1000x600 with 1 Axes>"
      ]
     },
     "metadata": {},
     "output_type": "display_data"
    }
   ],
   "source": [
    "plt.figure(figsize=(10, 6))\n",
    "\n",
    "plt.scatter(y_test, y_pred_model_3)\n",
    "plt.xlabel('Actual values')\n",
    "plt.ylabel('Predicted values')\n",
    "plt.title('Predicted values vs Actual values (RandomForest)')\n",
    "\n",
    "plt.show()"
   ]
  },
  {
   "cell_type": "markdown",
   "metadata": {},
   "source": [
    "## Đánh giá các mô hình:"
   ]
  },
  {
   "cell_type": "markdown",
   "metadata": {},
   "source": [
    "### Tạo DataFrame lưu kết quả đánh giá của cả 3 mô hình:"
   ]
  },
  {
   "cell_type": "code",
   "execution_count": 153,
   "metadata": {},
   "outputs": [],
   "source": [
    "models_evaluation_df = pd.DataFrame({\n",
    "    \"Model\": [\"XGBoost\", \"DecisionTree\", \"RandomForest\"],\n",
    "    \"Training time\": [training_time_model_1, training_time_model_2, training_time_model_3],\n",
    "    \"Mean Absolute Error\": [mae_model_1, mae_model_2, mae_model_3],\n",
    "    \"Mean Squared Error\": [mse_model_1, mse_model_2, mse_model_3],\n",
    "    \"R^2\": [r2_model_1, r2_model_2, r2_model_3]\n",
    "})"
   ]
  },
  {
   "cell_type": "code",
   "execution_count": 154,
   "metadata": {},
   "outputs": [
    {
     "data": {
      "text/html": [
       "<div>\n",
       "<style scoped>\n",
       "    .dataframe tbody tr th:only-of-type {\n",
       "        vertical-align: middle;\n",
       "    }\n",
       "\n",
       "    .dataframe tbody tr th {\n",
       "        vertical-align: top;\n",
       "    }\n",
       "\n",
       "    .dataframe thead th {\n",
       "        text-align: right;\n",
       "    }\n",
       "</style>\n",
       "<table border=\"1\" class=\"dataframe\">\n",
       "  <thead>\n",
       "    <tr style=\"text-align: right;\">\n",
       "      <th></th>\n",
       "      <th>Model</th>\n",
       "      <th>Training time</th>\n",
       "      <th>Mean Absolute Error</th>\n",
       "      <th>Mean Squared Error</th>\n",
       "      <th>R^2</th>\n",
       "    </tr>\n",
       "  </thead>\n",
       "  <tbody>\n",
       "    <tr>\n",
       "      <th>0</th>\n",
       "      <td>XGBoost</td>\n",
       "      <td>0.102601</td>\n",
       "      <td>1.165280e+06</td>\n",
       "      <td>4.029286e+12</td>\n",
       "      <td>0.902306</td>\n",
       "    </tr>\n",
       "    <tr>\n",
       "      <th>1</th>\n",
       "      <td>DecisionTree</td>\n",
       "      <td>0.011178</td>\n",
       "      <td>1.566789e+06</td>\n",
       "      <td>9.315000e+12</td>\n",
       "      <td>0.774148</td>\n",
       "    </tr>\n",
       "    <tr>\n",
       "      <th>2</th>\n",
       "      <td>RandomForest</td>\n",
       "      <td>0.476107</td>\n",
       "      <td>1.276983e+06</td>\n",
       "      <td>4.991707e+12</td>\n",
       "      <td>0.878971</td>\n",
       "    </tr>\n",
       "  </tbody>\n",
       "</table>\n",
       "</div>"
      ],
      "text/plain": [
       "          Model  Training time  Mean Absolute Error  Mean Squared Error  \\\n",
       "0       XGBoost       0.102601         1.165280e+06        4.029286e+12   \n",
       "1  DecisionTree       0.011178         1.566789e+06        9.315000e+12   \n",
       "2  RandomForest       0.476107         1.276983e+06        4.991707e+12   \n",
       "\n",
       "        R^2  \n",
       "0  0.902306  \n",
       "1  0.774148  \n",
       "2  0.878971  "
      ]
     },
     "execution_count": 154,
     "metadata": {},
     "output_type": "execute_result"
    }
   ],
   "source": [
    "models_evaluation_df"
   ]
  },
  {
   "cell_type": "markdown",
   "metadata": {},
   "source": [
    "### Trực quan hóa từng chỉ số đánh giá của các mô hình:"
   ]
  },
  {
   "cell_type": "markdown",
   "metadata": {},
   "source": [
    "#### 1. Thời gian huấn luyện:"
   ]
  },
  {
   "cell_type": "code",
   "execution_count": 155,
   "metadata": {},
   "outputs": [
    {
     "data": {
      "image/png": "[encoded data removed]",
      "text/plain": [
       "<Figure size 1000x500 with 1 Axes>"
      ]
     },
     "metadata": {},
     "output_type": "display_data"
    }
   ],
   "source": [
    "ax = models_evaluation_df.plot(x='Model', y='Training time', kind='bar', figsize=(10, 5))\n",
    "ax.set_title('Training time of each algorithm')\n",
    "ax.set_xticklabels(labels=models_evaluation_df['Model'], rotation=0)\n",
    "ax.grid(axis='y', linestyle='--', alpha=0.6)\n",
    "plt.bar_label(ax.containers[0]);"
   ]
  },
  {
   "cell_type": "markdown",
   "metadata": {},
   "source": [
    "##### Nhận xét:"
   ]
  },
  {
   "cell_type": "markdown",
   "metadata": {},
   "source": [
    "1. **DecisionTreeRegressor (0.011 giây)**:  \n",
    "   - Đây là mô hình có thời gian huấn luyện nhanh nhất, do chỉ xây dựng một cây quyết định. Điều này phù hợp với đặc điểm của Decision Tree, vốn là thuật toán đơn giản, hiệu quả và ít tốn tài nguyên tính toán.\n",
    "   - Tuy nhiên, nhược điểm là dễ bị overfitting, đặc biệt với dữ liệu có nhiều đặc trưng và mối quan hệ phức tạp.\n",
    "\n",
    "2. **XGBoost (0.103 giây)**:  \n",
    "   - XGBoost có thời gian huấn luyện dài hơn Decision Tree nhưng vẫn nhanh và tối ưu, nhờ khả năng song song hóa và tối ưu thuật toán Gradient Boosting.\n",
    "   - Mặc dù thời gian huấn luyện cao hơn Decision Tree, XGBoost thường đạt hiệu suất tốt hơn, đặc biệt với bài toán hồi quy nhờ khả năng học từ lỗi của các mô hình trước đó.\n",
    "\n",
    "3. **RandomForestRegressor (0.476 giây)**:  \n",
    "   - Random Forest có thời gian huấn luyện dài nhất do phải xây dựng và tổng hợp kết quả từ nhiều cây quyết định. Tuy nhiên, điều này mang lại tính ổn định và giảm overfitting so với Decision Tree.\n",
    "   - Với bộ dữ liệu cỡ trung bình (~1,577 mẫu), thời gian này vẫn chấp nhận được, nhưng đối với tập dữ liệu lớn hơn, có thể cần điều chỉnh số lượng cây hoặc tăng cường tài nguyên tính toán."
   ]
  },
  {
   "cell_type": "markdown",
   "metadata": {},
   "source": [
    "#### 2. Mean Absolute Error (MAE):"
   ]
  },
  {
   "cell_type": "code",
   "execution_count": 158,
   "metadata": {},
   "outputs": [
    {
     "data": {
      "image/png": "[encoded data removed]",
      "text/plain": [
       "<Figure size 1000x500 with 1 Axes>"
      ]
     },
     "metadata": {},
     "output_type": "display_data"
    }
   ],
   "source": [
    "ax = models_evaluation_df.plot(x='Model', y='Mean Absolute Error', kind='bar', figsize=(10, 5))\n",
    "ax.set_title('Mean Absolute Error (MAE) of each algorithm')\n",
    "ax.set_xticklabels(labels=models_evaluation_df['Model'], rotation=0)\n",
    "ax.grid(axis='y', linestyle='--', alpha=0.6)\n",
    "plt.bar_label(ax.containers[0]);"
   ]
  },
  {
   "cell_type": "markdown",
   "metadata": {},
   "source": [
    "##### Nhận xét:"
   ]
  },
  {
   "cell_type": "markdown",
   "metadata": {},
   "source": [
    "1. **XGBoost (1.17 triệu)**:  \n",
    "   - Đây là mô hình có MAE thấp nhất, cho thấy XGBoost dự đoán gần đúng giá trị thực hơn so với các mô hình còn lại.  \n",
    "   - XGBoost thường đạt hiệu suất cao nhờ khả năng học từ lỗi của các mô hình trước đó trong quá trình boosting, đồng thời nắm bắt tốt các mối quan hệ phi tuyến giữa các đặc trưng.\n",
    "\n",
    "2. **DecisionTreeRegressor (1.57 triệu)**:  \n",
    "   - Decision Tree có MAE cao nhất trong số các mô hình, cho thấy dự đoán ít chính xác hơn.  \n",
    "   - Nguyên nhân chính là Decision Tree dễ bị overfitting khi hoạt động độc lập, dẫn đến hiệu suất không ổn định, đặc biệt với dữ liệu kiểm tra.\n",
    "\n",
    "3. **RandomForestRegressor (1.28 triệu)**:  \n",
    "   - Random Forest đạt MAE trung bình, tốt hơn Decision Tree nhưng kém XGBoost.  \n",
    "   - Việc tổng hợp nhiều cây giúp Random Forest ổn định hơn so với một Decision Tree đơn lẻ, nhưng hiệu quả vẫn thua XGBoost vì không tối ưu hóa lỗi giữa các cây như boosting."
   ]
  },
  {
   "cell_type": "markdown",
   "metadata": {},
   "source": [
    "#### 3. Mean Squared Error (MSE):"
   ]
  },
  {
   "cell_type": "code",
   "execution_count": 160,
   "metadata": {},
   "outputs": [
    {
     "data": {
      "image/png": "[encoded data removed]",
      "text/plain": [
       "<Figure size 1000x500 with 1 Axes>"
      ]
     },
     "metadata": {},
     "output_type": "display_data"
    }
   ],
   "source": [
    "ax = models_evaluation_df.plot(x='Model', y='Mean Squared Error', kind='bar', figsize=(10, 5))\n",
    "ax.set_title('Mean Squared Error (MSE) of each algorithm')\n",
    "ax.set_xticklabels(labels=models_evaluation_df['Model'], rotation=0)\n",
    "ax.grid(axis='y', linestyle='--', alpha=0.6)\n",
    "plt.bar_label(ax.containers[0]);"
   ]
  },
  {
   "cell_type": "markdown",
   "metadata": {},
   "source": [
    "##### Nhận xét:"
   ]
  },
  {
   "cell_type": "markdown",
   "metadata": {},
   "source": [
    "1. **XGBoost (4.03 × 10¹²)**:  \n",
    "   - **MSE thấp nhất**, cho thấy XGBoost có độ chính xác cao và dự đoán sát với giá trị thực hơn so với các mô hình khác.  \n",
    "   - XGBoost tối ưu hóa lỗi dựa trên boosting, nên thường vượt trội trong các bài toán hồi quy nhờ giảm thiểu lỗi dự đoán ở từng bước học.\n",
    "\n",
    "2. **DecisionTreeRegressor (9.32 × 10¹²)**:  \n",
    "   - **MSE cao nhất**, gấp hơn 2 lần XGBoost, cho thấy Decision Tree có sai số lớn hơn đáng kể.  \n",
    "   - Nguyên nhân chính có thể là do Decision Tree dễ bị overfitting khi hoạt động độc lập, dẫn đến dự đoán kém chính xác trên tập kiểm tra.\n",
    "\n",
    "3. **RandomForestRegressor (4.99 × 10¹²)**:  \n",
    "   - MSE của Random Forest cao hơn XGBoost nhưng thấp hơn Decision Tree, nhờ việc sử dụng nhiều cây quyết định và tổng hợp kết quả, giúp cải thiện độ chính xác và giảm sai số.  \n",
    "   - Tuy nhiên, Random Forest không tối ưu hóa lỗi tuần tự như XGBoost, nên hiệu suất vẫn kém hơn."
   ]
  },
  {
   "cell_type": "markdown",
   "metadata": {},
   "source": [
    "#### 4. R2 Score:"
   ]
  },
  {
   "cell_type": "code",
   "execution_count": 162,
   "metadata": {},
   "outputs": [
    {
     "data": {
      "image/png": "[encoded data removed]",
      "text/plain": [
       "<Figure size 1000x500 with 1 Axes>"
      ]
     },
     "metadata": {},
     "output_type": "display_data"
    }
   ],
   "source": [
    "ax = models_evaluation_df.plot(x='Model', y='R^2', kind='bar', figsize=(10, 5))\n",
    "ax.set_title('R^2 of each algorithm')\n",
    "ax.set_xticklabels(labels=models_evaluation_df['Model'], rotation=0)\n",
    "ax.grid(axis='y', linestyle='--', alpha=0.6)\n",
    "plt.bar_label(ax.containers[0]);"
   ]
  },
  {
   "cell_type": "markdown",
   "metadata": {},
   "source": [
    "##### Nhận xét:"
   ]
  },
  {
   "cell_type": "markdown",
   "metadata": {},
   "source": [
    "1. **XGBoost (0.9023)**:  \n",
    "   - **R² cao nhất**, cho thấy XGBoost giải thích được 90.23% phương sai của biến mục tiêu `gia_moi` dựa trên các đặc trưng đầu vào.  \n",
    "   - Điều này thể hiện XGBoost là mô hình hiệu quả nhất trong việc dự đoán giá điện thoại, nhờ khả năng nắm bắt tốt các mối quan hệ phức tạp giữa các đặc trưng.\n",
    "\n",
    "2. **DecisionTreeRegressor (0.7741)**:  \n",
    "   - R² thấp nhất (77.41%), cho thấy mô hình chỉ giải thích được một phần phương sai của biến mục tiêu.  \n",
    "   - Điều này phản ánh hạn chế của Decision Tree khi sử dụng một cây quyết định duy nhất, dễ bị overfitting và kém chính xác trên tập kiểm tra.\n",
    "\n",
    "3. **RandomForestRegressor (0.8790)**:  \n",
    "   - R² cao thứ hai (87.90%), gần với XGBoost nhưng thấp hơn một chút.  \n",
    "   - Random Forest cải thiện đáng kể so với Decision Tree bằng cách tổng hợp nhiều cây, giúp giảm overfitting và tăng khả năng giải thích phương sai của biến mục tiêu."
   ]
  },
  {
   "cell_type": "markdown",
   "metadata": {},
   "source": [
    "### Kết luận:"
   ]
  },
  {
   "cell_type": "markdown",
   "metadata": {},
   "source": [
    "1. **XGBoost**:  \n",
    "   - **Hiệu suất vượt trội** trên tất cả các chỉ số: MAE thấp nhất, MSE thấp nhất, và R² cao nhất (90.23%).  \n",
    "   - **Ưu điểm**: Thời gian huấn luyện nhanh (0.10 giây), khả năng dự đoán chính xác và phù hợp cho bài toán có nhiều đặc trưng và mối quan hệ phi tuyến phức tạp như dự đoán giá điện thoại.  \n",
    "   - **Nhược điểm**: Cần một chút tinh chỉnh để đạt hiệu suất tối ưu.  \n",
    "   - **Kết luận**: Là lựa chọn tốt nhất cho bài toán này, khi cân nhắc cả thời gian huấn luyện và độ chính xác.\n",
    "\n",
    "2. **Random Forest**:  \n",
    "   - **Hiệu suất trung bình**: MAE và MSE thấp hơn Decision Tree nhưng kém XGBoost, R² đạt 87.90% (gần với XGBoost).  \n",
    "   - **Ưu điểm**: Dự đoán ổn định nhờ tổng hợp nhiều cây quyết định, giảm thiểu overfitting so với Decision Tree.  \n",
    "   - **Nhược điểm**: Thời gian huấn luyện cao nhất (0.48 giây), dễ bị chậm nếu dữ liệu lớn hoặc số cây quá nhiều.  \n",
    "   - **Kết luận**: Là lựa chọn tốt nếu cần mô hình dễ triển khai và ổn định, dù độ chính xác kém hơn XGBoost.\n",
    "\n",
    "3. **Decision Tree**:  \n",
    "   - **Hiệu suất thấp nhất**: MAE và MSE cao nhất, R² thấp nhất (77.41%), cho thấy dự đoán kém chính xác và ít giải thích được phương sai của biến mục tiêu.  \n",
    "   - **Ưu điểm**: Thời gian huấn luyện cực nhanh (0.01 giây), mô hình đơn giản và dễ hiểu, phù hợp với bài toán cần giải pháp nhanh chóng và dễ diễn giải.  \n",
    "   - **Nhược điểm**: Dễ bị overfitting, kém chính xác trên tập kiểm tra, đặc biệt với dữ liệu phức tạp.  \n",
    "   - **Kết luận**: Phù hợp nếu ưu tiên tốc độ huấn luyện hoặc cần mô hình đơn giản để giải thích, nhưng không phù hợp cho bài toán đòi hỏi độ chính xác cao.\n",
    "\n",
    "### Tổng kết:\n",
    "- **Ưu tiên chính xác và hiệu quả**: Chọn **XGBoost**.  \n",
    "- **Ưu tiên ổn định và dễ triển khai**: Chọn **Random Forest**.  \n",
    "- **Ưu tiên tốc độ và sự đơn giản**: Chọn **Decision Tree**.  \n",
    "\n",
    "Dựa trên yêu cầu của bài toán dự đoán giá điện thoại, **XGBoost** là lựa chọn tối ưu nhất."
   ]
  }
 ],
 "metadata": {
  "kernelspec": {
   "display_name": "min_ds-env2",
   "language": "python",
   "name": "python3"
  },
  "language_info": {
   "codemirror_mode": {
    "name": "ipython",
    "version": 3
   },
   "file_extension": ".py",
   "mimetype": "text/x-python",
   "name": "python",
   "nbconvert_exporter": "python",
   "pygments_lexer": "ipython3",
   "version": "3.10.15"
  }
 },
 "nbformat": 4,
 "nbformat_minor": 2
}
