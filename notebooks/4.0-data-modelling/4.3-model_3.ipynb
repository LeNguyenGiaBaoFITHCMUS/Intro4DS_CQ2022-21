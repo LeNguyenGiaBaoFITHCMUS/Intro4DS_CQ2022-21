{
 "cells": [
  {
   "cell_type": "markdown",
   "metadata": {},
   "source": [
    "<div style=\"text-align: center; background-color: skyblue; font-family: 'Times New Roman', serif; color: white; padding: 20px; font-size: 36px; font-weight: bold; border-radius: 15px; box-shadow: 0px 6px 15px rgba(0, 0, 0, 0.2); transition: all 0.3s ease;\">\n",
    "    INTRODUCTION TO DATA SCIENCE<br>\n",
    "    @ FIT-HCMUS, VNU-HCM<br>\n",
    "    FINAL PROJECT 🏫\n",
    "</div>\n",
    "<style>\n",
    "    div:hover {\n",
    "        transform: scale(1.05);\n",
    "        box-shadow: 0px 10px 20px rgba(0, 0, 0, 0.3);\n",
    "    }\n",
    "</style>"
   ]
  },
  {
   "cell_type": "markdown",
   "metadata": {},
   "source": [
    "<div style=\"text-align: center; background-color: #ADD8E6; font-family: 'Times New Roman', serif; color: white; padding: 20px; font-size: 30px; font-weight: bold; border-radius: 10px; box-shadow: 0px 6px 15px rgba(0, 0, 0, 0.2); transition: all 0.3s ease;\">\n",
    "    THE ANALYSIS OF THE MOBILE PHONE MARKET AT MOBILE CITY STORE\n",
    "</div>\n",
    "<style>\n",
    "    div:hover {\n",
    "        transform: scale(1.05);\n",
    "        box-shadow: 0px 10px 20px rgba(0, 0, 0, 0.3);\n",
    "    }\n",
    "</style>\n"
   ]
  },
  {
   "cell_type": "markdown",
   "metadata": {},
   "source": [
    "---"
   ]
  },
  {
   "cell_type": "markdown",
   "metadata": {},
   "source": [
    "<div style=\"text-align: center; background-color: #ADD8E6; font-family: 'Times New Roman', serif; color: white; padding: 25px; font-size: 20px; font-weight: bold; border-radius: 10px; box-shadow: 0px 6px 15px rgba(0, 0, 0, 0.2); transition: all 0.3s ease;\">\n",
    "    DATA MODELING\n",
    "</div>\n",
    "<style>\n",
    "    div:hover {\n",
    "        opacity: 0.8;\n",
    "    }\n",
    "</style>"
   ]
  },
  {
   "cell_type": "markdown",
   "metadata": {},
   "source": [
    "**Người thực hiện**: Trương Tiến Anh\n",
    "\n",
    "**MSSV**: 22120017\n"
   ]
  },
  {
   "cell_type": "markdown",
   "metadata": {},
   "source": [
    "---"
   ]
  },
  {
   "cell_type": "markdown",
   "metadata": {},
   "source": [
    "## Model: Random Forest Regressor"
   ]
  },
  {
   "cell_type": "markdown",
   "metadata": {},
   "source": [
    "### Reason for Selection:\n",
    "Do mục đích bài toán về việc dữ đoán giá điện thoại nên việc chọn model `Random Forest Regressor` là hợp lý. Bởi vì đầu ra của bài toán là giá trị số thực liên tục và model này được thiết kế để dự đoán các giá trị liên tục như vậy"
   ]
  },
  {
   "cell_type": "markdown",
   "metadata": {},
   "source": [
    "### Import:"
   ]
  },
  {
   "cell_type": "code",
   "execution_count": 137,
   "metadata": {},
   "outputs": [],
   "source": [
    "import numpy as np\n",
    "import pandas as pd\n",
    "import time\n",
    "from sklearn.preprocessing import LabelEncoder\n",
    "from sklearn.ensemble import RandomForestRegressor\n",
    "from sklearn.model_selection import train_test_split\n",
    "from sklearn.metrics import mean_absolute_error, mean_squared_error, r2_score"
   ]
  },
  {
   "cell_type": "markdown",
   "metadata": {},
   "source": [
    "### Read data from file CSV:"
   ]
  },
  {
   "cell_type": "code",
   "execution_count": 138,
   "metadata": {},
   "outputs": [],
   "source": [
    "data = pd.read_csv(\"../../data/processed_data.csv\")"
   ]
  },
  {
   "cell_type": "markdown",
   "metadata": {},
   "source": [
    "### Data Preprocessing:"
   ]
  },
  {
   "cell_type": "markdown",
   "metadata": {},
   "source": [
    "Loại bỏ một vài cột không cần thiết cho dự đoán"
   ]
  },
  {
   "cell_type": "code",
   "execution_count": 139,
   "metadata": {},
   "outputs": [
    {
     "name": "stdout",
     "output_type": "stream",
     "text": [
      "Index(['loai_dien_thoai', 'thoi_gian_bao_hanh', 'mau_sac', 'gia_moi', 'gia_cu',\n",
      "       'he_dieu_hanh', 'cpu', 'ram', 'bo_nho_trong', 'dung_luong_pin',\n",
      "       'hang_dien_thoai', 'la_dien_thoai_cu', 'kich_thuoc_man_hinh',\n",
      "       'tan_so_quet', 'loai_man_hinh', 'so_the_sim', 'loai_pin',\n",
      "       'cong_suat_sac'],\n",
      "      dtype='object')\n"
     ]
    }
   ],
   "source": [
    "cols_drop = ['Unnamed: 0', 'ten', 'duong_dan', 'danh_gia', \n",
    "             'so_luong_binh_luan', 'thiet_ke', 'do_sang_man_hinh', \n",
    "             'do_phan_giai_cam_sau', 'do_phan_giai_cam_truoc']\n",
    "\n",
    "data.drop(columns=cols_drop, inplace=True)\n",
    "print(data.columns)"
   ]
  },
  {
   "cell_type": "markdown",
   "metadata": {},
   "source": [
    "Đối với các cột dạng Numeric ta sẽ thay các giá trị Nan bằng các giá trị phù hợp như: median, mean ...vvv"
   ]
  },
  {
   "cell_type": "code",
   "execution_count": 140,
   "metadata": {},
   "outputs": [],
   "source": [
    "numeric_col = data.select_dtypes(include=['number']).columns\n",
    "\n",
    "for column in numeric_col:\n",
    "    data[column].fillna(data[column].mean(), inplace=True)"
   ]
  },
  {
   "cell_type": "markdown",
   "metadata": {},
   "source": [
    "Đối với các cột dạng Non-numeric ta sẽ thay các giá trị Nan bằng giá trị xuất hiện nhiều nhất trong cột đó"
   ]
  },
  {
   "cell_type": "code",
   "execution_count": 141,
   "metadata": {},
   "outputs": [],
   "source": [
    "object_col = data.select_dtypes(exclude=['number']).columns\n",
    "\n",
    "for col in object_col:\n",
    "    data[col].fillna(data[col].mode()[0], inplace=True)"
   ]
  },
  {
   "cell_type": "code",
   "execution_count": null,
   "metadata": {},
   "outputs": [],
   "source": [
    "print(data.isnull().sum())"
   ]
  },
  {
   "cell_type": "code",
   "execution_count": 142,
   "metadata": {},
   "outputs": [
    {
     "data": {
      "text/plain": [
       "loai_dien_thoai         object\n",
       "thoi_gian_bao_hanh     float64\n",
       "mau_sac                 object\n",
       "gia_moi                float64\n",
       "gia_cu                 float64\n",
       "he_dieu_hanh            object\n",
       "cpu                     object\n",
       "ram                    float64\n",
       "bo_nho_trong           float64\n",
       "dung_luong_pin         float64\n",
       "hang_dien_thoai         object\n",
       "la_dien_thoai_cu          bool\n",
       "kich_thuoc_man_hinh    float64\n",
       "tan_so_quet            float64\n",
       "loai_man_hinh           object\n",
       "so_the_sim               int64\n",
       "loai_pin                object\n",
       "cong_suat_sac          float64\n",
       "dtype: object"
      ]
     },
     "execution_count": 142,
     "metadata": {},
     "output_type": "execute_result"
    }
   ],
   "source": [
    "print(data.dtypes)"
   ]
  },
  {
   "cell_type": "markdown",
   "metadata": {},
   "source": [
    "Chuyển các cột object thành số bằng One-Hot Encoding"
   ]
  },
  {
   "cell_type": "code",
   "execution_count": 143,
   "metadata": {},
   "outputs": [],
   "source": [
    "for col in object_col:\n",
    "    # Tạo DataFrame mới với các cột dummy\n",
    "    dummies = pd.get_dummies(data[col], prefix=col, drop_first=True)\n",
    "    \n",
    "    # Xóa cột ban đầu và thêm các cột dummy vào DataFrame\n",
    "    data = pd.concat([data, dummies], axis=1)\n",
    "    data.drop(col, axis=1, inplace=True)"
   ]
  },
  {
   "cell_type": "markdown",
   "metadata": {},
   "source": [
    "Chuẩn bị dữ liệu và chia dữ liệu train và test\n",
    "- features: các biến đầu vào để tiến hành phân tính và học \n",
    "- target: các biến đầu ra của kết quả dự đoán"
   ]
  },
  {
   "cell_type": "code",
   "execution_count": 144,
   "metadata": {},
   "outputs": [],
   "source": [
    "features = [col for col in data.columns if col != 'gia_moi'] #Lấy ra các cột trong data ngoại trừa 'gia_moi'\n",
    "\n",
    "target = 'gia_moi'\n",
    "\n",
    "X = data[features] \n",
    "y = data[target]\n",
    "\n",
    "# Chia dữ liệu train và test\n",
    "X_train, X_test, y_train, y_test = train_test_split(X, y, test_size=0.33, random_state=42)"
   ]
  },
  {
   "cell_type": "markdown",
   "metadata": {},
   "source": [
    "### Model Training:"
   ]
  },
  {
   "cell_type": "markdown",
   "metadata": {},
   "source": [
    "Ta sẽ huấn luyện mô hình Random Forest"
   ]
  },
  {
   "cell_type": "code",
   "execution_count": 145,
   "metadata": {},
   "outputs": [],
   "source": [
    "model = RandomForestRegressor()\n",
    "\n",
    "start_time = time.time()\n",
    "model.fit(X_train, y_train)\n",
    "end_time = time.time()"
   ]
  },
  {
   "cell_type": "markdown",
   "metadata": {
    "vscode": {
     "languageId": "plaintext"
    }
   },
   "source": [
    "### Model Evaluation:"
   ]
  },
  {
   "cell_type": "markdown",
   "metadata": {},
   "source": [
    "Random Forest Regressor là một mô hình hồi quy để dự đoán các giá trị liên tục. Các chỉ số đánh giá quan trọng gồm:"
   ]
  },
  {
   "cell_type": "markdown",
   "metadata": {},
   "source": [
    "**Mean Absolute Error (MAE):** dùng để đo lường độ sai lệch trung bình tuyệt đối giữa giá trị dự đoán và giá trị thực tế.\n",
    "$$\n",
    "\\text{MAE} = \\frac{1}{n} \\sum_{i=1}^{n} \\left| y_i - \\hat{y}_i \\right|\n",
    "$$"
   ]
  },
  {
   "cell_type": "markdown",
   "metadata": {},
   "source": [
    "**Mean Squared Error (MSE)**: dùng để đo lường độ sai lệch bình phương trung bình giữa giá trị dự đoán và giá trị thực tế\n",
    "$$\n",
    "\\text{MSE} = \\frac{1}{n} \\sum_{i=1}^{n} \\left( y_i - \\hat{y}_i \\right)^2\n",
    "$$\n"
   ]
  },
  {
   "cell_type": "markdown",
   "metadata": {},
   "source": [
    "**R² Score (Coefficient of Determination)**: dùng để đo lường mức độ mà mô hình giải thích được sự biến đổi của dữ liệu. R² có giá trị từ 0 đến 1 (càng gần 1, mô hình càng tốt).\n",
    "$$\n",
    "R^2 = 1 - \\frac{\\sum_{i=1}^{n} \\left( y_i - \\hat{y}_i \\right)^2}{\\sum_{i=1}^{n} \\left( y_i - \\bar{y} \\right)^2}\n",
    "$$"
   ]
  },
  {
   "cell_type": "code",
   "execution_count": 146,
   "metadata": {},
   "outputs": [
    {
     "name": "stdout",
     "output_type": "stream",
     "text": [
      "\n",
      "Đánh giá mô hình Random Forest Regressor:\n",
      "MAE: 369468.8880201681\n",
      "MSE: 828514768106.9989\n",
      "R2 Score: 0.9825796325064384\n",
      "Thời gian huấn luyện mô hình: 41.29 giây\n"
     ]
    }
   ],
   "source": [
    "y_predict = model.predict(X_test)\n",
    "\n",
    "mae = mean_absolute_error(y_test, y_predict)\n",
    "mse = mean_squared_error(y_test, y_predict)\n",
    "r2 = r2_score(y_test, y_predict)\n",
    "\n",
    "print(\"\\nĐánh giá mô hình Random Forest Regressor:\")\n",
    "print(f\"MAE: {mae}\")\n",
    "print(f\"MSE: {mse}\")\n",
    "print(f\"R2 Score: {r2}\")\n",
    "\n",
    "training_time = end_time - start_time\n",
    "print(f\"Thời gian huấn luyện mô hình: {training_time:.2f} giây\")"
   ]
  },
  {
   "cell_type": "markdown",
   "metadata": {},
   "source": [
    "Nhận xét kết quả trên:\n",
    "- R2 Score là khoảng 0.98 được coi là 1 mô hình tốt, cho thấy mô hình có khả năng dự đoán chính xác với phần lớn dữ liệu.\n",
    "- MSE vẫn còn lớn khoảng > 800 tỷ, cho thấy sai số của mô hình không đồng đều và có thể có một số dự đoán lệch xa thực tế.\n"
   ]
  }
 ],
 "metadata": {
  "kernelspec": {
   "display_name": "min_ds-env2",
   "language": "python",
   "name": "python3"
  },
  "language_info": {
   "codemirror_mode": {
    "name": "ipython",
    "version": 3
   },
   "file_extension": ".py",
   "mimetype": "text/x-python",
   "name": "python",
   "nbconvert_exporter": "python",
   "pygments_lexer": "ipython3",
   "version": "3.10.15"
  }
 },
 "nbformat": 4,
 "nbformat_minor": 2
}
