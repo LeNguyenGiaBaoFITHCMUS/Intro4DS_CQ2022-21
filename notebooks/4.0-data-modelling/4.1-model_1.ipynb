{
 "cells": [
  {
   "cell_type": "markdown",
   "metadata": {},
   "source": [
    "<div style=\"text-align: center; background-color: skyblue; font-family: 'Times New Roman', serif; color: white; padding: 20px; font-size: 36px; font-weight: bold; border-radius: 15px; box-shadow: 0px 6px 15px rgba(0, 0, 0, 0.2); transition: all 0.3s ease;\">\n",
    "    INTRODUCTION TO DATA SCIENCE<br>\n",
    "    @ FIT-HCMUS, VNU-HCM<br>\n",
    "    FINAL PROJECT 🏫\n",
    "</div>\n",
    "<style>\n",
    "    div:hover {\n",
    "        transform: scale(1.05);\n",
    "        box-shadow: 0px 10px 20px rgba(0, 0, 0, 0.3);\n",
    "    }\n",
    "</style>"
   ]
  },
  {
   "cell_type": "markdown",
   "metadata": {},
   "source": [
    "<div style=\"text-align: center; background-color: #ADD8E6; font-family: 'Times New Roman', serif; color: white; padding: 20px; font-size: 30px; font-weight: bold; border-radius: 10px; box-shadow: 0px 6px 15px rgba(0, 0, 0, 0.2); transition: all 0.3s ease;\">\n",
    "    THE ANALYSIS OF THE MOBILE PHONE MARKET AT MOBILE CITY STORE\n",
    "</div>\n",
    "<style>\n",
    "    div:hover {\n",
    "        transform: scale(1.05);\n",
    "        box-shadow: 0px 10px 20px rgba(0, 0, 0, 0.3);\n",
    "    }\n",
    "</style>\n"
   ]
  },
  {
   "cell_type": "markdown",
   "metadata": {},
   "source": [
    "---"
   ]
  },
  {
   "cell_type": "markdown",
   "metadata": {},
   "source": [
    "<div style=\"text-align: center; background-color: #ADD8E6; font-family: 'Times New Roman', serif; color: white; padding: 25px; font-size: 20px; font-weight: bold; border-radius: 10px; box-shadow: 0px 6px 15px rgba(0, 0, 0, 0.2); transition: all 0.3s ease;\">\n",
    "    DATA MODELING\n",
    "</div>\n",
    "<style>\n",
    "    div:hover {\n",
    "        opacity: 0.8;\n",
    "    }\n",
    "</style>"
   ]
  },
  {
   "cell_type": "markdown",
   "metadata": {},
   "source": [
    "**Người thực hiện**: Lê Nguyễn Gia Bảo\n",
    "\n",
    "**MSSV**: 22120023\n"
   ]
  },
  {
   "cell_type": "markdown",
   "metadata": {},
   "source": [
    "---"
   ]
  },
  {
   "cell_type": "markdown",
   "metadata": {},
   "source": [
    "## Problem:\n",
    "Dự đoán"
   ]
  },
  {
   "cell_type": "markdown",
   "metadata": {},
   "source": [
    "## Model: `Stochastic Gradient Descent (SGD)` - Linear Regression"
   ]
  },
  {
   "cell_type": "markdown",
   "metadata": {},
   "source": [
    "### Reason for Selection:"
   ]
  },
  {
   "cell_type": "markdown",
   "metadata": {},
   "source": [
    "- `Linear Regression` được lựa chọn vì tính đơn giản, hiệu quả và phù hợp với các tập dữ liệu cỡ trung bình như bộ dữ liệu của đồ án này (gần 8700 mẫu).\n",
    "\n",
    "- `Stochastic Gradient Descent`:\n",
    "    - Là một phương pháp tối ưu hóa trong Machine Learning. \n",
    "    - Nó là một biến thể của **Gradient Descent**, **SGD** thực hiện cập nhật trọng số trên từng mẫu dữ liệu một cách ngẫu nhiên, giúp tăng tốc độ hội tụ và tránh bẫy cục bộ."
   ]
  },
  {
   "cell_type": "markdown",
   "metadata": {},
   "source": [
    "### Import:"
   ]
  },
  {
   "cell_type": "code",
   "execution_count": 1,
   "metadata": {},
   "outputs": [],
   "source": [
    "import numpy as np\n",
    "import pandas as pd\n",
    "import matplotlib.pyplot as plt\n",
    "\n",
    "from sklearn.preprocessing import LabelEncoder, OneHotEncoder, StandardScaler\n",
    "from sklearn.model_selection import GridSearchCV\n",
    "from sklearn.compose import ColumnTransformer\n",
    "from sklearn.linear_model import SGDRegressor\n",
    "from sklearn.pipeline import Pipeline\n",
    "from sklearn.model_selection import train_test_split\n",
    "from sklearn.metrics import mean_absolute_error, mean_squared_error, r2_score\n",
    "\n",
    "import time\n",
    "import csv"
   ]
  },
  {
   "cell_type": "markdown",
   "metadata": {},
   "source": [
    "### Read data from file CSV:"
   ]
  },
  {
   "cell_type": "code",
   "execution_count": 2,
   "metadata": {},
   "outputs": [],
   "source": [
    "df = pd.read_csv(\"../../data/processed_data.csv\")"
   ]
  },
  {
   "cell_type": "code",
   "execution_count": 3,
   "metadata": {},
   "outputs": [
    {
     "data": {
      "text/html": [
       "<div>\n",
       "<style scoped>\n",
       "    .dataframe tbody tr th:only-of-type {\n",
       "        vertical-align: middle;\n",
       "    }\n",
       "\n",
       "    .dataframe tbody tr th {\n",
       "        vertical-align: top;\n",
       "    }\n",
       "\n",
       "    .dataframe thead th {\n",
       "        text-align: right;\n",
       "    }\n",
       "</style>\n",
       "<table border=\"1\" class=\"dataframe\">\n",
       "  <thead>\n",
       "    <tr style=\"text-align: right;\">\n",
       "      <th></th>\n",
       "      <th>Unnamed: 0</th>\n",
       "      <th>ten</th>\n",
       "      <th>loai_dien_thoai</th>\n",
       "      <th>thoi_gian_bao_hanh</th>\n",
       "      <th>danh_gia</th>\n",
       "      <th>so_luong_binh_luan</th>\n",
       "      <th>duong_dan</th>\n",
       "      <th>mau_sac</th>\n",
       "      <th>gia_moi</th>\n",
       "      <th>gia_cu</th>\n",
       "      <th>...</th>\n",
       "      <th>la_dien_thoai_cu</th>\n",
       "      <th>kich_thuoc_man_hinh</th>\n",
       "      <th>tan_so_quet</th>\n",
       "      <th>do_sang_man_hinh</th>\n",
       "      <th>loai_man_hinh</th>\n",
       "      <th>so_the_sim</th>\n",
       "      <th>loai_pin</th>\n",
       "      <th>cong_suat_sac</th>\n",
       "      <th>do_phan_giai_cam_sau</th>\n",
       "      <th>do_phan_giai_cam_truoc</th>\n",
       "    </tr>\n",
       "  </thead>\n",
       "  <tbody>\n",
       "    <tr>\n",
       "      <th>5503</th>\n",
       "      <td>5503</td>\n",
       "      <td>Điện thoại Samsung Galaxy A03 (Chính hãng)</td>\n",
       "      <td>Samsung Chính hãng</td>\n",
       "      <td>12.0</td>\n",
       "      <td>5.0</td>\n",
       "      <td>0</td>\n",
       "      <td>https://mobilecity.vn/dien-thoai/samsung-galax...</td>\n",
       "      <td>Xanh</td>\n",
       "      <td>NaN</td>\n",
       "      <td>NaN</td>\n",
       "      <td>...</td>\n",
       "      <td>False</td>\n",
       "      <td>6.5</td>\n",
       "      <td>NaN</td>\n",
       "      <td>NaN</td>\n",
       "      <td>NaN</td>\n",
       "      <td>2</td>\n",
       "      <td>Li-Po</td>\n",
       "      <td>NaN</td>\n",
       "      <td>[48.0, 2.0]</td>\n",
       "      <td>[5.0]</td>\n",
       "    </tr>\n",
       "    <tr>\n",
       "      <th>5572</th>\n",
       "      <td>5572</td>\n",
       "      <td>Điện thoại Samsung Galaxy M53 5G</td>\n",
       "      <td>Samsung Chính hãng</td>\n",
       "      <td>12.0</td>\n",
       "      <td>5.0</td>\n",
       "      <td>0</td>\n",
       "      <td>https://mobilecity.vn/dien-thoai/samsung-galax...</td>\n",
       "      <td>Nâu</td>\n",
       "      <td>NaN</td>\n",
       "      <td>NaN</td>\n",
       "      <td>...</td>\n",
       "      <td>False</td>\n",
       "      <td>6.7</td>\n",
       "      <td>120.0</td>\n",
       "      <td>NaN</td>\n",
       "      <td>AMOLED</td>\n",
       "      <td>2</td>\n",
       "      <td>Li-Ion</td>\n",
       "      <td>25.0</td>\n",
       "      <td>[108.0, 8.0, 2.0, 2.0]</td>\n",
       "      <td>[32.0]</td>\n",
       "    </tr>\n",
       "    <tr>\n",
       "      <th>2128</th>\n",
       "      <td>2128</td>\n",
       "      <td>Điện thoại Samsung Galaxy C55 5G (Camera selfi...</td>\n",
       "      <td>Samsung Chính hãng</td>\n",
       "      <td>12.0</td>\n",
       "      <td>5.0</td>\n",
       "      <td>1</td>\n",
       "      <td>https://mobilecity.vn/dien-thoai/samsung-galax...</td>\n",
       "      <td>Đen</td>\n",
       "      <td>8100000.0</td>\n",
       "      <td>NaN</td>\n",
       "      <td>...</td>\n",
       "      <td>False</td>\n",
       "      <td>6.7</td>\n",
       "      <td>120.0</td>\n",
       "      <td>1000.0</td>\n",
       "      <td>AMOLED</td>\n",
       "      <td>2</td>\n",
       "      <td>NaN</td>\n",
       "      <td>45.0</td>\n",
       "      <td>[50.0, 8.0, 2.0]</td>\n",
       "      <td>[50.0]</td>\n",
       "    </tr>\n",
       "  </tbody>\n",
       "</table>\n",
       "<p>3 rows × 27 columns</p>\n",
       "</div>"
      ],
      "text/plain": [
       "      Unnamed: 0                                                ten  \\\n",
       "5503        5503         Điện thoại Samsung Galaxy A03 (Chính hãng)   \n",
       "5572        5572                   Điện thoại Samsung Galaxy M53 5G   \n",
       "2128        2128  Điện thoại Samsung Galaxy C55 5G (Camera selfi...   \n",
       "\n",
       "         loai_dien_thoai  thoi_gian_bao_hanh  danh_gia  so_luong_binh_luan  \\\n",
       "5503  Samsung Chính hãng                12.0       5.0                   0   \n",
       "5572  Samsung Chính hãng                12.0       5.0                   0   \n",
       "2128  Samsung Chính hãng                12.0       5.0                   1   \n",
       "\n",
       "                                              duong_dan mau_sac    gia_moi  \\\n",
       "5503  https://mobilecity.vn/dien-thoai/samsung-galax...    Xanh        NaN   \n",
       "5572  https://mobilecity.vn/dien-thoai/samsung-galax...     Nâu        NaN   \n",
       "2128  https://mobilecity.vn/dien-thoai/samsung-galax...     Đen  8100000.0   \n",
       "\n",
       "      gia_cu  ... la_dien_thoai_cu kich_thuoc_man_hinh  tan_so_quet  \\\n",
       "5503     NaN  ...            False                 6.5          NaN   \n",
       "5572     NaN  ...            False                 6.7        120.0   \n",
       "2128     NaN  ...            False                 6.7        120.0   \n",
       "\n",
       "      do_sang_man_hinh  loai_man_hinh so_the_sim loai_pin  cong_suat_sac  \\\n",
       "5503               NaN            NaN          2    Li-Po            NaN   \n",
       "5572               NaN         AMOLED          2   Li-Ion           25.0   \n",
       "2128            1000.0         AMOLED          2      NaN           45.0   \n",
       "\n",
       "        do_phan_giai_cam_sau  do_phan_giai_cam_truoc  \n",
       "5503             [48.0, 2.0]                   [5.0]  \n",
       "5572  [108.0, 8.0, 2.0, 2.0]                  [32.0]  \n",
       "2128        [50.0, 8.0, 2.0]                  [50.0]  \n",
       "\n",
       "[3 rows x 27 columns]"
      ]
     },
     "execution_count": 3,
     "metadata": {},
     "output_type": "execute_result"
    }
   ],
   "source": [
    "df.sample(3)"
   ]
  },
  {
   "cell_type": "markdown",
   "metadata": {},
   "source": [
    "### Prepare for model creation (Data Preprocessing):"
   ]
  },
  {
   "cell_type": "markdown",
   "metadata": {},
   "source": [
    "- Xoá đi cột `Unnamed: 0`:"
   ]
  },
  {
   "cell_type": "code",
   "execution_count": 4,
   "metadata": {},
   "outputs": [],
   "source": [
    "df = df.drop(columns=[\"Unnamed: 0\"])"
   ]
  },
  {
   "cell_type": "markdown",
   "metadata": {},
   "source": [
    "- Các thuộc tính của bộ dữ liệu:"
   ]
  },
  {
   "cell_type": "code",
   "execution_count": 5,
   "metadata": {},
   "outputs": [
    {
     "data": {
      "text/plain": [
       "['ten',\n",
       " 'loai_dien_thoai',\n",
       " 'thoi_gian_bao_hanh',\n",
       " 'danh_gia',\n",
       " 'so_luong_binh_luan',\n",
       " 'duong_dan',\n",
       " 'mau_sac',\n",
       " 'gia_moi',\n",
       " 'gia_cu',\n",
       " 'he_dieu_hanh',\n",
       " 'cpu',\n",
       " 'ram',\n",
       " 'bo_nho_trong',\n",
       " 'dung_luong_pin',\n",
       " 'thiet_ke',\n",
       " 'hang_dien_thoai',\n",
       " 'la_dien_thoai_cu',\n",
       " 'kich_thuoc_man_hinh',\n",
       " 'tan_so_quet',\n",
       " 'do_sang_man_hinh',\n",
       " 'loai_man_hinh',\n",
       " 'so_the_sim',\n",
       " 'loai_pin',\n",
       " 'cong_suat_sac',\n",
       " 'do_phan_giai_cam_sau',\n",
       " 'do_phan_giai_cam_truoc']"
      ]
     },
     "execution_count": 5,
     "metadata": {},
     "output_type": "execute_result"
    }
   ],
   "source": [
    "df.columns.to_list()"
   ]
  },
  {
   "cell_type": "markdown",
   "metadata": {},
   "source": [
    "- Thuộc tính mục tiêu của vấn đề đã đặt ra là `gia_moi`."
   ]
  },
  {
   "cell_type": "markdown",
   "metadata": {},
   "source": [
    "- Kiểm tra dữ liệu thiếu ở mỗi cột:"
   ]
  },
  {
   "cell_type": "code",
   "execution_count": 6,
   "metadata": {},
   "outputs": [],
   "source": [
    "def missing_ratio(col):\n",
    "    return (col.isna().mean() * 100).round(1)"
   ]
  },
  {
   "cell_type": "code",
   "execution_count": 7,
   "metadata": {},
   "outputs": [
    {
     "data": {
      "text/html": [
       "<div>\n",
       "<style scoped>\n",
       "    .dataframe tbody tr th:only-of-type {\n",
       "        vertical-align: middle;\n",
       "    }\n",
       "\n",
       "    .dataframe tbody tr th {\n",
       "        vertical-align: top;\n",
       "    }\n",
       "\n",
       "    .dataframe thead th {\n",
       "        text-align: right;\n",
       "    }\n",
       "</style>\n",
       "<table border=\"1\" class=\"dataframe\">\n",
       "  <thead>\n",
       "    <tr style=\"text-align: right;\">\n",
       "      <th></th>\n",
       "      <th>Features</th>\n",
       "      <th>Missing ratio</th>\n",
       "    </tr>\n",
       "  </thead>\n",
       "  <tbody>\n",
       "    <tr>\n",
       "      <th>0</th>\n",
       "      <td>gia_cu</td>\n",
       "      <td>41.3</td>\n",
       "    </tr>\n",
       "    <tr>\n",
       "      <th>1</th>\n",
       "      <td>do_sang_man_hinh</td>\n",
       "      <td>40.2</td>\n",
       "    </tr>\n",
       "    <tr>\n",
       "      <th>2</th>\n",
       "      <td>tan_so_quet</td>\n",
       "      <td>24.3</td>\n",
       "    </tr>\n",
       "    <tr>\n",
       "      <th>3</th>\n",
       "      <td>loai_pin</td>\n",
       "      <td>24.1</td>\n",
       "    </tr>\n",
       "    <tr>\n",
       "      <th>4</th>\n",
       "      <td>gia_moi</td>\n",
       "      <td>17.5</td>\n",
       "    </tr>\n",
       "    <tr>\n",
       "      <th>5</th>\n",
       "      <td>cong_suat_sac</td>\n",
       "      <td>5.6</td>\n",
       "    </tr>\n",
       "    <tr>\n",
       "      <th>6</th>\n",
       "      <td>kich_thuoc_man_hinh</td>\n",
       "      <td>3.9</td>\n",
       "    </tr>\n",
       "    <tr>\n",
       "      <th>7</th>\n",
       "      <td>loai_man_hinh</td>\n",
       "      <td>3.8</td>\n",
       "    </tr>\n",
       "    <tr>\n",
       "      <th>8</th>\n",
       "      <td>bo_nho_trong</td>\n",
       "      <td>3.5</td>\n",
       "    </tr>\n",
       "    <tr>\n",
       "      <th>9</th>\n",
       "      <td>mau_sac</td>\n",
       "      <td>3.3</td>\n",
       "    </tr>\n",
       "    <tr>\n",
       "      <th>10</th>\n",
       "      <td>dung_luong_pin</td>\n",
       "      <td>2.3</td>\n",
       "    </tr>\n",
       "    <tr>\n",
       "      <th>11</th>\n",
       "      <td>thiet_ke</td>\n",
       "      <td>1.3</td>\n",
       "    </tr>\n",
       "    <tr>\n",
       "      <th>12</th>\n",
       "      <td>cpu</td>\n",
       "      <td>0.2</td>\n",
       "    </tr>\n",
       "    <tr>\n",
       "      <th>13</th>\n",
       "      <td>ram</td>\n",
       "      <td>0.2</td>\n",
       "    </tr>\n",
       "    <tr>\n",
       "      <th>14</th>\n",
       "      <td>do_phan_giai_cam_sau</td>\n",
       "      <td>0.0</td>\n",
       "    </tr>\n",
       "    <tr>\n",
       "      <th>15</th>\n",
       "      <td>so_the_sim</td>\n",
       "      <td>0.0</td>\n",
       "    </tr>\n",
       "    <tr>\n",
       "      <th>16</th>\n",
       "      <td>ten</td>\n",
       "      <td>0.0</td>\n",
       "    </tr>\n",
       "    <tr>\n",
       "      <th>17</th>\n",
       "      <td>la_dien_thoai_cu</td>\n",
       "      <td>0.0</td>\n",
       "    </tr>\n",
       "    <tr>\n",
       "      <th>18</th>\n",
       "      <td>hang_dien_thoai</td>\n",
       "      <td>0.0</td>\n",
       "    </tr>\n",
       "    <tr>\n",
       "      <th>19</th>\n",
       "      <td>loai_dien_thoai</td>\n",
       "      <td>0.0</td>\n",
       "    </tr>\n",
       "    <tr>\n",
       "      <th>20</th>\n",
       "      <td>he_dieu_hanh</td>\n",
       "      <td>0.0</td>\n",
       "    </tr>\n",
       "    <tr>\n",
       "      <th>21</th>\n",
       "      <td>duong_dan</td>\n",
       "      <td>0.0</td>\n",
       "    </tr>\n",
       "    <tr>\n",
       "      <th>22</th>\n",
       "      <td>so_luong_binh_luan</td>\n",
       "      <td>0.0</td>\n",
       "    </tr>\n",
       "    <tr>\n",
       "      <th>23</th>\n",
       "      <td>danh_gia</td>\n",
       "      <td>0.0</td>\n",
       "    </tr>\n",
       "    <tr>\n",
       "      <th>24</th>\n",
       "      <td>thoi_gian_bao_hanh</td>\n",
       "      <td>0.0</td>\n",
       "    </tr>\n",
       "    <tr>\n",
       "      <th>25</th>\n",
       "      <td>do_phan_giai_cam_truoc</td>\n",
       "      <td>0.0</td>\n",
       "    </tr>\n",
       "  </tbody>\n",
       "</table>\n",
       "</div>"
      ],
      "text/plain": [
       "                  Features  Missing ratio\n",
       "0                   gia_cu           41.3\n",
       "1         do_sang_man_hinh           40.2\n",
       "2              tan_so_quet           24.3\n",
       "3                 loai_pin           24.1\n",
       "4                  gia_moi           17.5\n",
       "5            cong_suat_sac            5.6\n",
       "6      kich_thuoc_man_hinh            3.9\n",
       "7            loai_man_hinh            3.8\n",
       "8             bo_nho_trong            3.5\n",
       "9                  mau_sac            3.3\n",
       "10          dung_luong_pin            2.3\n",
       "11                thiet_ke            1.3\n",
       "12                     cpu            0.2\n",
       "13                     ram            0.2\n",
       "14    do_phan_giai_cam_sau            0.0\n",
       "15              so_the_sim            0.0\n",
       "16                     ten            0.0\n",
       "17        la_dien_thoai_cu            0.0\n",
       "18         hang_dien_thoai            0.0\n",
       "19         loai_dien_thoai            0.0\n",
       "20            he_dieu_hanh            0.0\n",
       "21               duong_dan            0.0\n",
       "22      so_luong_binh_luan            0.0\n",
       "23                danh_gia            0.0\n",
       "24      thoi_gian_bao_hanh            0.0\n",
       "25  do_phan_giai_cam_truoc            0.0"
      ]
     },
     "execution_count": 7,
     "metadata": {},
     "output_type": "execute_result"
    }
   ],
   "source": [
    "missing_ratio_df = df.apply(missing_ratio).sort_values(ascending=False)\n",
    "missing_ratio_df = missing_ratio_df.reset_index()\n",
    "missing_ratio_df.columns = [\"Features\", \"Missing ratio\"]\n",
    "missing_ratio_df"
   ]
  },
  {
   "cell_type": "markdown",
   "metadata": {},
   "source": [
    "- Nhận thấy rằng cột `gia_cu` và `do_sang_man_hinh` có tỉ lệ các giá trị thiếu rất cao so với phần còn lại. Ta sẽ loại bỏ 2 cột này:"
   ]
  },
  {
   "cell_type": "code",
   "execution_count": 8,
   "metadata": {},
   "outputs": [],
   "source": [
    "df = df.drop(columns=[\"gia_cu\", \"do_sang_man_hinh\"])"
   ]
  },
  {
   "cell_type": "markdown",
   "metadata": {},
   "source": [
    "- Xử lý giá trị thiếu trong các cột thuộc tính: Để giữ nguyên tính thực tế, ta sẽ loại bỏ tất cả các dòng có ít nhất một giá trị thiếu, không thực hiện việc điền giá trị thiếu ở các cột thuộc tính."
   ]
  },
  {
   "cell_type": "code",
   "execution_count": 11,
   "metadata": {},
   "outputs": [],
   "source": [
    "df = df.dropna()"
   ]
  },
  {
   "cell_type": "code",
   "execution_count": 12,
   "metadata": {},
   "outputs": [
    {
     "name": "stdout",
     "output_type": "stream",
     "text": [
      "<class 'pandas.core.frame.DataFrame'>\n",
      "Int64Index: 4361 entries, 18 to 8355\n",
      "Data columns (total 24 columns):\n",
      " #   Column                  Non-Null Count  Dtype  \n",
      "---  ------                  --------------  -----  \n",
      " 0   ten                     4361 non-null   object \n",
      " 1   loai_dien_thoai         4361 non-null   object \n",
      " 2   thoi_gian_bao_hanh      4361 non-null   float64\n",
      " 3   danh_gia                4361 non-null   float64\n",
      " 4   so_luong_binh_luan      4361 non-null   int64  \n",
      " 5   duong_dan               4361 non-null   object \n",
      " 6   mau_sac                 4361 non-null   object \n",
      " 7   gia_moi                 4361 non-null   float64\n",
      " 8   he_dieu_hanh            4361 non-null   object \n",
      " 9   cpu                     4361 non-null   object \n",
      " 10  ram                     4361 non-null   float64\n",
      " 11  bo_nho_trong            4361 non-null   float64\n",
      " 12  dung_luong_pin          4361 non-null   float64\n",
      " 13  thiet_ke                4361 non-null   object \n",
      " 14  hang_dien_thoai         4361 non-null   object \n",
      " 15  la_dien_thoai_cu        4361 non-null   bool   \n",
      " 16  kich_thuoc_man_hinh     4361 non-null   float64\n",
      " 17  tan_so_quet             4361 non-null   float64\n",
      " 18  loai_man_hinh           4361 non-null   object \n",
      " 19  so_the_sim              4361 non-null   int64  \n",
      " 20  loai_pin                4361 non-null   object \n",
      " 21  cong_suat_sac           4361 non-null   float64\n",
      " 22  do_phan_giai_cam_sau    4361 non-null   object \n",
      " 23  do_phan_giai_cam_truoc  4361 non-null   object \n",
      "dtypes: bool(1), float64(9), int64(2), object(12)\n",
      "memory usage: 821.9+ KB\n"
     ]
    }
   ],
   "source": [
    "df.info()"
   ]
  },
  {
   "cell_type": "markdown",
   "metadata": {},
   "source": [
    "- Mối tương quan giữa `gia_moi` và các thuộc tính còn lại:\n",
    "    - Chuyển đổi các giá trị phân loại thành các số nguyên.\n",
    "    - Tính toán tương quan."
   ]
  },
  {
   "cell_type": "code",
   "execution_count": 13,
   "metadata": {},
   "outputs": [],
   "source": [
    "df1 = df.copy()"
   ]
  },
  {
   "cell_type": "code",
   "execution_count": 14,
   "metadata": {},
   "outputs": [
    {
     "data": {
      "text/html": [
       "<div>\n",
       "<style scoped>\n",
       "    .dataframe tbody tr th:only-of-type {\n",
       "        vertical-align: middle;\n",
       "    }\n",
       "\n",
       "    .dataframe tbody tr th {\n",
       "        vertical-align: top;\n",
       "    }\n",
       "\n",
       "    .dataframe thead th {\n",
       "        text-align: right;\n",
       "    }\n",
       "</style>\n",
       "<table border=\"1\" class=\"dataframe\">\n",
       "  <thead>\n",
       "    <tr style=\"text-align: right;\">\n",
       "      <th></th>\n",
       "      <th>ten</th>\n",
       "      <th>loai_dien_thoai</th>\n",
       "      <th>thoi_gian_bao_hanh</th>\n",
       "      <th>danh_gia</th>\n",
       "      <th>so_luong_binh_luan</th>\n",
       "      <th>duong_dan</th>\n",
       "      <th>mau_sac</th>\n",
       "      <th>gia_moi</th>\n",
       "      <th>he_dieu_hanh</th>\n",
       "      <th>cpu</th>\n",
       "      <th>...</th>\n",
       "      <th>hang_dien_thoai</th>\n",
       "      <th>la_dien_thoai_cu</th>\n",
       "      <th>kich_thuoc_man_hinh</th>\n",
       "      <th>tan_so_quet</th>\n",
       "      <th>loai_man_hinh</th>\n",
       "      <th>so_the_sim</th>\n",
       "      <th>loai_pin</th>\n",
       "      <th>cong_suat_sac</th>\n",
       "      <th>do_phan_giai_cam_sau</th>\n",
       "      <th>do_phan_giai_cam_truoc</th>\n",
       "    </tr>\n",
       "  </thead>\n",
       "  <tbody>\n",
       "    <tr>\n",
       "      <th>3845</th>\n",
       "      <td>258</td>\n",
       "      <td>13</td>\n",
       "      <td>15.0</td>\n",
       "      <td>5.0</td>\n",
       "      <td>1</td>\n",
       "      <td>238</td>\n",
       "      <td>226</td>\n",
       "      <td>27250000.0</td>\n",
       "      <td>3</td>\n",
       "      <td>221</td>\n",
       "      <td>...</td>\n",
       "      <td>18</td>\n",
       "      <td>0</td>\n",
       "      <td>7.60</td>\n",
       "      <td>120.0</td>\n",
       "      <td>0</td>\n",
       "      <td>2</td>\n",
       "      <td>1</td>\n",
       "      <td>25.0</td>\n",
       "      <td>47</td>\n",
       "      <td>17</td>\n",
       "    </tr>\n",
       "    <tr>\n",
       "      <th>7235</th>\n",
       "      <td>131</td>\n",
       "      <td>9</td>\n",
       "      <td>12.0</td>\n",
       "      <td>5.0</td>\n",
       "      <td>32</td>\n",
       "      <td>96</td>\n",
       "      <td>77</td>\n",
       "      <td>10150000.0</td>\n",
       "      <td>3</td>\n",
       "      <td>208</td>\n",
       "      <td>...</td>\n",
       "      <td>13</td>\n",
       "      <td>0</td>\n",
       "      <td>6.74</td>\n",
       "      <td>120.0</td>\n",
       "      <td>0</td>\n",
       "      <td>2</td>\n",
       "      <td>1</td>\n",
       "      <td>100.0</td>\n",
       "      <td>99</td>\n",
       "      <td>10</td>\n",
       "    </tr>\n",
       "    <tr>\n",
       "      <th>4873</th>\n",
       "      <td>315</td>\n",
       "      <td>17</td>\n",
       "      <td>12.0</td>\n",
       "      <td>5.0</td>\n",
       "      <td>5</td>\n",
       "      <td>314</td>\n",
       "      <td>226</td>\n",
       "      <td>19450000.0</td>\n",
       "      <td>2</td>\n",
       "      <td>71</td>\n",
       "      <td>...</td>\n",
       "      <td>23</td>\n",
       "      <td>0</td>\n",
       "      <td>6.78</td>\n",
       "      <td>120.0</td>\n",
       "      <td>0</td>\n",
       "      <td>2</td>\n",
       "      <td>1</td>\n",
       "      <td>80.0</td>\n",
       "      <td>74</td>\n",
       "      <td>16</td>\n",
       "    </tr>\n",
       "  </tbody>\n",
       "</table>\n",
       "<p>3 rows × 24 columns</p>\n",
       "</div>"
      ],
      "text/plain": [
       "      ten  loai_dien_thoai  thoi_gian_bao_hanh  danh_gia  so_luong_binh_luan  \\\n",
       "3845  258               13                15.0       5.0                   1   \n",
       "7235  131                9                12.0       5.0                  32   \n",
       "4873  315               17                12.0       5.0                   5   \n",
       "\n",
       "      duong_dan  mau_sac     gia_moi  he_dieu_hanh  cpu  ...  hang_dien_thoai  \\\n",
       "3845        238      226  27250000.0             3  221  ...               18   \n",
       "7235         96       77  10150000.0             3  208  ...               13   \n",
       "4873        314      226  19450000.0             2   71  ...               23   \n",
       "\n",
       "      la_dien_thoai_cu  kich_thuoc_man_hinh  tan_so_quet  loai_man_hinh  \\\n",
       "3845                 0                 7.60        120.0              0   \n",
       "7235                 0                 6.74        120.0              0   \n",
       "4873                 0                 6.78        120.0              0   \n",
       "\n",
       "      so_the_sim  loai_pin  cong_suat_sac  do_phan_giai_cam_sau  \\\n",
       "3845           2         1           25.0                    47   \n",
       "7235           2         1          100.0                    99   \n",
       "4873           2         1           80.0                    74   \n",
       "\n",
       "      do_phan_giai_cam_truoc  \n",
       "3845                      17  \n",
       "7235                      10  \n",
       "4873                      16  \n",
       "\n",
       "[3 rows x 24 columns]"
      ]
     },
     "execution_count": 14,
     "metadata": {},
     "output_type": "execute_result"
    }
   ],
   "source": [
    "le = LabelEncoder()\n",
    "\n",
    "cat_cols = df1.select_dtypes(exclude=np.number).columns\n",
    "for col in cat_cols:\n",
    "    df1[col] = le.fit_transform(df1[col])\n",
    "\n",
    "df1.sample(3)"
   ]
  },
  {
   "cell_type": "code",
   "execution_count": 15,
   "metadata": {},
   "outputs": [
    {
     "data": {
      "text/plain": [
       "gia_moi                   1.000000\n",
       "bo_nho_trong              0.530113\n",
       "he_dieu_hanh              0.472005\n",
       "ram                       0.459341\n",
       "kich_thuoc_man_hinh       0.280028\n",
       "tan_so_quet               0.185614\n",
       "thoi_gian_bao_hanh        0.128558\n",
       "cpu                       0.071326\n",
       "cong_suat_sac             0.070175\n",
       "danh_gia                  0.009495\n",
       "loai_man_hinh             0.005648\n",
       "dung_luong_pin           -0.042241\n",
       "mau_sac                  -0.053099\n",
       "do_phan_giai_cam_sau     -0.077064\n",
       "do_phan_giai_cam_truoc   -0.159481\n",
       "so_luong_binh_luan       -0.168423\n",
       "loai_pin                 -0.169000\n",
       "so_the_sim               -0.175485\n",
       "thiet_ke                 -0.200999\n",
       "loai_dien_thoai          -0.216619\n",
       "la_dien_thoai_cu         -0.223336\n",
       "ten                      -0.252537\n",
       "hang_dien_thoai          -0.264105\n",
       "duong_dan                -0.385251\n",
       "Name: gia_moi, dtype: float64"
      ]
     },
     "execution_count": 15,
     "metadata": {},
     "output_type": "execute_result"
    }
   ],
   "source": [
    "corr_matrix = df1.corr()\n",
    "corr_with_target = corr_matrix[\"gia_moi\"].sort_values(ascending=False)\n",
    "corr_with_target"
   ]
  },
  {
   "cell_type": "markdown",
   "metadata": {},
   "source": [
    "- Loại bỏ các thuộc tính có hệ số tương quan yếu hoặc âm mạnh đối với `gia_moi`:\n",
    "    - Loại bỏ **duong_dan**, **do_phan_giai_cam_truoc**, **loai_pin**, **so_luong_binh_luan**, **la_dien_thoai_cu**, **thiet_ke**, **so_the_sim**, **ten**, **loai_dien_thoai**, **cpu**, **mau_sac**.\n",
    "    - **hang_dien_thoai** dù là cột có độ tương quan âm tuy nhiên có vẻ có ít nhiều sự ảnh hưởng đến giá thành sản phẩm của mỗi hãng, hay còn gọi là \"tiền thương hiệu\". Vì vậy ta sẽ giữ lại thuộc tính này."
   ]
  },
  {
   "cell_type": "code",
   "execution_count": 16,
   "metadata": {},
   "outputs": [],
   "source": [
    "df = df.drop(columns=['duong_dan', 'do_phan_giai_cam_truoc', 'loai_pin', 'so_luong_binh_luan', 'la_dien_thoai_cu', 'thiet_ke', 'so_the_sim', 'ten', 'loai_dien_thoai', 'cpu', 'mau_sac'])"
   ]
  },
  {
   "cell_type": "markdown",
   "metadata": {},
   "source": [
    "- Các cột còn lại của bộ dữ liệu:"
   ]
  },
  {
   "cell_type": "code",
   "execution_count": 17,
   "metadata": {},
   "outputs": [
    {
     "data": {
      "text/plain": [
       "['thoi_gian_bao_hanh',\n",
       " 'danh_gia',\n",
       " 'gia_moi',\n",
       " 'he_dieu_hanh',\n",
       " 'ram',\n",
       " 'bo_nho_trong',\n",
       " 'dung_luong_pin',\n",
       " 'hang_dien_thoai',\n",
       " 'kich_thuoc_man_hinh',\n",
       " 'tan_so_quet',\n",
       " 'loai_man_hinh',\n",
       " 'cong_suat_sac',\n",
       " 'do_phan_giai_cam_sau']"
      ]
     },
     "execution_count": 17,
     "metadata": {},
     "output_type": "execute_result"
    }
   ],
   "source": [
    "df.columns.to_list()"
   ]
  },
  {
   "cell_type": "markdown",
   "metadata": {},
   "source": [
    "- Từ các thuộc tính đã được lọc ra, `gia_moi` là thuộc tính mục tiêu, còn lại là các đặc trưng quan trọng và cần thiết để dự đoán thuộc tính mục tiêu này."
   ]
  },
  {
   "cell_type": "code",
   "execution_count": 18,
   "metadata": {},
   "outputs": [],
   "source": [
    "selected_features = ['thoi_gian_bao_hanh', 'danh_gia', 'he_dieu_hanh', 'ram', \n",
    "                     'bo_nho_trong', 'dung_luong_pin', 'hang_dien_thoai', 'kich_thuoc_man_hinh', \n",
    "                     'tan_so_quet', 'loai_man_hinh', 'cong_suat_sac', 'do_phan_giai_cam_sau']"
   ]
  },
  {
   "cell_type": "markdown",
   "metadata": {},
   "source": [
    "### Create model:"
   ]
  },
  {
   "cell_type": "code",
   "execution_count": 19,
   "metadata": {},
   "outputs": [],
   "source": [
    "num_features = ['thoi_gian_bao_hanh', 'danh_gia', 'ram', 'bo_nho_trong', 'dung_luong_pin', 'kich_thuoc_man_hinh', 'tan_so_quet', 'cong_suat_sac']\n",
    "cat_features = ['he_dieu_hanh', 'hang_dien_thoai', 'loai_man_hinh', 'do_phan_giai_cam_sau']"
   ]
  },
  {
   "cell_type": "markdown",
   "metadata": {},
   "source": [
    "#### Tạo DataFrame X và y:"
   ]
  },
  {
   "cell_type": "code",
   "execution_count": 20,
   "metadata": {},
   "outputs": [],
   "source": [
    "X = df.drop(columns=[\"gia_moi\"])\n",
    "y = df[\"gia_moi\"]"
   ]
  },
  {
   "cell_type": "markdown",
   "metadata": {},
   "source": [
    "#### Chia dữ liệu thành tập huấn luyện và tập kiểm tra:"
   ]
  },
  {
   "cell_type": "code",
   "execution_count": 21,
   "metadata": {},
   "outputs": [],
   "source": [
    "X_train, X_test, y_train, y_test = train_test_split(X, y, test_size=1/3, random_state=42)"
   ]
  },
  {
   "cell_type": "markdown",
   "metadata": {},
   "source": [
    "#### Tạo các bộ biến đổi cho dữ liệu số và dữ liệu phân loại:"
   ]
  },
  {
   "cell_type": "code",
   "execution_count": 22,
   "metadata": {},
   "outputs": [],
   "source": [
    "num_transformer = StandardScaler()\n",
    "\n",
    "cat_transformer = OneHotEncoder(handle_unknown=\"ignore\", sparse=False, drop=\"first\")"
   ]
  },
  {
   "cell_type": "markdown",
   "metadata": {},
   "source": [
    "#### Tạo bộ tiền xử lý kết hợp các bộ biến đổi:"
   ]
  },
  {
   "cell_type": "code",
   "execution_count": null,
   "metadata": {},
   "outputs": [],
   "source": [
    "preprocessor = ColumnTransformer(\n",
    "    transformers=[\n",
    "        (\"num\", num_transformer, num_features),\n",
    "        (\"cat\", cat_transformer, cat_features)\n",
    "    ]\n",
    ")"
   ]
  },
  {
   "cell_type": "markdown",
   "metadata": {},
   "source": [
    "#### Tạo pipeline kết hợp bộ tiền xử lý và mô hình hồi quy:"
   ]
  },
  {
   "cell_type": "code",
   "execution_count": 23,
   "metadata": {},
   "outputs": [],
   "source": [
    "model = Pipeline(steps=[('preprocessor', preprocessor),\n",
    "                        ('regressor', SGDRegressor())])"
   ]
  },
  {
   "cell_type": "markdown",
   "metadata": {},
   "source": [
    "#### Tạo grid các tham số để tìm kiếm tối ưu cho mô hình hồi quy:"
   ]
  },
  {
   "cell_type": "code",
   "execution_count": 24,
   "metadata": {},
   "outputs": [],
   "source": [
    "parameters_grid = {\n",
    "    'regressor__alpha': [0.001, 0.01, 0.1, 1],\n",
    "    'regressor__learning_rate': ['constant', 'optimal', 'adaptive'],\n",
    "    'regressor__max_iter': [500, 1000, 1500]\n",
    "}"
   ]
  },
  {
   "cell_type": "markdown",
   "metadata": {},
   "source": [
    "#### Tìm kiếm tham số tối ưu cho mô hình:"
   ]
  },
  {
   "cell_type": "code",
   "execution_count": 25,
   "metadata": {},
   "outputs": [],
   "source": [
    "grid_search = GridSearchCV(model, parameters_grid, cv=5, scoring='neg_mean_squared_error')"
   ]
  },
  {
   "cell_type": "markdown",
   "metadata": {},
   "source": [
    "#### Huấn luyện mô hình với GridSearchCV trên tập dữ liệu huấn luyện:"
   ]
  },
  {
   "cell_type": "code",
   "execution_count": null,
   "metadata": {},
   "outputs": [
    {
     "data": {
      "text/plain": [
       "GridSearchCV(cv=5,\n",
       "             estimator=Pipeline(steps=[('preprocessor',\n",
       "                                        ColumnTransformer(transformers=[('num',\n",
       "                                                                         StandardScaler(),\n",
       "                                                                         ['thoi_gian_bao_hanh',\n",
       "                                                                          'danh_gia',\n",
       "                                                                          'ram',\n",
       "                                                                          'bo_nho_trong',\n",
       "                                                                          'dung_luong_pin',\n",
       "                                                                          'kich_thuoc_man_hinh',\n",
       "                                                                          'tan_so_quet',\n",
       "                                                                          'cong_suat_sac']),\n",
       "                                                                        ('cat',\n",
       "                                                                         OneHotEncoder(drop='first',\n",
       "                                                                                       handle_unknown='ignore',\n",
       "                                                                                       sparse=False),\n",
       "                                                                         ['he_dieu_hanh',\n",
       "                                                                          'hang_dien_thoai',\n",
       "                                                                          'loai_man_hinh',\n",
       "                                                                          'do_phan_giai_cam_sau'])])),\n",
       "                                       ('regressor', SGDRegressor())]),\n",
       "             param_grid={'regressor__alpha': [0.001, 0.01, 0.1, 1],\n",
       "                         'regressor__learning_rate': ['constant', 'optimal',\n",
       "                                                      'adaptive'],\n",
       "                         'regressor__max_iter': [500, 1000, 1500]},\n",
       "             scoring='neg_mean_squared_error')"
      ]
     },
     "execution_count": 26,
     "metadata": {},
     "output_type": "execute_result"
    }
   ],
   "source": [
    "import warnings\n",
    "warnings.filterwarnings('ignore') # Bỏ qua các cảnh báo\n",
    "\n",
    "grid_search.fit(X_train, y_train)"
   ]
  },
  {
   "cell_type": "markdown",
   "metadata": {},
   "source": [
    "#### Tham số tốt nhất tìm được:"
   ]
  },
  {
   "cell_type": "code",
   "execution_count": 27,
   "metadata": {},
   "outputs": [
    {
     "data": {
      "text/plain": [
       "{'regressor__alpha': 0.001,\n",
       " 'regressor__learning_rate': 'adaptive',\n",
       " 'regressor__max_iter': 1000}"
      ]
     },
     "execution_count": 27,
     "metadata": {},
     "output_type": "execute_result"
    }
   ],
   "source": [
    "grid_search.best_params_"
   ]
  },
  {
   "cell_type": "markdown",
   "metadata": {},
   "source": [
    "### Model Training:"
   ]
  },
  {
   "cell_type": "markdown",
   "metadata": {},
   "source": [
    "#### Huấn luyện mô hình với tham số tốt nhất & tính thời gian:"
   ]
  },
  {
   "cell_type": "code",
   "execution_count": 28,
   "metadata": {},
   "outputs": [],
   "source": [
    "best_params = {'alpha': 0.001,\n",
    "                'learning_rate': 'adaptive',\n",
    "                'max_iter': 500}"
   ]
  },
  {
   "cell_type": "code",
   "execution_count": 29,
   "metadata": {},
   "outputs": [],
   "source": [
    "best_model = Pipeline(steps=[('preprocessor', preprocessor),\n",
    "                            ('regressor', SGDRegressor(**best_params))])"
   ]
  },
  {
   "cell_type": "code",
   "execution_count": 30,
   "metadata": {},
   "outputs": [],
   "source": [
    "time_start = time.time()\n",
    "best_model.fit(X_train, y_train)\n",
    "time_end = time.time()"
   ]
  },
  {
   "cell_type": "code",
   "execution_count": 31,
   "metadata": {},
   "outputs": [
    {
     "name": "stdout",
     "output_type": "stream",
     "text": [
      "Training time: 0.56 seconds\n"
     ]
    }
   ],
   "source": [
    "exe_time = time_end - time_start\n",
    "print(f\"Training time: {exe_time:.2f} seconds\")"
   ]
  },
  {
   "cell_type": "markdown",
   "metadata": {
    "vscode": {
     "languageId": "plaintext"
    }
   },
   "source": [
    "### Model Evaluation:"
   ]
  },
  {
   "cell_type": "markdown",
   "metadata": {},
   "source": [
    "#### Dự đoán giá trị đầu ra trên tập dữ liệu kiểm tra bằng mô hình tốt nhất:"
   ]
  },
  {
   "cell_type": "code",
   "execution_count": 32,
   "metadata": {},
   "outputs": [],
   "source": [
    "y_pred = best_model.predict(X_test)"
   ]
  },
  {
   "cell_type": "markdown",
   "metadata": {},
   "source": [
    "#### Tính toán các chỉ số đánh giá mô hình:"
   ]
  },
  {
   "cell_type": "code",
   "execution_count": 33,
   "metadata": {},
   "outputs": [],
   "source": [
    "mae = mean_absolute_error(y_test, y_pred)\n",
    "mse = mean_squared_error(y_test, y_pred)\n",
    "r2 = r2_score(y_test, y_pred)"
   ]
  },
  {
   "cell_type": "code",
   "execution_count": 34,
   "metadata": {},
   "outputs": [
    {
     "name": "stdout",
     "output_type": "stream",
     "text": [
      "Mean Absolute Error: 2046601.78\n",
      "Mean Squared Error: 7560857266335.01\n",
      "R^2: 0.85\n"
     ]
    }
   ],
   "source": [
    "print(f\"Mean Absolute Error: {mae:.2f}\")\n",
    "print(f\"Mean Squared Error: {mse:.2f}\")\n",
    "print(f\"R^2: {r2:.2f}\")"
   ]
  },
  {
   "cell_type": "markdown",
   "metadata": {},
   "source": [
    "#### Visualization:"
   ]
  },
  {
   "cell_type": "markdown",
   "metadata": {},
   "source": [
    "#### Vẽ biểu đồ so sánh giá trị thực tế và giá trị dự đoán:"
   ]
  },
  {
   "cell_type": "code",
   "execution_count": 35,
   "metadata": {},
   "outputs": [
    {
     "data": {
      "image/png": "[encoded data removed]",
      "text/plain": [
       "<Figure size 1000x600 with 1 Axes>"
      ]
     },
     "metadata": {},
     "output_type": "display_data"
    }
   ],
   "source": [
    "plt.figure(figsize=(10, 6))\n",
    "\n",
    "plt.scatter(y_test, y_pred)\n",
    "plt.xlabel('Actual values')\n",
    "plt.ylabel('Predicted values')\n",
    "plt.title('Predicted values vs Actual values')\n",
    "\n",
    "plt.show()"
   ]
  },
  {
   "cell_type": "markdown",
   "metadata": {},
   "source": [
    "#### Ghi kết quả đánh giá mô hình vào file CSV:"
   ]
  },
  {
   "cell_type": "code",
   "execution_count": 36,
   "metadata": {},
   "outputs": [],
   "source": [
    "model_evaluation = ['SGDRegressor', exe_time, mae, mse, r2]\n",
    "with open('evaluation CSV/model_1_evaluation.csv', 'w', newline='') as file:\n",
    "    writer = csv.writer(file)\n",
    "    writer.writerow(model_evaluation)"
   ]
  }
 ],
 "metadata": {
  "kernelspec": {
   "display_name": "min_ds-env2",
   "language": "python",
   "name": "python3"
  },
  "language_info": {
   "codemirror_mode": {
    "name": "ipython",
    "version": 3
   },
   "file_extension": ".py",
   "mimetype": "text/x-python",
   "name": "python",
   "nbconvert_exporter": "python",
   "pygments_lexer": "ipython3",
   "version": "3.10.15"
  }
 },
 "nbformat": 4,
 "nbformat_minor": 2
}
